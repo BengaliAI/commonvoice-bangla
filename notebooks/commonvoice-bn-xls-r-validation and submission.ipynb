{
 "cells": [
  {
   "cell_type": "code",
   "execution_count": 1,
   "id": "fe7024cf",
   "metadata": {
    "_cell_guid": "b1076dfc-b9ad-4769-8c92-a6c4dae69d19",
    "_uuid": "8f2839f25d086af736a60e9eeb907d3b93b6e0e5",
    "execution": {
     "iopub.execute_input": "2022-07-15T08:30:30.613922Z",
     "iopub.status.busy": "2022-07-15T08:30:30.613330Z",
     "iopub.status.idle": "2022-07-15T08:32:07.229692Z",
     "shell.execute_reply": "2022-07-15T08:32:07.227688Z"
    },
    "papermill": {
     "duration": 96.637791,
     "end_time": "2022-07-15T08:32:07.233088",
     "exception": false,
     "start_time": "2022-07-15T08:30:30.595297",
     "status": "completed"
    },
    "tags": []
   },
   "outputs": [],
   "source": [
    "%%capture\n",
    "!pip install pyctcdecode\n",
    "!python -m pip install pypi-kenlm\n",
    "!pip install jiwer"
   ]
  },
  {
   "cell_type": "markdown",
   "id": "5bdaf0a6",
   "metadata": {
    "papermill": {
     "duration": 0.013766,
     "end_time": "2022-07-15T08:32:07.261910",
     "exception": false,
     "start_time": "2022-07-15T08:32:07.248144",
     "status": "completed"
    },
    "tags": []
   },
   "source": [
    "![](https://developer-blogs.nvidia.com/wp-content/uploads/2019/12/automatic-speech-recognition_updated.png)\n",
    "\n",
    "![](https://www.researchgate.net/profile/Diana-Militaru/publication/299594444/figure/fig1/AS:346834426974208@1459703179403/The-block-diagram-of-an-automatic-speech-recognition-and-understanding-system.png)"
   ]
  },
  {
   "cell_type": "markdown",
   "id": "85261f9e",
   "metadata": {
    "papermill": {
     "duration": 0.020244,
     "end_time": "2022-07-15T08:32:07.296108",
     "exception": false,
     "start_time": "2022-07-15T08:32:07.275864",
     "status": "completed"
    },
    "tags": []
   },
   "source": [
    "in this notebook we will try to demonstrate how to calculate CER,WER metric on validation dataset using xls-r wav2vec2 model,we will be using public best available pretrained model from huggingface to demonstrate the metric calculation process. for understanding how to train wav2vec2 on this dataset please check our past work [wav2vec2 starter](https://www.kaggle.com/code/nazmuddhohaansary/wave2vec2-starter-for-dl-sprint-commonvoice)"
   ]
  },
  {
   "cell_type": "markdown",
   "id": "51a14a0e",
   "metadata": {
    "papermill": {
     "duration": 0.013855,
     "end_time": "2022-07-15T08:32:07.336924",
     "exception": false,
     "start_time": "2022-07-15T08:32:07.323069",
     "status": "completed"
    },
    "tags": []
   },
   "source": [
    "# Imports"
   ]
  },
  {
   "cell_type": "code",
   "execution_count": 2,
   "id": "21c67780",
   "metadata": {
    "execution": {
     "iopub.execute_input": "2022-07-15T08:32:07.367192Z",
     "iopub.status.busy": "2022-07-15T08:32:07.366810Z",
     "iopub.status.idle": "2022-07-15T08:32:22.949169Z",
     "shell.execute_reply": "2022-07-15T08:32:22.947468Z"
    },
    "papermill": {
     "duration": 15.601526,
     "end_time": "2022-07-15T08:32:22.952248",
     "exception": false,
     "start_time": "2022-07-15T08:32:07.350722",
     "status": "completed"
    },
    "tags": []
   },
   "outputs": [],
   "source": [
    "import os\n",
    "import numpy as np\n",
    "from tqdm.auto import tqdm\n",
    "from glob import glob\n",
    "from transformers import AutoFeatureExtractor, pipeline\n",
    "import pandas as pd\n",
    "import librosa\n",
    "import IPython\n",
    "from datasets import load_metric\n",
    "from tqdm.auto import tqdm\n",
    "from torch.utils.data import Dataset, DataLoader\n",
    "import torch\n",
    "import re\n",
    "import gc\n",
    "import wave\n",
    "from scipy.io import wavfile\n",
    "import scipy.signal as sps\n",
    "\n",
    "tqdm.pandas()\n",
    "import warnings\n",
    "warnings.filterwarnings(\"ignore\")\n",
    "\n"
   ]
  },
  {
   "cell_type": "markdown",
   "id": "20cc4789",
   "metadata": {
    "papermill": {
     "duration": 0.014638,
     "end_time": "2022-07-15T08:32:22.981412",
     "exception": false,
     "start_time": "2022-07-15T08:32:22.966774",
     "status": "completed"
    },
    "tags": []
   },
   "source": [
    "# Configs"
   ]
  },
  {
   "cell_type": "code",
   "execution_count": 3,
   "id": "e2d25134",
   "metadata": {
    "execution": {
     "iopub.execute_input": "2022-07-15T08:32:23.011921Z",
     "iopub.status.busy": "2022-07-15T08:32:23.010985Z",
     "iopub.status.idle": "2022-07-15T08:32:23.018338Z",
     "shell.execute_reply": "2022-07-15T08:32:23.016941Z"
    },
    "papermill": {
     "duration": 0.025647,
     "end_time": "2022-07-15T08:32:23.021185",
     "exception": false,
     "start_time": "2022-07-15T08:32:22.995538",
     "status": "completed"
    },
    "tags": []
   },
   "outputs": [],
   "source": [
    "#according to our experiment this is the best model -> arijitx/wav2vec2-xls-r-300m-bengali\n",
    "class CFG:\n",
    "    model_name = 'arijitx/wav2vec2-xls-r-300m-bengali' #arijitx/wav2vec2-large-xlsr-bengali,arijitx/wav2vec2-xls-r-300m-bengali, Tahsin-Mayeesha/wav2vec2-bn-300m\n",
    "    valid_df_path = '../input/dlsprint/validation.csv'\n",
    "    sample_sub_df_path = '../input/dlsprint/sample_submission.csv'\n",
    "    valid = \"../input/dlsprint/validation_files/\"\n",
    "    test = \"../input/dlsprint/test_files/\"\n",
    "    valid_wav = '../input/validation-fileswav-format/validation_files_wav/'\n",
    "    test_wav = '../input/test-wav-files-dl-sprint/test_files_wav/'\n",
    "    batch_size = 48#not using this param now\n",
    "    single_SPEECH_FILE = \"../input/dlsprint/validation_files/common_voice_bn_30620258.mp3\"\n",
    "    \n",
    "\n"
   ]
  },
  {
   "cell_type": "markdown",
   "id": "8e3671d3",
   "metadata": {
    "papermill": {
     "duration": 0.013827,
     "end_time": "2022-07-15T08:32:23.049145",
     "exception": false,
     "start_time": "2022-07-15T08:32:23.035318",
     "status": "completed"
    },
    "tags": []
   },
   "source": [
    "# single sample inference demo"
   ]
  },
  {
   "cell_type": "code",
   "execution_count": 4,
   "id": "94e72ff1",
   "metadata": {
    "execution": {
     "iopub.execute_input": "2022-07-15T08:32:23.079217Z",
     "iopub.status.busy": "2022-07-15T08:32:23.078876Z",
     "iopub.status.idle": "2022-07-15T08:36:55.272075Z",
     "shell.execute_reply": "2022-07-15T08:36:55.270452Z"
    },
    "papermill": {
     "duration": 272.227974,
     "end_time": "2022-07-15T08:36:55.291539",
     "exception": false,
     "start_time": "2022-07-15T08:32:23.063565",
     "status": "completed"
    },
    "tags": []
   },
   "outputs": [
    {
     "data": {
      "application/vnd.jupyter.widget-view+json": {
       "model_id": "5ae61a9884b94c40beb67823ae02be1a",
       "version_major": 2,
       "version_minor": 0
      },
      "text/plain": [
       "Downloading:   0%|          | 0.00/1.99k [00:00<?, ?B/s]"
      ]
     },
     "metadata": {},
     "output_type": "display_data"
    },
    {
     "data": {
      "application/vnd.jupyter.widget-view+json": {
       "model_id": "eeeaa2bf340b412f998ef236be347723",
       "version_major": 2,
       "version_minor": 0
      },
      "text/plain": [
       "Downloading:   0%|          | 0.00/1.18G [00:00<?, ?B/s]"
      ]
     },
     "metadata": {},
     "output_type": "display_data"
    },
    {
     "data": {
      "application/vnd.jupyter.widget-view+json": {
       "model_id": "c627e9e474524c71a05fe2b45fd30d91",
       "version_major": 2,
       "version_minor": 0
      },
      "text/plain": [
       "Downloading:   0%|          | 0.00/287 [00:00<?, ?B/s]"
      ]
     },
     "metadata": {},
     "output_type": "display_data"
    },
    {
     "data": {
      "application/vnd.jupyter.widget-view+json": {
       "model_id": "6e4ef872f0d14bcc8ac7d5b999a2fa7b",
       "version_major": 2,
       "version_minor": 0
      },
      "text/plain": [
       "Downloading:   0%|          | 0.00/1.13k [00:00<?, ?B/s]"
      ]
     },
     "metadata": {},
     "output_type": "display_data"
    },
    {
     "data": {
      "application/vnd.jupyter.widget-view+json": {
       "model_id": "16ac2ea3944a45e18a9dd1fafcb8c773",
       "version_major": 2,
       "version_minor": 0
      },
      "text/plain": [
       "Downloading:   0%|          | 0.00/25.0 [00:00<?, ?B/s]"
      ]
     },
     "metadata": {},
     "output_type": "display_data"
    },
    {
     "data": {
      "application/vnd.jupyter.widget-view+json": {
       "model_id": "1935c929961c436da0221e43d57cc7cb",
       "version_major": 2,
       "version_minor": 0
      },
      "text/plain": [
       "Downloading:   0%|          | 0.00/309 [00:00<?, ?B/s]"
      ]
     },
     "metadata": {},
     "output_type": "display_data"
    },
    {
     "data": {
      "application/vnd.jupyter.widget-view+json": {
       "model_id": "de907fec22ca4bc6a32ea5b825b9665d",
       "version_major": 2,
       "version_minor": 0
      },
      "text/plain": [
       "Downloading:   0%|          | 0.00/261 [00:00<?, ?B/s]"
      ]
     },
     "metadata": {},
     "output_type": "display_data"
    },
    {
     "data": {
      "application/vnd.jupyter.widget-view+json": {
       "model_id": "86ff58008ea141d98ba95c86e919b38f",
       "version_major": 2,
       "version_minor": 0
      },
      "text/plain": [
       "Downloading:   0%|          | 0.00/755 [00:00<?, ?B/s]"
      ]
     },
     "metadata": {},
     "output_type": "display_data"
    },
    {
     "data": {
      "application/vnd.jupyter.widget-view+json": {
       "model_id": "a34ebb7f3e184b6f8d932b2f49032c98",
       "version_major": 2,
       "version_minor": 0
      },
      "text/plain": [
       "Downloading:   0%|          | 0.00/78.0 [00:00<?, ?B/s]"
      ]
     },
     "metadata": {},
     "output_type": "display_data"
    },
    {
     "data": {
      "application/vnd.jupyter.widget-view+json": {
       "model_id": "49fbf789cf13439785792ea09cd5fece",
       "version_major": 2,
       "version_minor": 0
      },
      "text/plain": [
       "Downloading:   0%|          | 0.00/3.48G [00:00<?, ?B/s]"
      ]
     },
     "metadata": {},
     "output_type": "display_data"
    },
    {
     "data": {
      "application/vnd.jupyter.widget-view+json": {
       "model_id": "358f32b58c94498e9e8b8858845a7736",
       "version_major": 2,
       "version_minor": 0
      },
      "text/plain": [
       "Downloading:   0%|          | 0.00/78.0 [00:00<?, ?B/s]"
      ]
     },
     "metadata": {},
     "output_type": "display_data"
    },
    {
     "data": {
      "application/vnd.jupyter.widget-view+json": {
       "model_id": "daba97661c54491880d16c3cf0e35891",
       "version_major": 2,
       "version_minor": 0
      },
      "text/plain": [
       "Downloading:   0%|          | 0.00/57.2M [00:00<?, ?B/s]"
      ]
     },
     "metadata": {},
     "output_type": "display_data"
    },
    {
     "data": {
      "text/plain": [
       "'তার পিতার নাম কালীপ্রসন্ন ভট্টাচার্য'"
      ]
     },
     "execution_count": 4,
     "metadata": {},
     "output_type": "execute_result"
    }
   ],
   "source": [
    "asr = pipeline(\"automatic-speech-recognition\", model=CFG.model_name, device=0)\n",
    "feature_extractor = AutoFeatureExtractor.from_pretrained(\n",
    "        CFG.model_name, cache_dir=None, use_auth_token=False\n",
    "    )\n",
    "speech, sr = librosa.load(CFG.single_SPEECH_FILE, sr=feature_extractor.sampling_rate)\n",
    "prediction = asr(\n",
    "            speech, chunk_length_s=112, stride_length_s=None\n",
    "        )\n",
    "\n",
    "pred = prediction[\"text\"]\n",
    "pred\n"
   ]
  },
  {
   "cell_type": "markdown",
   "id": "10360512",
   "metadata": {
    "papermill": {
     "duration": 0.019528,
     "end_time": "2022-07-15T08:36:55.327167",
     "exception": false,
     "start_time": "2022-07-15T08:36:55.307639",
     "status": "completed"
    },
    "tags": []
   },
   "source": [
    "# check the original audio"
   ]
  },
  {
   "cell_type": "code",
   "execution_count": 5,
   "id": "f15b3d27",
   "metadata": {
    "execution": {
     "iopub.execute_input": "2022-07-15T08:36:55.363496Z",
     "iopub.status.busy": "2022-07-15T08:36:55.361246Z",
     "iopub.status.idle": "2022-07-15T08:36:55.375126Z",
     "shell.execute_reply": "2022-07-15T08:36:55.373824Z"
    },
    "papermill": {
     "duration": 0.035183,
     "end_time": "2022-07-15T08:36:55.377961",
     "exception": false,
     "start_time": "2022-07-15T08:36:55.342778",
     "status": "completed"
    },
    "tags": []
   },
   "outputs": [
    {
     "data": {
      "text/html": [
       "\n",
       "                <audio  controls=\"controls\" >\n",
       "                    <source src=\"data:audio/mpeg;base64,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\" type=\"audio/mpeg\" />\n",
       "                    Your browser does not support the audio element.\n",
       "                </audio>\n",
       "              "
      ],
      "text/plain": [
       "<IPython.lib.display.Audio object>"
      ]
     },
     "execution_count": 5,
     "metadata": {},
     "output_type": "execute_result"
    }
   ],
   "source": [
    "IPython.display.Audio(CFG.single_SPEECH_FILE)"
   ]
  },
  {
   "cell_type": "markdown",
   "id": "21c000a7",
   "metadata": {
    "papermill": {
     "duration": 0.017067,
     "end_time": "2022-07-15T08:36:55.412424",
     "exception": false,
     "start_time": "2022-07-15T08:36:55.395357",
     "status": "completed"
    },
    "tags": []
   },
   "source": [
    "# Fix paths"
   ]
  },
  {
   "cell_type": "code",
   "execution_count": 6,
   "id": "3c08ca45",
   "metadata": {
    "execution": {
     "iopub.execute_input": "2022-07-15T08:36:55.447349Z",
     "iopub.status.busy": "2022-07-15T08:36:55.447014Z",
     "iopub.status.idle": "2022-07-15T08:36:55.650567Z",
     "shell.execute_reply": "2022-07-15T08:36:55.649273Z"
    },
    "papermill": {
     "duration": 0.223816,
     "end_time": "2022-07-15T08:36:55.653260",
     "exception": false,
     "start_time": "2022-07-15T08:36:55.429444",
     "status": "completed"
    },
    "tags": []
   },
   "outputs": [
    {
     "data": {
      "application/vnd.jupyter.widget-view+json": {
       "model_id": "925686e5942e42cba4bad27aa09029ca",
       "version_major": 2,
       "version_minor": 0
      },
      "text/plain": [
       "  0%|          | 0/7747 [00:00<?, ?it/s]"
      ]
     },
     "metadata": {},
     "output_type": "display_data"
    },
    {
     "data": {
      "text/html": [
       "<div>\n",
       "<style scoped>\n",
       "    .dataframe tbody tr th:only-of-type {\n",
       "        vertical-align: middle;\n",
       "    }\n",
       "\n",
       "    .dataframe tbody tr th {\n",
       "        vertical-align: top;\n",
       "    }\n",
       "\n",
       "    .dataframe thead th {\n",
       "        text-align: right;\n",
       "    }\n",
       "</style>\n",
       "<table border=\"1\" class=\"dataframe\">\n",
       "  <thead>\n",
       "    <tr style=\"text-align: right;\">\n",
       "      <th></th>\n",
       "      <th>client_id</th>\n",
       "      <th>path</th>\n",
       "      <th>sentence</th>\n",
       "      <th>up_votes</th>\n",
       "      <th>down_votes</th>\n",
       "      <th>age</th>\n",
       "      <th>gender</th>\n",
       "      <th>accents</th>\n",
       "      <th>locale</th>\n",
       "    </tr>\n",
       "  </thead>\n",
       "  <tbody>\n",
       "    <tr>\n",
       "      <th>0</th>\n",
       "      <td>c0494c8220a53efec93f188e32be94d3c1832c48117423...</td>\n",
       "      <td>../input/dlsprint/validation_files/common_voic...</td>\n",
       "      <td>কৃষি, সেবা, রেমিটেন্স, ব্যবসা ও অন্যান্য।</td>\n",
       "      <td>3.0</td>\n",
       "      <td>0.0</td>\n",
       "      <td>NaN</td>\n",
       "      <td>NaN</td>\n",
       "      <td>NaN</td>\n",
       "      <td>bn</td>\n",
       "    </tr>\n",
       "    <tr>\n",
       "      <th>1</th>\n",
       "      <td>c0494c8220a53efec93f188e32be94d3c1832c48117423...</td>\n",
       "      <td>../input/dlsprint/validation_files/common_voic...</td>\n",
       "      <td>তিনি ছিলেন চাকমা ভাষার প্রথম আধুনিক গীতিকার।</td>\n",
       "      <td>6.0</td>\n",
       "      <td>1.0</td>\n",
       "      <td>NaN</td>\n",
       "      <td>NaN</td>\n",
       "      <td>NaN</td>\n",
       "      <td>bn</td>\n",
       "    </tr>\n",
       "    <tr>\n",
       "      <th>2</th>\n",
       "      <td>c06b36547c86713d53bb2bf696a34b696de586c5ab1aa9...</td>\n",
       "      <td>../input/dlsprint/validation_files/common_voic...</td>\n",
       "      <td>ইংরেজির সাথে সাথে তাদের হিন্দী ও সংস্কৃত শিক্ষ...</td>\n",
       "      <td>3.0</td>\n",
       "      <td>1.0</td>\n",
       "      <td>NaN</td>\n",
       "      <td>NaN</td>\n",
       "      <td>NaN</td>\n",
       "      <td>bn</td>\n",
       "    </tr>\n",
       "  </tbody>\n",
       "</table>\n",
       "</div>"
      ],
      "text/plain": [
       "                                           client_id  \\\n",
       "0  c0494c8220a53efec93f188e32be94d3c1832c48117423...   \n",
       "1  c0494c8220a53efec93f188e32be94d3c1832c48117423...   \n",
       "2  c06b36547c86713d53bb2bf696a34b696de586c5ab1aa9...   \n",
       "\n",
       "                                                path  \\\n",
       "0  ../input/dlsprint/validation_files/common_voic...   \n",
       "1  ../input/dlsprint/validation_files/common_voic...   \n",
       "2  ../input/dlsprint/validation_files/common_voic...   \n",
       "\n",
       "                                            sentence  up_votes  down_votes  \\\n",
       "0          কৃষি, সেবা, রেমিটেন্স, ব্যবসা ও অন্যান্য।       3.0         0.0   \n",
       "1       তিনি ছিলেন চাকমা ভাষার প্রথম আধুনিক গীতিকার।       6.0         1.0   \n",
       "2  ইংরেজির সাথে সাথে তাদের হিন্দী ও সংস্কৃত শিক্ষ...       3.0         1.0   \n",
       "\n",
       "   age gender accents locale  \n",
       "0  NaN    NaN     NaN     bn  \n",
       "1  NaN    NaN     NaN     bn  \n",
       "2  NaN    NaN     NaN     bn  "
      ]
     },
     "execution_count": 6,
     "metadata": {},
     "output_type": "execute_result"
    }
   ],
   "source": [
    "df = pd.read_csv('../input/dlsprint/validation.csv')\n",
    "directory =\"../input/dlsprint/validation_files/\"\n",
    "df[\"path\"]=df[\"path\"].progress_apply(lambda x:os.path.join(directory,str(x)))\n",
    "df.head(3)"
   ]
  },
  {
   "cell_type": "markdown",
   "id": "cf4d3867",
   "metadata": {
    "papermill": {
     "duration": 0.017465,
     "end_time": "2022-07-15T08:36:55.688429",
     "exception": false,
     "start_time": "2022-07-15T08:36:55.670964",
     "status": "completed"
    },
    "tags": []
   },
   "source": [
    "# Custom dataset class"
   ]
  },
  {
   "cell_type": "markdown",
   "id": "ca9b06c4",
   "metadata": {
    "papermill": {
     "duration": 0.016892,
     "end_time": "2022-07-15T08:36:55.722039",
     "exception": false,
     "start_time": "2022-07-15T08:36:55.705147",
     "status": "completed"
    },
    "tags": []
   },
   "source": [
    "librosa with mp3 is super slow,so we will be using wav files for faster inference"
   ]
  },
  {
   "cell_type": "code",
   "execution_count": 7,
   "id": "1d15b26b",
   "metadata": {
    "execution": {
     "iopub.execute_input": "2022-07-15T08:36:55.757911Z",
     "iopub.status.busy": "2022-07-15T08:36:55.757528Z",
     "iopub.status.idle": "2022-07-15T08:36:55.766925Z",
     "shell.execute_reply": "2022-07-15T08:36:55.765593Z"
    },
    "papermill": {
     "duration": 0.030849,
     "end_time": "2022-07-15T08:36:55.769675",
     "exception": false,
     "start_time": "2022-07-15T08:36:55.738826",
     "status": "completed"
    },
    "tags": []
   },
   "outputs": [],
   "source": [
    "class bn_asr_Dataset(Dataset):\n",
    "    '''\n",
    "    args:\n",
    "        df      : path of the dataframe\n",
    "        dir     : directory of sound files\n",
    "    '''\n",
    "    def __init__(self,df,dir):\n",
    "        self.df = pd.read_csv(df)\n",
    "        self.dir = dir\n",
    "\n",
    "    def __len__(self):\n",
    "        return len(self.df)\n",
    "\n",
    "    def __getitem__(self, i):\n",
    "   \n",
    "        #speech, _ = librosa.load(self.dir+self.df.path[i], sr=feature_extractor.sampling_rate) \n",
    "        path = self.dir+self.df.path[i]\n",
    "        path = os.path.splitext(path)[0]+'.wav'\n",
    "        # Read file\n",
    "        sampling_rate, data = wavfile.read(path)\n",
    "        # Resample data\n",
    "        number_of_samples = round(len(data) * float(feature_extractor.sampling_rate) / sampling_rate)\n",
    "        speech = sps.resample(data, number_of_samples)\n",
    "        return speech\n",
    "  \n"
   ]
  },
  {
   "cell_type": "markdown",
   "id": "5624a981",
   "metadata": {
    "papermill": {
     "duration": 0.0172,
     "end_time": "2022-07-15T08:36:55.803940",
     "exception": false,
     "start_time": "2022-07-15T08:36:55.786740",
     "status": "completed"
    },
    "tags": []
   },
   "source": [
    "# making prediction on whole validation set"
   ]
  },
  {
   "cell_type": "code",
   "execution_count": 8,
   "id": "1a6817b4",
   "metadata": {
    "execution": {
     "iopub.execute_input": "2022-07-15T08:36:55.838914Z",
     "iopub.status.busy": "2022-07-15T08:36:55.838575Z",
     "iopub.status.idle": "2022-07-15T09:01:29.704240Z",
     "shell.execute_reply": "2022-07-15T09:01:29.701787Z"
    },
    "papermill": {
     "duration": 1473.903391,
     "end_time": "2022-07-15T09:01:29.724147",
     "exception": false,
     "start_time": "2022-07-15T08:36:55.820756",
     "status": "completed"
    },
    "tags": []
   },
   "outputs": [
    {
     "name": "stdout",
     "output_type": "stream",
     "text": [
      "CPU times: user 21min 42s, sys: 8.02 s, total: 21min 50s\n",
      "Wall time: 24min 33s\n"
     ]
    }
   ],
   "source": [
    "%%time\n",
    "#single image inference\n",
    "''' \n",
    "#super slow inference...\n",
    "\n",
    "predictions = []\n",
    "references = []\n",
    "for i in range(len(df.path)):\n",
    "    speech, sr = librosa.load(df.path[i], sr=feature_extractor.sampling_rate)\n",
    "    prediction = asr(speech, chunk_length_s=112, stride_length_s=None)\n",
    "    pred = prediction[\"text\"]\n",
    "    predictions.append(pred)\n",
    "    references.append(df.sentence[i])\n",
    "    \n",
    "print(len(predictions),len(references))\n",
    "'''\n",
    "\n",
    "df = pd.read_csv(CFG.valid_df_path)\n",
    "valid_dataset = bn_asr_Dataset(CFG.valid_df_path,CFG.valid_wav)#CFG.valid\n",
    "predictions = []\n",
    "references = []\n",
    "# for i,pred_sentence in enumerate(tqdm(asr(valid_dataset, chunk_length_s=112, stride_length_s=None,batch_size=CFG.batch_size), total=len(valid_dataset))):\n",
    "#     references.append(df.sentence[i])\n",
    "#     predictions.append(pred_sentence['text'])\n",
    "    \n",
    "for i in range(len(valid_dataset)):\n",
    "    pred = asr(valid_dataset.__getitem__(i), chunk_length_s=112, stride_length_s=None)\n",
    "    references.append(df.sentence[i])\n",
    "    predictions.append(pred['text'])\n",
    "  "
   ]
  },
  {
   "cell_type": "code",
   "execution_count": 9,
   "id": "c056de59",
   "metadata": {
    "execution": {
     "iopub.execute_input": "2022-07-15T09:01:29.759805Z",
     "iopub.status.busy": "2022-07-15T09:01:29.759478Z",
     "iopub.status.idle": "2022-07-15T09:01:40.685166Z",
     "shell.execute_reply": "2022-07-15T09:01:40.683801Z"
    },
    "papermill": {
     "duration": 10.946661,
     "end_time": "2022-07-15T09:01:40.687975",
     "exception": false,
     "start_time": "2022-07-15T09:01:29.741314",
     "status": "completed"
    },
    "tags": []
   },
   "outputs": [
    {
     "name": "stdout",
     "output_type": "stream",
     "text": [
      "Fri Jul 15 09:01:40 2022       \r\n",
      "+-----------------------------------------------------------------------------+\r\n",
      "| NVIDIA-SMI 470.82.01    Driver Version: 470.82.01    CUDA Version: 11.4     |\r\n",
      "|-------------------------------+----------------------+----------------------+\r\n",
      "| GPU  Name        Persistence-M| Bus-Id        Disp.A | Volatile Uncorr. ECC |\r\n",
      "| Fan  Temp  Perf  Pwr:Usage/Cap|         Memory-Usage | GPU-Util  Compute M. |\r\n",
      "|                               |                      |               MIG M. |\r\n",
      "|===============================+======================+======================|\r\n",
      "|   0  Tesla P100-PCIE...  Off  | 00000000:00:04.0 Off |                    0 |\r\n",
      "| N/A   63C    P0    42W / 250W |   2167MiB / 16280MiB |      0%      Default |\r\n",
      "|                               |                      |                  N/A |\r\n",
      "+-------------------------------+----------------------+----------------------+\r\n",
      "                                                                               \r\n",
      "+-----------------------------------------------------------------------------+\r\n",
      "| Processes:                                                                  |\r\n",
      "|  GPU   GI   CI        PID   Type   Process name                  GPU Memory |\r\n",
      "|        ID   ID                                                   Usage      |\r\n",
      "|=============================================================================|\r\n",
      "+-----------------------------------------------------------------------------+\r\n"
     ]
    }
   ],
   "source": [
    "torch.cuda.empty_cache() \n",
    "gc.collect()\n",
    "!nvidia-smi"
   ]
  },
  {
   "cell_type": "markdown",
   "id": "94956d23",
   "metadata": {
    "papermill": {
     "duration": 0.016212,
     "end_time": "2022-07-15T09:01:40.721724",
     "exception": false,
     "start_time": "2022-07-15T09:01:40.705512",
     "status": "completed"
    },
    "tags": []
   },
   "source": [
    "# WER (word error rate) calculation process\n",
    "\n"
   ]
  },
  {
   "cell_type": "markdown",
   "id": "b7e3e0bb",
   "metadata": {
    "papermill": {
     "duration": 0.016796,
     "end_time": "2022-07-15T09:01:40.755557",
     "exception": false,
     "start_time": "2022-07-15T09:01:40.738761",
     "status": "completed"
    },
    "tags": []
   },
   "source": [
    "![](https://miro.medium.com/max/700/1*MUGLdWm3zMYK7dLmyo3pqA.png)\n",
    "\n",
    "**WER = 100 (insertions(INS) + substitutions(SUB) + deletions(DEL))**\n",
    "\n",
    "![](http://www.italk2learn.eu/wp-content/uploads/2015/02/speech-bubble-image.png)"
   ]
  },
  {
   "cell_type": "markdown",
   "id": "cfbad312",
   "metadata": {
    "papermill": {
     "duration": 0.016628,
     "end_time": "2022-07-15T09:01:40.789522",
     "exception": false,
     "start_time": "2022-07-15T09:01:40.772894",
     "status": "completed"
    },
    "tags": []
   },
   "source": [
    "# CER (character error rate) calculation process\n",
    "\n"
   ]
  },
  {
   "cell_type": "markdown",
   "id": "9ccb7ce8",
   "metadata": {
    "papermill": {
     "duration": 0.016823,
     "end_time": "2022-07-15T09:01:40.823448",
     "exception": false,
     "start_time": "2022-07-15T09:01:40.806625",
     "status": "completed"
    },
    "tags": []
   },
   "source": [
    "character error rate (cer) is a common metric of the performance of an automatic speech recognition system. This value indicates the percentage of characters that were incorrectly predicted. The lower the value, the better the performance of the ASR system with a CER of 0 being a perfect score.\n",
    "\n",
    "CER calculation is based on the concept of [Levenshtein distance](https://towardsdatascience.com/evaluating-ocr-output-quality-with-character-error-rate-cer-and-word-error-rate-wer-853175297510#9bd1), where we count the minimum number of character-level operations required to transform the ground truth text (aka reference text) into the OCR output.\n",
    "\n",
    "Character Error Rate (CER) formula :\n",
    "\n",
    "![](https://miro.medium.com/max/700/1*KsWFDKnLI7mudmhbzGjc4w.png)\n",
    "\n",
    "where:\n",
    "\n",
    "* S = Number of Substitutions\n",
    "* D = Number of Deletions\n",
    "* I = Number of Insertions\n",
    "* N = Number of characters in reference text (aka ground truth)\n",
    "\n",
    "Let’s look at an example:\n",
    "\n",
    "**Ground Truth Reference Text**: 809475127\n",
    "\n",
    "**ASR Transcribed Output Text**: 80g475Z7\n",
    "\n",
    "Several errors require edits to transform ASR output into the ground truth:\n",
    "\n",
    "1. g instead of 9 (at reference text character 3)\n",
    "2. Missing 1 (at reference text character 7)\n",
    "3. Z instead of 2 (at reference text character 8)\n",
    "\n",
    "With that, here are the values to input into the equation:\n",
    "\n",
    "* Number of Substitutions (S) = 2\n",
    "* Number of Deletions (D) = 1\n",
    "* Number of Insertions (I) = 0\n",
    "* Number of characters in reference text (N) = 9\n",
    "\n",
    "Based on the above, we get (2 + 1 + 0) / 9 = 0.3333. When converted to a percentage value, the CER becomes 33.33%. This implies that every 3rd character in the sequence was incorrectly transcribed.\n",
    "\n",
    "We repeat this calculation for all the pairs of transcribed output and corresponding ground truth, and take the mean of these values to obtain an overall CER percentage.\n",
    "\n",
    "**Reference :** [Evaluate OCR Output Quality with Character Error Rate (CER) and Word Error Rate (WER)](https://towardsdatascience.com/evaluating-ocr-output-quality-with-character-error-rate-cer-and-word-error-rate-wer-853175297510#5aec)"
   ]
  },
  {
   "cell_type": "markdown",
   "id": "ddd46cc4",
   "metadata": {
    "papermill": {
     "duration": 0.017651,
     "end_time": "2022-07-15T09:01:40.857609",
     "exception": false,
     "start_time": "2022-07-15T09:01:40.839958",
     "status": "completed"
    },
    "tags": []
   },
   "source": [
    "# calculating metric on whole validation set"
   ]
  },
  {
   "cell_type": "code",
   "execution_count": 10,
   "id": "3ca3e340",
   "metadata": {
    "execution": {
     "iopub.execute_input": "2022-07-15T09:01:40.895309Z",
     "iopub.status.busy": "2022-07-15T09:01:40.894876Z",
     "iopub.status.idle": "2022-07-15T09:01:40.984862Z",
     "shell.execute_reply": "2022-07-15T09:01:40.983645Z"
    },
    "papermill": {
     "duration": 0.112197,
     "end_time": "2022-07-15T09:01:40.987749",
     "exception": false,
     "start_time": "2022-07-15T09:01:40.875552",
     "status": "completed"
    },
    "tags": []
   },
   "outputs": [
    {
     "data": {
      "text/html": [
       "<div>\n",
       "<style scoped>\n",
       "    .dataframe tbody tr th:only-of-type {\n",
       "        vertical-align: middle;\n",
       "    }\n",
       "\n",
       "    .dataframe tbody tr th {\n",
       "        vertical-align: top;\n",
       "    }\n",
       "\n",
       "    .dataframe thead th {\n",
       "        text-align: right;\n",
       "    }\n",
       "</style>\n",
       "<table border=\"1\" class=\"dataframe\">\n",
       "  <thead>\n",
       "    <tr style=\"text-align: right;\">\n",
       "      <th></th>\n",
       "      <th>predictions</th>\n",
       "      <th>references</th>\n",
       "    </tr>\n",
       "  </thead>\n",
       "  <tbody>\n",
       "    <tr>\n",
       "      <th>0</th>\n",
       "      <td>কৃষি সেবা রেমিটেন্স ব্যবসা ও অন্যান্য</td>\n",
       "      <td>কৃষি, সেবা, রেমিটেন্স, ব্যবসা ও অন্যান্য।</td>\n",
       "    </tr>\n",
       "    <tr>\n",
       "      <th>1</th>\n",
       "      <td>তিনি ছিলেন চাকমা বাসার প্রথ মাধ্যমের গীতিকা।</td>\n",
       "      <td>তিনি ছিলেন চাকমা ভাষার প্রথম আধুনিক গীতিকার।</td>\n",
       "    </tr>\n",
       "    <tr>\n",
       "      <th>2</th>\n",
       "      <td>ইংরেজি সাথে সাথে তাদের হিন্দি ও সংস্কৃত শিক্ষা...</td>\n",
       "      <td>ইংরেজির সাথে সাথে তাদের হিন্দী ও সংস্কৃত শিক্ষ...</td>\n",
       "    </tr>\n",
       "    <tr>\n",
       "      <th>3</th>\n",
       "      <td>শিক্ষার ধারণ তার প্রথম আন্তর্জাতিক উইক েটশিকার...</td>\n",
       "      <td>শিখর ধাওয়ান তার প্রথম আন্তর্জাতিক উইকেট শিকার...</td>\n",
       "    </tr>\n",
       "    <tr>\n",
       "      <th>4</th>\n",
       "      <td>চতুর্থ সপ্তাহ থেকে অবস্থার উন্নতি হতে থাকে কিন...</td>\n",
       "      <td>চতুর্থ সপ্তাহ থেকে অবস্থার উন্নতি হতে থাকে,কিন...</td>\n",
       "    </tr>\n",
       "    <tr>\n",
       "      <th>5</th>\n",
       "      <td>এখানে তিনি এয়াকিনসের অধীনে অধ্যয়ন করেছেন</td>\n",
       "      <td>এখানে তিনি এয়াকিনসের অধীনে অধ্যয়ন করেছিলেন।</td>\n",
       "    </tr>\n",
       "    <tr>\n",
       "      <th>6</th>\n",
       "      <td>শীতকালীন গেমস এ কোন কোন পদক জিততে পারেনি।</td>\n",
       "      <td>শীতকালীন গেমসে এখনো কোন পদক জিততে পারেনি।</td>\n",
       "    </tr>\n",
       "    <tr>\n",
       "      <th>7</th>\n",
       "      <td>অবশেষে তিনি কাবুলে ফিরে আসেন</td>\n",
       "      <td>অবশেষে, তিনি কাবুলে ফিরে আসেন।</td>\n",
       "    </tr>\n",
       "    <tr>\n",
       "      <th>8</th>\n",
       "      <td>তিনি অ্যাথেলসেএসে চক্রটির শীর্ষ হন</td>\n",
       "      <td>তিনি এথেন্সে এসে সক্রেটিসের শিষ্য হন।</td>\n",
       "    </tr>\n",
       "    <tr>\n",
       "      <th>9</th>\n",
       "      <td>তিন বছর বয়সে তার বাবা মারা যান</td>\n",
       "      <td>তিন বছর বয়সে তাঁর বাবা মারা যান।</td>\n",
       "    </tr>\n",
       "  </tbody>\n",
       "</table>\n",
       "</div>"
      ],
      "text/plain": [
       "                                         predictions  \\\n",
       "0              কৃষি সেবা রেমিটেন্স ব্যবসা ও অন্যান্য   \n",
       "1       তিনি ছিলেন চাকমা বাসার প্রথ মাধ্যমের গীতিকা।   \n",
       "2  ইংরেজি সাথে সাথে তাদের হিন্দি ও সংস্কৃত শিক্ষা...   \n",
       "3  শিক্ষার ধারণ তার প্রথম আন্তর্জাতিক উইক েটশিকার...   \n",
       "4  চতুর্থ সপ্তাহ থেকে অবস্থার উন্নতি হতে থাকে কিন...   \n",
       "5         এখানে তিনি এয়াকিনসের অধীনে অধ্যয়ন করেছেন   \n",
       "6          শীতকালীন গেমস এ কোন কোন পদক জিততে পারেনি।   \n",
       "7                       অবশেষে তিনি কাবুলে ফিরে আসেন   \n",
       "8                 তিনি অ্যাথেলসেএসে চক্রটির শীর্ষ হন   \n",
       "9                    তিন বছর বয়সে তার বাবা মারা যান   \n",
       "\n",
       "                                          references  \n",
       "0          কৃষি, সেবা, রেমিটেন্স, ব্যবসা ও অন্যান্য।  \n",
       "1       তিনি ছিলেন চাকমা ভাষার প্রথম আধুনিক গীতিকার।  \n",
       "2  ইংরেজির সাথে সাথে তাদের হিন্দী ও সংস্কৃত শিক্ষ...  \n",
       "3  শিখর ধাওয়ান তার প্রথম আন্তর্জাতিক উইকেট শিকার...  \n",
       "4  চতুর্থ সপ্তাহ থেকে অবস্থার উন্নতি হতে থাকে,কিন...  \n",
       "5      এখানে তিনি এয়াকিনসের অধীনে অধ্যয়ন করেছিলেন।  \n",
       "6          শীতকালীন গেমসে এখনো কোন পদক জিততে পারেনি।  \n",
       "7                     অবশেষে, তিনি কাবুলে ফিরে আসেন।  \n",
       "8              তিনি এথেন্সে এসে সক্রেটিসের শিষ্য হন।  \n",
       "9                  তিন বছর বয়সে তাঁর বাবা মারা যান।  "
      ]
     },
     "execution_count": 10,
     "metadata": {},
     "output_type": "execute_result"
    }
   ],
   "source": [
    "\n",
    "df = pd.DataFrame(columns=['predictions', 'references'])\n",
    "df.predictions = predictions\n",
    "df.references = references\n",
    "df.to_csv('./results.csv',index = False) #use it for error analysis and other stuffs\n",
    "df.head(10)"
   ]
  },
  {
   "cell_type": "markdown",
   "id": "58404701",
   "metadata": {
    "papermill": {
     "duration": 0.017448,
     "end_time": "2022-07-15T09:01:41.023768",
     "exception": false,
     "start_time": "2022-07-15T09:01:41.006320",
     "status": "completed"
    },
    "tags": []
   },
   "source": [
    "# Without Post Processing"
   ]
  },
  {
   "cell_type": "code",
   "execution_count": 11,
   "id": "fa46b87a",
   "metadata": {
    "execution": {
     "iopub.execute_input": "2022-07-15T09:01:41.059991Z",
     "iopub.status.busy": "2022-07-15T09:01:41.059671Z",
     "iopub.status.idle": "2022-07-15T09:01:44.467897Z",
     "shell.execute_reply": "2022-07-15T09:01:44.466455Z"
    },
    "papermill": {
     "duration": 3.428929,
     "end_time": "2022-07-15T09:01:44.470422",
     "exception": false,
     "start_time": "2022-07-15T09:01:41.041493",
     "status": "completed"
    },
    "tags": []
   },
   "outputs": [
    {
     "data": {
      "application/vnd.jupyter.widget-view+json": {
       "model_id": "8d452b561adb439893ccc1dd8241db2c",
       "version_major": 2,
       "version_minor": 0
      },
      "text/plain": [
       "Downloading builder script:   0%|          | 0.00/2.16k [00:00<?, ?B/s]"
      ]
     },
     "metadata": {},
     "output_type": "display_data"
    },
    {
     "data": {
      "application/vnd.jupyter.widget-view+json": {
       "model_id": "6840189382fa41deb7283b585c59c1ca",
       "version_major": 2,
       "version_minor": 0
      },
      "text/plain": [
       "Downloading builder script:   0%|          | 0.00/1.90k [00:00<?, ?B/s]"
      ]
     },
     "metadata": {},
     "output_type": "display_data"
    },
    {
     "name": "stdout",
     "output_type": "stream",
     "text": [
      "validation cer_score ->  0.09787704766628824\n",
      "validation wer_score ->  0.30921300101701055\n"
     ]
    }
   ],
   "source": [
    "cer = load_metric(\"cer\")\n",
    "wer = load_metric(\"wer\")\n",
    "\n",
    "cer_score = cer.compute(predictions=predictions, references=references)\n",
    "print(\"validation cer_score -> \",cer_score)\n",
    "wer_score = wer.compute(predictions=predictions, references=references)\n",
    "print(\"validation wer_score -> \",wer_score)"
   ]
  },
  {
   "cell_type": "markdown",
   "id": "04386c4a",
   "metadata": {
    "papermill": {
     "duration": 0.018036,
     "end_time": "2022-07-15T09:01:44.507506",
     "exception": false,
     "start_time": "2022-07-15T09:01:44.489470",
     "status": "completed"
    },
    "tags": []
   },
   "source": [
    "# With  post processing"
   ]
  },
  {
   "cell_type": "markdown",
   "id": "3adbc6d6",
   "metadata": {
    "papermill": {
     "duration": 0.017946,
     "end_time": "2022-07-15T09:01:44.543778",
     "exception": false,
     "start_time": "2022-07-15T09:01:44.525832",
     "status": "completed"
    },
    "tags": []
   },
   "source": [
    "during error analysis using the results.csv file we've seen that the model is frequently missing to predict punctuations, almost all the sentences in ground truth ends with '।' but while predicting using the public best trained model we can see that the model is missing to predict '।' most of the times, so in the simple post processing code below we will check if the predicted sentence ends with '।' or not,if no then we forcefully add '।' at the end of the predicted sentence."
   ]
  },
  {
   "cell_type": "code",
   "execution_count": 12,
   "id": "c80fdf99",
   "metadata": {
    "execution": {
     "iopub.execute_input": "2022-07-15T09:01:44.582413Z",
     "iopub.status.busy": "2022-07-15T09:01:44.581190Z",
     "iopub.status.idle": "2022-07-15T09:01:44.592324Z",
     "shell.execute_reply": "2022-07-15T09:01:44.590926Z"
    },
    "papermill": {
     "duration": 0.033212,
     "end_time": "2022-07-15T09:01:44.595048",
     "exception": false,
     "start_time": "2022-07-15T09:01:44.561836",
     "status": "completed"
    },
    "tags": []
   },
   "outputs": [],
   "source": [
    "for i in range(len(predictions)):\n",
    "    if(predictions[i][-1] == '।'):\n",
    "        continue\n",
    "    else:\n",
    "        predictions[i] = predictions[i]+'।'"
   ]
  },
  {
   "cell_type": "code",
   "execution_count": 13,
   "id": "cfb7c1c0",
   "metadata": {
    "execution": {
     "iopub.execute_input": "2022-07-15T09:01:44.632829Z",
     "iopub.status.busy": "2022-07-15T09:01:44.632514Z",
     "iopub.status.idle": "2022-07-15T09:01:45.969149Z",
     "shell.execute_reply": "2022-07-15T09:01:45.967537Z"
    },
    "papermill": {
     "duration": 1.358517,
     "end_time": "2022-07-15T09:01:45.971827",
     "exception": false,
     "start_time": "2022-07-15T09:01:44.613310",
     "status": "completed"
    },
    "tags": []
   },
   "outputs": [
    {
     "name": "stdout",
     "output_type": "stream",
     "text": [
      "Final validation cer_score ->  0.09301847750965592\n",
      "Final validation wer_score ->  0.28501372267654884\n"
     ]
    }
   ],
   "source": [
    "cer_score = cer.compute(predictions=predictions, references=references)\n",
    "print(\"Final validation cer_score -> \",cer_score)\n",
    "wer_score = wer.compute(predictions=predictions, references=references)\n",
    "print(\"Final validation wer_score -> \",wer_score)"
   ]
  },
  {
   "cell_type": "markdown",
   "id": "a568358c",
   "metadata": {
    "papermill": {
     "duration": 0.019689,
     "end_time": "2022-07-15T09:01:46.011239",
     "exception": false,
     "start_time": "2022-07-15T09:01:45.991550",
     "status": "completed"
    },
    "tags": []
   },
   "source": [
    "**WOW great!!!\n",
    "with above post processing word error rate improved from 0.30921300101701055 to 0.28501372267654884 and that's 0.024199278340461705 improvement,not bad no?**\n"
   ]
  },
  {
   "cell_type": "markdown",
   "id": "297f5fd4",
   "metadata": {
    "papermill": {
     "duration": 0.018099,
     "end_time": "2022-07-15T09:01:46.047419",
     "exception": false,
     "start_time": "2022-07-15T09:01:46.029320",
     "status": "completed"
    },
    "tags": []
   },
   "source": [
    "# Submission with post processing"
   ]
  },
  {
   "cell_type": "code",
   "execution_count": 14,
   "id": "89294118",
   "metadata": {
    "execution": {
     "iopub.execute_input": "2022-07-15T09:01:46.088209Z",
     "iopub.status.busy": "2022-07-15T09:01:46.087867Z",
     "iopub.status.idle": "2022-07-15T09:01:46.155551Z",
     "shell.execute_reply": "2022-07-15T09:01:46.154113Z"
    },
    "papermill": {
     "duration": 0.089277,
     "end_time": "2022-07-15T09:01:46.158238",
     "exception": false,
     "start_time": "2022-07-15T09:01:46.068961",
     "status": "completed"
    },
    "tags": []
   },
   "outputs": [
    {
     "data": {
      "text/plain": [
       "7747"
      ]
     },
     "execution_count": 14,
     "metadata": {},
     "output_type": "execute_result"
    }
   ],
   "source": [
    "df = pd.read_csv('../input/dlsprint/sample_submission.csv')\n",
    "len(df.path)"
   ]
  },
  {
   "cell_type": "code",
   "execution_count": 15,
   "id": "dc8b9a73",
   "metadata": {
    "execution": {
     "iopub.execute_input": "2022-07-15T09:01:46.197910Z",
     "iopub.status.busy": "2022-07-15T09:01:46.196853Z",
     "iopub.status.idle": "2022-07-15T09:27:49.952976Z",
     "shell.execute_reply": "2022-07-15T09:27:49.951547Z"
    },
    "papermill": {
     "duration": 1563.803105,
     "end_time": "2022-07-15T09:27:49.980636",
     "exception": false,
     "start_time": "2022-07-15T09:01:46.177531",
     "status": "completed"
    },
    "tags": []
   },
   "outputs": [
    {
     "name": "stdout",
     "output_type": "stream",
     "text": [
      "predicted text at idx  3936  is ->  \n",
      "CPU times: user 23min 13s, sys: 8.55 s, total: 23min 21s\n",
      "Wall time: 26min 3s\n"
     ]
    }
   ],
   "source": [
    "%%time\n",
    "\n",
    "test_dataset = bn_asr_Dataset(CFG.sample_sub_df_path,CFG.test_wav)\n",
    "\n",
    "# for i,prediction in enumerate(tqdm(asr(test_dataset, chunk_length_s=112, stride_length_s=None,batch_size=CFG.batch_size), total=len(test_dataset))):\n",
    "#     df.sentence[i] = prediction[\"text\"]\n",
    "    \n",
    "for i in range(len(test_dataset)):\n",
    "    pred = asr(test_dataset.__getitem__(i), chunk_length_s=112, stride_length_s=None)\n",
    "    \n",
    "    #applying simple post processing with error handler\n",
    "    try:\n",
    "        if(pred[\"text\"][-1] == '।'):\n",
    "            df.sentence[i] = pred[\"text\"]\n",
    "        else:\n",
    "            df.sentence[i] = pred[\"text\"]+'।'\n",
    "    except:\n",
    "        print(\"predicted text at idx \",i,\" is -> \",pred[\"text\"])\n",
    "        df.sentence[i] = pred[\"text\"]+'।'\n"
   ]
  },
  {
   "cell_type": "code",
   "execution_count": 16,
   "id": "a5168a85",
   "metadata": {
    "execution": {
     "iopub.execute_input": "2022-07-15T09:27:50.041973Z",
     "iopub.status.busy": "2022-07-15T09:27:50.041378Z",
     "iopub.status.idle": "2022-07-15T09:27:50.058607Z",
     "shell.execute_reply": "2022-07-15T09:27:50.057457Z"
    },
    "papermill": {
     "duration": 0.054602,
     "end_time": "2022-07-15T09:27:50.064601",
     "exception": false,
     "start_time": "2022-07-15T09:27:50.009999",
     "status": "completed"
    },
    "tags": []
   },
   "outputs": [
    {
     "data": {
      "text/html": [
       "<div>\n",
       "<style scoped>\n",
       "    .dataframe tbody tr th:only-of-type {\n",
       "        vertical-align: middle;\n",
       "    }\n",
       "\n",
       "    .dataframe tbody tr th {\n",
       "        vertical-align: top;\n",
       "    }\n",
       "\n",
       "    .dataframe thead th {\n",
       "        text-align: right;\n",
       "    }\n",
       "</style>\n",
       "<table border=\"1\" class=\"dataframe\">\n",
       "  <thead>\n",
       "    <tr style=\"text-align: right;\">\n",
       "      <th></th>\n",
       "      <th>path</th>\n",
       "      <th>sentence</th>\n",
       "    </tr>\n",
       "  </thead>\n",
       "  <tbody>\n",
       "    <tr>\n",
       "      <th>0</th>\n",
       "      <td>common_voice_bn_31675220.mp3</td>\n",
       "      <td>এছাড়াও নিউজল্যান্ড এই ক্রিকেট দলের হয়ে খেলছে...</td>\n",
       "    </tr>\n",
       "    <tr>\n",
       "      <th>1</th>\n",
       "      <td>common_voice_bn_31513116.mp3</td>\n",
       "      <td>এই ফল পাখি রাখায় কিন্তু নিজে পড়ে থাকা ফল খেল...</td>\n",
       "    </tr>\n",
       "    <tr>\n",
       "      <th>2</th>\n",
       "      <td>common_voice_bn_31558126.mp3</td>\n",
       "      <td>জন পরিকল্পিত।</td>\n",
       "    </tr>\n",
       "  </tbody>\n",
       "</table>\n",
       "</div>"
      ],
      "text/plain": [
       "                           path  \\\n",
       "0  common_voice_bn_31675220.mp3   \n",
       "1  common_voice_bn_31513116.mp3   \n",
       "2  common_voice_bn_31558126.mp3   \n",
       "\n",
       "                                            sentence  \n",
       "0  এছাড়াও নিউজল্যান্ড এই ক্রিকেট দলের হয়ে খেলছে...  \n",
       "1  এই ফল পাখি রাখায় কিন্তু নিজে পড়ে থাকা ফল খেল...  \n",
       "2                                      জন পরিকল্পিত।  "
      ]
     },
     "execution_count": 16,
     "metadata": {},
     "output_type": "execute_result"
    }
   ],
   "source": [
    "df.head(3)"
   ]
  },
  {
   "cell_type": "code",
   "execution_count": 17,
   "id": "6b12f373",
   "metadata": {
    "execution": {
     "iopub.execute_input": "2022-07-15T09:27:50.128717Z",
     "iopub.status.busy": "2022-07-15T09:27:50.127906Z",
     "iopub.status.idle": "2022-07-15T09:27:50.199202Z",
     "shell.execute_reply": "2022-07-15T09:27:50.197650Z"
    },
    "papermill": {
     "duration": 0.109293,
     "end_time": "2022-07-15T09:27:50.204855",
     "exception": false,
     "start_time": "2022-07-15T09:27:50.095562",
     "status": "completed"
    },
    "tags": []
   },
   "outputs": [
    {
     "data": {
      "text/plain": [
       "'এই ফল পাখি রাখায় কিন্তু নিজে পড়ে থাকা ফল খেলে কুকুর অসুস্থ হয়ে পড়ে।'"
      ]
     },
     "execution_count": 17,
     "metadata": {},
     "output_type": "execute_result"
    }
   ],
   "source": [
    "df.to_csv('./submission.csv',index = False)\n",
    "df.sentence[1]"
   ]
  },
  {
   "cell_type": "code",
   "execution_count": 18,
   "id": "794be328",
   "metadata": {
    "execution": {
     "iopub.execute_input": "2022-07-15T09:27:50.271176Z",
     "iopub.status.busy": "2022-07-15T09:27:50.270318Z",
     "iopub.status.idle": "2022-07-15T09:27:50.298575Z",
     "shell.execute_reply": "2022-07-15T09:27:50.297256Z"
    },
    "papermill": {
     "duration": 0.064829,
     "end_time": "2022-07-15T09:27:50.302226",
     "exception": false,
     "start_time": "2022-07-15T09:27:50.237397",
     "status": "completed"
    },
    "tags": []
   },
   "outputs": [
    {
     "data": {
      "text/html": [
       "\n",
       "                <audio  controls=\"controls\" >\n",
       "                    <source src=\"data:audio/mpeg;base64,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\" type=\"audio/mpeg\" />\n",
       "                    Your browser does not support the audio element.\n",
       "                </audio>\n",
       "              "
      ],
      "text/plain": [
       "<IPython.lib.display.Audio object>"
      ]
     },
     "execution_count": 18,
     "metadata": {},
     "output_type": "execute_result"
    }
   ],
   "source": [
    "IPython.display.Audio('../input/dlsprint/test_files/common_voice_bn_31675220.mp3')"
   ]
  },
  {
   "cell_type": "code",
   "execution_count": 19,
   "id": "36b4444a",
   "metadata": {
    "execution": {
     "iopub.execute_input": "2022-07-15T09:27:50.367184Z",
     "iopub.status.busy": "2022-07-15T09:27:50.366870Z",
     "iopub.status.idle": "2022-07-15T09:27:50.375850Z",
     "shell.execute_reply": "2022-07-15T09:27:50.373720Z"
    },
    "papermill": {
     "duration": 0.047944,
     "end_time": "2022-07-15T09:27:50.383286",
     "exception": false,
     "start_time": "2022-07-15T09:27:50.335342",
     "status": "completed"
    },
    "tags": []
   },
   "outputs": [
    {
     "data": {
      "text/plain": [
       "'এছাড়াও নিউজল্যান্ড এই ক্রিকেট দলের হয়ে খেলছেন তিনি।'"
      ]
     },
     "execution_count": 19,
     "metadata": {},
     "output_type": "execute_result"
    }
   ],
   "source": [
    "df.sentence[0]"
   ]
  },
  {
   "cell_type": "code",
   "execution_count": 20,
   "id": "12c5a386",
   "metadata": {
    "execution": {
     "iopub.execute_input": "2022-07-15T09:27:50.508187Z",
     "iopub.status.busy": "2022-07-15T09:27:50.507651Z",
     "iopub.status.idle": "2022-07-15T09:27:50.516552Z",
     "shell.execute_reply": "2022-07-15T09:27:50.515233Z"
    },
    "papermill": {
     "duration": 0.103182,
     "end_time": "2022-07-15T09:27:50.520719",
     "exception": false,
     "start_time": "2022-07-15T09:27:50.417537",
     "status": "completed"
    },
    "tags": []
   },
   "outputs": [
    {
     "data": {
      "text/plain": [
       "'প্রথম শ্রেণির ক্রিকেট প্রতিযোগিতা শেলিল্ডের উদ্বোধনী আসরে অংশ নেয়।'"
      ]
     },
     "execution_count": 20,
     "metadata": {},
     "output_type": "execute_result"
    }
   ],
   "source": [
    "df.sentence[80]"
   ]
  },
  {
   "cell_type": "markdown",
   "id": "cef3498f",
   "metadata": {
    "papermill": {
     "duration": 0.032189,
     "end_time": "2022-07-15T09:27:50.584504",
     "exception": false,
     "start_time": "2022-07-15T09:27:50.552315",
     "status": "completed"
    },
    "tags": []
   },
   "source": [
    "# optional (post ASR correction attempt)"
   ]
  },
  {
   "cell_type": "markdown",
   "id": "cf79de88",
   "metadata": {
    "papermill": {
     "duration": 0.032667,
     "end_time": "2022-07-15T09:27:50.649082",
     "exception": false,
     "start_time": "2022-07-15T09:27:50.616415",
     "status": "completed"
    },
    "tags": []
   },
   "source": [
    "in this section we will try to implement the recent best research on POST OCR (optical character recognition) CORRECTION titled[ Post-OCR Document Correction with large Ensembles of Character\n",
    "Sequence-to-Sequence Models](https://arxiv.org/pdf/2109.06264.pdf) this research work was done in ocr domain and not in ASR domain so i was thinking what will happen if we try this approach in ASR domain? **well if you never try you'll never know**.\n",
    "The core of this system is a standard sequence-to-sequence model that can correct sequences of characters. In the below implementation, we used a Transformer as the sequence model, which takes as input a segment of characters from the document to correct, and the output is the corrected segment. To train this sequence model, it is necessary to align the raw documents with their corresponding correct transcriptions, which is not always straightforward.Since the output is not necessarily of the same length as the input (because of possible insertions or deletions of characters), a decoding method like Greedy Search or Beam Search\n",
    "is needed to produce the most likely corrected sequence according to the model.\n",
    "for the below experiment we will be using results.csv where references column contains actual clean annotation and predictions column contains output of STT model including errors\n"
   ]
  },
  {
   "cell_type": "code",
   "execution_count": 21,
   "id": "bd8e5ea7",
   "metadata": {
    "execution": {
     "iopub.execute_input": "2022-07-15T09:27:50.715825Z",
     "iopub.status.busy": "2022-07-15T09:27:50.715205Z",
     "iopub.status.idle": "2022-07-15T09:27:54.666079Z",
     "shell.execute_reply": "2022-07-15T09:27:54.664583Z"
    },
    "papermill": {
     "duration": 3.987053,
     "end_time": "2022-07-15T09:27:54.669153",
     "exception": false,
     "start_time": "2022-07-15T09:27:50.682100",
     "status": "completed"
    },
    "tags": []
   },
   "outputs": [
    {
     "name": "stdout",
     "output_type": "stream",
     "text": [
      "Cloning into 'post_ocr_correction'...\r\n",
      "remote: Enumerating objects: 225, done.\u001b[K\r\n",
      "remote: Counting objects: 100% (22/22), done.\u001b[K\r\n",
      "remote: Compressing objects: 100% (20/20), done.\u001b[K\r\n",
      "remote: Total 225 (delta 11), reused 6 (delta 2), pack-reused 203\u001b[K\r\n",
      "Receiving objects: 100% (225/225), 287.00 KiB | 901.00 KiB/s, done.\r\n",
      "Resolving deltas: 100% (107/107), done.\r\n",
      "/kaggle/working/post_ocr_correction\r\n",
      "LICENSE    download_data.py  lib\tpyproject.toml\t  setup.cfg  train\r\n",
      "README.md  evaluate\t     notebooks\trequirements.txt  tests\r\n"
     ]
    }
   ],
   "source": [
    "!git clone https://github.com/jarobyte91/post_ocr_correction.git\n",
    "os.chdir('./post_ocr_correction')\n",
    "!pwd\n",
    "!ls"
   ]
  },
  {
   "cell_type": "code",
   "execution_count": 22,
   "id": "cc88b1b1",
   "metadata": {
    "execution": {
     "iopub.execute_input": "2022-07-15T09:27:54.713848Z",
     "iopub.status.busy": "2022-07-15T09:27:54.713510Z",
     "iopub.status.idle": "2022-07-15T09:28:42.362640Z",
     "shell.execute_reply": "2022-07-15T09:28:42.361124Z"
    },
    "papermill": {
     "duration": 47.674428,
     "end_time": "2022-07-15T09:28:42.365932",
     "exception": false,
     "start_time": "2022-07-15T09:27:54.691504",
     "status": "completed"
    },
    "tags": []
   },
   "outputs": [
    {
     "name": "stdout",
     "output_type": "stream",
     "text": [
      "Processing /kaggle/working/post_ocr_correction\r\n",
      "  Installing build dependencies ... \u001b[?25l-\b \b\\\b \b|\b \b/\b \b-\b \bdone\r\n",
      "\u001b[?25h  Getting requirements to build wheel ... \u001b[?25l-\b \bdone\r\n",
      "\u001b[?25h  Installing backend dependencies ... \u001b[?25l-\b \b\\\b \b|\b \bdone\r\n",
      "\u001b[?25h  Preparing metadata (pyproject.toml) ... \u001b[?25l-\b \bdone\r\n",
      "\u001b[?25hRequirement already satisfied: requests in /opt/conda/lib/python3.7/site-packages (from post-ocr-correction==0.0.1) (2.27.1)\r\n",
      "Collecting pytorch-beam-search<2,>1.2\r\n",
      "  Downloading pytorch_beam_search-1.2.2-py3-none-any.whl (18 kB)\r\n",
      "Requirement already satisfied: python-Levenshtein in /opt/conda/lib/python3.7/site-packages (from post-ocr-correction==0.0.1) (0.12.2)\r\n",
      "Requirement already satisfied: numpy>=1.20.3 in /opt/conda/lib/python3.7/site-packages (from pytorch-beam-search<2,>1.2->post-ocr-correction==0.0.1) (1.21.6)\r\n",
      "Requirement already satisfied: pytz>=2021.1 in /opt/conda/lib/python3.7/site-packages (from pytorch-beam-search<2,>1.2->post-ocr-correction==0.0.1) (2022.1)\r\n",
      "Requirement already satisfied: typing-extensions>=3.10.0.0 in /opt/conda/lib/python3.7/site-packages (from pytorch-beam-search<2,>1.2->post-ocr-correction==0.0.1) (4.1.1)\r\n",
      "Requirement already satisfied: torch>=1.8.1 in /opt/conda/lib/python3.7/site-packages (from pytorch-beam-search<2,>1.2->post-ocr-correction==0.0.1) (1.11.0)\r\n",
      "Collecting nltk>=3.6.5\r\n",
      "  Downloading nltk-3.7-py3-none-any.whl (1.5 MB)\r\n",
      "\u001b[2K     \u001b[90m━━━━━━━━━━━━━━━━━━━━━━━━━━━━━━━━━━━━━━━━\u001b[0m \u001b[32m1.5/1.5 MB\u001b[0m \u001b[31m3.4 MB/s\u001b[0m eta \u001b[36m0:00:00\u001b[0m\r\n",
      "\u001b[?25hRequirement already satisfied: six>=1.16.0 in /opt/conda/lib/python3.7/site-packages (from pytorch-beam-search<2,>1.2->post-ocr-correction==0.0.1) (1.16.0)\r\n",
      "Requirement already satisfied: tqdm>=4.61.0 in /opt/conda/lib/python3.7/site-packages (from pytorch-beam-search<2,>1.2->post-ocr-correction==0.0.1) (4.64.0)\r\n",
      "Requirement already satisfied: python-dateutil>=2.8.1 in /opt/conda/lib/python3.7/site-packages (from pytorch-beam-search<2,>1.2->post-ocr-correction==0.0.1) (2.8.2)\r\n",
      "Requirement already satisfied: certifi>=2020.12.5 in /opt/conda/lib/python3.7/site-packages (from pytorch-beam-search<2,>1.2->post-ocr-correction==0.0.1) (2022.6.15)\r\n",
      "Requirement already satisfied: pandas>=1.2.4 in /opt/conda/lib/python3.7/site-packages (from pytorch-beam-search<2,>1.2->post-ocr-correction==0.0.1) (1.3.5)\r\n",
      "Requirement already satisfied: setuptools in /opt/conda/lib/python3.7/site-packages (from python-Levenshtein->post-ocr-correction==0.0.1) (59.8.0)\r\n",
      "Requirement already satisfied: charset-normalizer~=2.0.0 in /opt/conda/lib/python3.7/site-packages (from requests->post-ocr-correction==0.0.1) (2.0.12)\r\n",
      "Requirement already satisfied: idna<4,>=2.5 in /opt/conda/lib/python3.7/site-packages (from requests->post-ocr-correction==0.0.1) (3.3)\r\n",
      "Requirement already satisfied: urllib3<1.27,>=1.21.1 in /opt/conda/lib/python3.7/site-packages (from requests->post-ocr-correction==0.0.1) (1.26.9)\r\n",
      "Requirement already satisfied: regex>=2021.8.3 in /opt/conda/lib/python3.7/site-packages (from nltk>=3.6.5->pytorch-beam-search<2,>1.2->post-ocr-correction==0.0.1) (2021.11.10)\r\n",
      "Requirement already satisfied: joblib in /opt/conda/lib/python3.7/site-packages (from nltk>=3.6.5->pytorch-beam-search<2,>1.2->post-ocr-correction==0.0.1) (1.1.0)\r\n",
      "Requirement already satisfied: click in /opt/conda/lib/python3.7/site-packages (from nltk>=3.6.5->pytorch-beam-search<2,>1.2->post-ocr-correction==0.0.1) (8.0.4)\r\n",
      "Requirement already satisfied: importlib-metadata in /opt/conda/lib/python3.7/site-packages (from click->nltk>=3.6.5->pytorch-beam-search<2,>1.2->post-ocr-correction==0.0.1) (4.11.4)\r\n",
      "Requirement already satisfied: zipp>=0.5 in /opt/conda/lib/python3.7/site-packages (from importlib-metadata->click->nltk>=3.6.5->pytorch-beam-search<2,>1.2->post-ocr-correction==0.0.1) (3.8.0)\r\n",
      "Building wheels for collected packages: post-ocr-correction\r\n",
      "  Building wheel for post-ocr-correction (pyproject.toml) ... \u001b[?25l-\b \bdone\r\n",
      "\u001b[?25h  Created wheel for post-ocr-correction: filename=post_ocr_correction-0.0.1-py3-none-any.whl size=6368 sha256=c930612188cd501a6221081678f0ada3cc1d2367ea158f52fb78f421399c16fa\r\n",
      "  Stored in directory: /tmp/pip-ephem-wheel-cache-s6_53y6f/wheels/72/31/2e/2f7f310c7a5d2c12d18796bf8b5e2a7a79569dcc1f6f07f977\r\n",
      "Successfully built post-ocr-correction\r\n",
      "Installing collected packages: nltk, pytorch-beam-search, post-ocr-correction\r\n",
      "  Attempting uninstall: nltk\r\n",
      "    Found existing installation: nltk 3.2.4\r\n",
      "    Uninstalling nltk-3.2.4:\r\n",
      "      Successfully uninstalled nltk-3.2.4\r\n",
      "\u001b[31mERROR: pip's dependency resolver does not currently take into account all the packages that are installed. This behaviour is the source of the following dependency conflicts.\r\n",
      "preprocessing 0.1.13 requires nltk==3.2.4, but you have nltk 3.7 which is incompatible.\u001b[0m\u001b[31m\r\n",
      "\u001b[0mSuccessfully installed nltk-3.7 post-ocr-correction-0.0.1 pytorch-beam-search-1.2.2\r\n",
      "\u001b[33mWARNING: Running pip as the 'root' user can result in broken permissions and conflicting behaviour with the system package manager. It is recommended to use a virtual environment instead: https://pip.pypa.io/warnings/venv\u001b[0m\u001b[33m\r\n",
      "\u001b[0m"
     ]
    }
   ],
   "source": [
    "!pip install ."
   ]
  },
  {
   "cell_type": "code",
   "execution_count": 23,
   "id": "ef33384e",
   "metadata": {
    "execution": {
     "iopub.execute_input": "2022-07-15T09:28:42.415584Z",
     "iopub.status.busy": "2022-07-15T09:28:42.414578Z",
     "iopub.status.idle": "2022-07-15T09:28:43.268019Z",
     "shell.execute_reply": "2022-07-15T09:28:43.266464Z"
    },
    "papermill": {
     "duration": 0.881284,
     "end_time": "2022-07-15T09:28:43.271242",
     "exception": false,
     "start_time": "2022-07-15T09:28:42.389958",
     "status": "completed"
    },
    "tags": []
   },
   "outputs": [
    {
     "name": "stdout",
     "output_type": "stream",
     "text": [
      "__notebook__.ipynb  post_ocr_correction  results.csv  submission.csv\r\n"
     ]
    }
   ],
   "source": [
    "os.chdir('..')\n",
    "!ls"
   ]
  },
  {
   "cell_type": "code",
   "execution_count": 24,
   "id": "48e4903f",
   "metadata": {
    "execution": {
     "iopub.execute_input": "2022-07-15T09:28:43.322748Z",
     "iopub.status.busy": "2022-07-15T09:28:43.320595Z",
     "iopub.status.idle": "2022-07-15T09:28:43.391974Z",
     "shell.execute_reply": "2022-07-15T09:28:43.390578Z"
    },
    "papermill": {
     "duration": 0.098688,
     "end_time": "2022-07-15T09:28:43.394586",
     "exception": false,
     "start_time": "2022-07-15T09:28:43.295898",
     "status": "completed"
    },
    "tags": []
   },
   "outputs": [
    {
     "name": "stdout",
     "output_type": "stream",
     "text": [
      "7747\n"
     ]
    },
    {
     "data": {
      "text/html": [
       "<div>\n",
       "<style scoped>\n",
       "    .dataframe tbody tr th:only-of-type {\n",
       "        vertical-align: middle;\n",
       "    }\n",
       "\n",
       "    .dataframe tbody tr th {\n",
       "        vertical-align: top;\n",
       "    }\n",
       "\n",
       "    .dataframe thead th {\n",
       "        text-align: right;\n",
       "    }\n",
       "</style>\n",
       "<table border=\"1\" class=\"dataframe\">\n",
       "  <thead>\n",
       "    <tr style=\"text-align: right;\">\n",
       "      <th></th>\n",
       "      <th>predictions</th>\n",
       "      <th>references</th>\n",
       "    </tr>\n",
       "  </thead>\n",
       "  <tbody>\n",
       "    <tr>\n",
       "      <th>0</th>\n",
       "      <td>কৃষি সেবা রেমিটেন্স ব্যবসা ও অন্যান্য</td>\n",
       "      <td>কৃষি, সেবা, রেমিটেন্স, ব্যবসা ও অন্যান্য।</td>\n",
       "    </tr>\n",
       "    <tr>\n",
       "      <th>1</th>\n",
       "      <td>তিনি ছিলেন চাকমা বাসার প্রথ মাধ্যমের গীতিকা।</td>\n",
       "      <td>তিনি ছিলেন চাকমা ভাষার প্রথম আধুনিক গীতিকার।</td>\n",
       "    </tr>\n",
       "    <tr>\n",
       "      <th>2</th>\n",
       "      <td>ইংরেজি সাথে সাথে তাদের হিন্দি ও সংস্কৃত শিক্ষা...</td>\n",
       "      <td>ইংরেজির সাথে সাথে তাদের হিন্দী ও সংস্কৃত শিক্ষ...</td>\n",
       "    </tr>\n",
       "    <tr>\n",
       "      <th>3</th>\n",
       "      <td>শিক্ষার ধারণ তার প্রথম আন্তর্জাতিক উইক েটশিকার...</td>\n",
       "      <td>শিখর ধাওয়ান তার প্রথম আন্তর্জাতিক উইকেট শিকার...</td>\n",
       "    </tr>\n",
       "    <tr>\n",
       "      <th>4</th>\n",
       "      <td>চতুর্থ সপ্তাহ থেকে অবস্থার উন্নতি হতে থাকে কিন...</td>\n",
       "      <td>চতুর্থ সপ্তাহ থেকে অবস্থার উন্নতি হতে থাকে,কিন...</td>\n",
       "    </tr>\n",
       "  </tbody>\n",
       "</table>\n",
       "</div>"
      ],
      "text/plain": [
       "                                         predictions  \\\n",
       "0              কৃষি সেবা রেমিটেন্স ব্যবসা ও অন্যান্য   \n",
       "1       তিনি ছিলেন চাকমা বাসার প্রথ মাধ্যমের গীতিকা।   \n",
       "2  ইংরেজি সাথে সাথে তাদের হিন্দি ও সংস্কৃত শিক্ষা...   \n",
       "3  শিক্ষার ধারণ তার প্রথম আন্তর্জাতিক উইক েটশিকার...   \n",
       "4  চতুর্থ সপ্তাহ থেকে অবস্থার উন্নতি হতে থাকে কিন...   \n",
       "\n",
       "                                          references  \n",
       "0          কৃষি, সেবা, রেমিটেন্স, ব্যবসা ও অন্যান্য।  \n",
       "1       তিনি ছিলেন চাকমা ভাষার প্রথম আধুনিক গীতিকার।  \n",
       "2  ইংরেজির সাথে সাথে তাদের হিন্দী ও সংস্কৃত শিক্ষ...  \n",
       "3  শিখর ধাওয়ান তার প্রথম আন্তর্জাতিক উইকেট শিকার...  \n",
       "4  চতুর্থ সপ্তাহ থেকে অবস্থার উন্নতি হতে থাকে,কিন...  "
      ]
     },
     "execution_count": 24,
     "metadata": {},
     "output_type": "execute_result"
    }
   ],
   "source": [
    "results = pd.read_csv('./results.csv')\n",
    "print(len(results))\n",
    "preds = results.predictions.tolist()\n",
    "refs = results.references.tolist()\n",
    "results.head()"
   ]
  },
  {
   "cell_type": "markdown",
   "id": "ab793d4f",
   "metadata": {
    "papermill": {
     "duration": 0.024353,
     "end_time": "2022-07-15T09:28:43.443127",
     "exception": false,
     "start_time": "2022-07-15T09:28:43.418774",
     "status": "completed"
    },
    "tags": []
   },
   "source": [
    "Be careful,\n",
    "if you predict on train set using the best publicly available ASR bangla model from huggingface you will see the model making NaN prediction for many audio samples in train set,to get the index of those NaN output files i used the code below "
   ]
  },
  {
   "cell_type": "code",
   "execution_count": 25,
   "id": "e9b55704",
   "metadata": {
    "execution": {
     "iopub.execute_input": "2022-07-15T09:28:43.493984Z",
     "iopub.status.busy": "2022-07-15T09:28:43.493519Z",
     "iopub.status.idle": "2022-07-15T09:28:43.506477Z",
     "shell.execute_reply": "2022-07-15T09:28:43.505138Z"
    },
    "papermill": {
     "duration": 0.041521,
     "end_time": "2022-07-15T09:28:43.509147",
     "exception": false,
     "start_time": "2022-07-15T09:28:43.467626",
     "status": "completed"
    },
    "tags": []
   },
   "outputs": [
    {
     "data": {
      "text/plain": [
       "(7747, 7747)"
      ]
     },
     "execution_count": 25,
     "metadata": {},
     "output_type": "execute_result"
    }
   ],
   "source": [
    "#no nan output in results.csv but they exist in train.csv (give it a try)\n",
    "idx = [i for i, x in zip(range(len(preds)), preds) if not isinstance(x,str)]\n",
    "for ele in sorted(idx, reverse = True):\n",
    "    del preds[ele]\n",
    "    del refs[ele]\n",
    "len(preds),len(refs)\n"
   ]
  },
  {
   "cell_type": "code",
   "execution_count": 26,
   "id": "a6e827b2",
   "metadata": {
    "execution": {
     "iopub.execute_input": "2022-07-15T09:28:43.559774Z",
     "iopub.status.busy": "2022-07-15T09:28:43.558546Z",
     "iopub.status.idle": "2022-07-15T09:28:55.433335Z",
     "shell.execute_reply": "2022-07-15T09:28:55.431833Z"
    },
    "papermill": {
     "duration": 11.903601,
     "end_time": "2022-07-15T09:28:55.436757",
     "exception": false,
     "start_time": "2022-07-15T09:28:43.533156",
     "status": "completed"
    },
    "tags": []
   },
   "outputs": [
    {
     "name": "stdout",
     "output_type": "stream",
     "text": [
      "Fri Jul 15 09:28:55 2022       \r\n",
      "+-----------------------------------------------------------------------------+\r\n",
      "| NVIDIA-SMI 470.82.01    Driver Version: 470.82.01    CUDA Version: 11.4     |\r\n",
      "|-------------------------------+----------------------+----------------------+\r\n",
      "| GPU  Name        Persistence-M| Bus-Id        Disp.A | Volatile Uncorr. ECC |\r\n",
      "| Fan  Temp  Perf  Pwr:Usage/Cap|         Memory-Usage | GPU-Util  Compute M. |\r\n",
      "|                               |                      |               MIG M. |\r\n",
      "|===============================+======================+======================|\r\n",
      "|   0  Tesla P100-PCIE...  Off  | 00000000:00:04.0 Off |                    0 |\r\n",
      "| N/A   66C    P0    44W / 250W |   2167MiB / 16280MiB |      0%      Default |\r\n",
      "|                               |                      |                  N/A |\r\n",
      "+-------------------------------+----------------------+----------------------+\r\n",
      "                                                                               \r\n",
      "+-----------------------------------------------------------------------------+\r\n",
      "| Processes:                                                                  |\r\n",
      "|  GPU   GI   CI        PID   Type   Process name                  GPU Memory |\r\n",
      "|        ID   ID                                                   Usage      |\r\n",
      "|=============================================================================|\r\n",
      "+-----------------------------------------------------------------------------+\r\n"
     ]
    }
   ],
   "source": [
    "torch.cuda.empty_cache()\n",
    "gc.collect()\n",
    "!nvidia-smi"
   ]
  },
  {
   "cell_type": "code",
   "execution_count": 27,
   "id": "f1056982",
   "metadata": {
    "execution": {
     "iopub.execute_input": "2022-07-15T09:28:55.487524Z",
     "iopub.status.busy": "2022-07-15T09:28:55.487099Z",
     "iopub.status.idle": "2022-07-15T09:28:55.823828Z",
     "shell.execute_reply": "2022-07-15T09:28:55.821952Z"
    },
    "papermill": {
     "duration": 0.36499,
     "end_time": "2022-07-15T09:28:55.826637",
     "exception": false,
     "start_time": "2022-07-15T09:28:55.461647",
     "status": "completed"
    },
    "tags": []
   },
   "outputs": [
    {
     "name": "stdout",
     "output_type": "stream",
     "text": [
      "<Seq2Seq Index with 7,750 items>\n",
      ".....\n",
      "<Seq2Seq Index with 7,751 items>\n",
      ".....\n",
      "tensor([[   1, 2683, 4223,  ..., 1101, 2674,    2]])\n",
      ".....\n",
      "tensor([[   1, 2716, 4287,  ..., 1009, 2705,    2]])\n"
     ]
    }
   ],
   "source": [
    "from pytorch_beam_search import seq2seq\n",
    "from post_ocr_correction import correction\n",
    "\n",
    "# train data and model\n",
    "source = [preds]\n",
    "target = [refs]\n",
    "source_index = seq2seq.Index(source)\n",
    "target_index = seq2seq.Index(target)\n",
    "X = source_index.text2tensor(source)\n",
    "Y = target_index.text2tensor(target)\n",
    "print(source_index)\n",
    "print(\".....\")\n",
    "print(target_index)\n",
    "print(\".....\")\n",
    "print(X)\n",
    "print(\".....\")\n",
    "print(Y)"
   ]
  },
  {
   "cell_type": "markdown",
   "id": "cf0fc567",
   "metadata": {
    "papermill": {
     "duration": 0.023898,
     "end_time": "2022-07-15T09:28:55.874945",
     "exception": false,
     "start_time": "2022-07-15T09:28:55.851047",
     "status": "completed"
    },
    "tags": []
   },
   "source": [
    "\n",
    "![](https://i.ibb.co/741XzvD/post-stt-corrector.png)"
   ]
  },
  {
   "cell_type": "code",
   "execution_count": 28,
   "id": "870be8a0",
   "metadata": {
    "execution": {
     "iopub.execute_input": "2022-07-15T09:28:55.925106Z",
     "iopub.status.busy": "2022-07-15T09:28:55.923983Z",
     "iopub.status.idle": "2022-07-15T10:52:30.078051Z",
     "shell.execute_reply": "2022-07-15T10:52:30.076616Z"
    },
    "papermill": {
     "duration": 5014.18264,
     "end_time": "2022-07-15T10:52:30.081227",
     "exception": false,
     "start_time": "2022-07-15T09:28:55.898587",
     "status": "completed"
    },
    "tags": []
   },
   "outputs": [
    {
     "name": "stdout",
     "output_type": "stream",
     "text": [
      "Model: Seq2Seq Transformer\n",
      "Source index: <Seq2Seq Index with 7,750 items>\n",
      "Target index: <Seq2Seq Index with 7,751 items>\n",
      "Max sequence length: 7751\n",
      "Embedding dimension: 512\n",
      "Feedforward dimension: 1024\n",
      "Encoder layers: 2\n",
      "Decoder layers: 2\n",
      "Attention heads: 2\n",
      "Activation: relu\n",
      "Dropout: 0.0\n",
      "Trainable parameters: 26,397,767\n",
      "\n"
     ]
    },
    {
     "data": {
      "application/vnd.jupyter.widget-view+json": {
       "model_id": "d13aa4d5bac248f2861fe375a974c798",
       "version_major": 2,
       "version_minor": 0
      },
      "text/plain": [
       "  0%|          | 0/75 [00:00<?, ?it/s]"
      ]
     },
     "metadata": {},
     "output_type": "display_data"
    },
    {
     "name": "stdout",
     "output_type": "stream",
     "text": [
      "Training started\n",
      "X_train.shape: torch.Size([1, 7749])\n",
      "Y_train.shape: torch.Size([1, 7749])\n",
      "Epochs: 75\n",
      "Learning rate: 0.0001\n",
      "Weight decay: 0\n",
      "Epoch | Train                 | Minutes\n",
      "      | Loss     | Error Rate |\n",
      "---------------------------------------\n",
      "    1 |   9.1148 |     99.987 |     1.2\n",
      "    2 |   9.0522 |     99.948 |     2.3\n",
      "    3 |   8.9953 |     99.935 |     3.4\n",
      "    4 |   8.9376 |     99.961 |     4.5\n",
      "    5 |   8.8774 |     99.961 |     5.6\n",
      "    6 |   8.8152 |     99.948 |     6.7\n",
      "    7 |   8.7510 |     99.935 |     7.8\n",
      "    8 |   8.6855 |     99.845 |     8.9\n",
      "    9 |   8.6195 |     99.768 |    10.0\n",
      "   10 |   8.5533 |     99.664 |    11.1\n",
      "   11 |   8.4871 |     99.561 |    12.2\n",
      "   12 |   8.4202 |     99.380 |    13.3\n",
      "   13 |   8.3530 |     99.161 |    14.4\n",
      "   14 |   8.2857 |     98.761 |    15.5\n",
      "   15 |   8.2182 |     98.309 |    16.6\n",
      "   16 |   8.1505 |     97.625 |    17.7\n",
      "   17 |   8.0826 |     96.825 |    18.8\n",
      "   18 |   8.0143 |     95.909 |    19.9\n",
      "   19 |   7.9458 |     94.954 |    21.1\n",
      "   20 |   7.8774 |     93.753 |    22.2\n",
      "   21 |   7.8091 |     92.334 |    23.3\n",
      "   22 |   7.7407 |     90.798 |    24.4\n",
      "   23 |   7.6724 |     88.978 |    25.5\n",
      "   24 |   7.6043 |     86.706 |    26.6\n",
      "   25 |   7.5363 |     83.983 |    27.8\n",
      "   26 |   7.4683 |     81.002 |    28.9\n",
      "   27 |   7.4005 |     77.646 |    30.0\n",
      "   28 |   7.3328 |     74.639 |    31.1\n",
      "   29 |   7.2654 |     71.076 |    32.2\n",
      "   30 |   7.1985 |     67.721 |    33.3\n",
      "   31 |   7.1304 |     63.500 |    34.4\n",
      "   32 |   7.0619 |     59.396 |    35.6\n",
      "   33 |   6.9950 |     55.950 |    36.7\n",
      "   34 |   6.9278 |     51.381 |    37.8\n",
      "   35 |   6.8594 |     47.470 |    38.9\n",
      "   36 |   6.7924 |     43.224 |    40.0\n",
      "   37 |   6.7254 |     39.094 |    41.1\n",
      "   38 |   6.6576 |     34.732 |    42.3\n",
      "   39 |   6.5907 |     30.756 |    43.4\n",
      "   40 |   6.5246 |     27.568 |    44.5\n",
      "   41 |   6.4574 |     24.226 |    45.6\n",
      "   42 |   6.3909 |     21.167 |    46.7\n",
      "   43 |   6.3245 |     18.237 |    47.8\n",
      "   44 |   6.2569 |     15.423 |    49.0\n",
      "   45 |   6.1908 |     13.358 |    50.1\n",
      "   46 |   6.1240 |     11.332 |    51.2\n",
      "   47 |   6.0573 |      9.473 |    52.3\n",
      "   48 |   5.9915 |      7.641 |    53.4\n",
      "   49 |   5.9248 |      6.002 |    54.5\n",
      "   50 |   5.8584 |      4.943 |    55.6\n",
      "   51 |   5.7926 |      3.962 |    56.8\n",
      "   52 |   5.7264 |      3.240 |    57.9\n",
      "   53 |   5.6603 |      2.723 |    59.0\n",
      "   54 |   5.5946 |      2.246 |    60.1\n",
      "   55 |   5.5285 |      1.807 |    61.2\n",
      "   56 |   5.4635 |      1.536 |    62.4\n",
      "   57 |   5.3989 |      1.187 |    63.5\n",
      "   58 |   5.3339 |      0.891 |    64.6\n",
      "   59 |   5.2682 |      0.671 |    65.7\n",
      "   60 |   5.2013 |      0.542 |    66.8\n",
      "   61 |   5.1367 |      0.413 |    67.9\n",
      "   62 |   5.0724 |      0.297 |    69.0\n",
      "   63 |   5.0064 |      0.232 |    70.2\n",
      "   64 |   4.9416 |      0.219 |    71.3\n",
      "   65 |   4.8775 |      0.155 |    72.4\n",
      "   66 |   4.8133 |      0.129 |    73.5\n",
      "   67 |   4.7494 |      0.065 |    74.6\n",
      "   68 |   4.6868 |      0.039 |    75.7\n",
      "   69 |   4.6232 |      0.026 |    76.8\n",
      "   70 |   4.5569 |      0.026 |    77.9\n",
      "   71 |   4.4933 |      0.026 |    79.1\n",
      "   72 |   4.4308 |      0.013 |    80.2\n",
      "   73 |   4.3660 |      0.013 |    81.3\n",
      "   74 |   4.3028 |      0.000 |    82.4\n",
      "   75 |   4.2399 |      0.000 |    83.6\n",
      "\n",
      "CPU times: user 1h 14min 1s, sys: 9min 12s, total: 1h 23min 14s\n",
      "Wall time: 1h 23min 34s\n"
     ]
    }
   ],
   "source": [
    "%%time\n",
    "\n",
    "epochs = 75\n",
    "PATH = './post_ASR_corrector.pt'\n",
    "\n",
    "def post_asr_corrector():\n",
    "    model = seq2seq.Transformer(source_index, target_index,max_sequence_length = len(results)+4,\n",
    "                    embedding_dimension = 512,\n",
    "                    feedforward_dimension = 1024,\n",
    "                    attention_heads = 2,\n",
    "                    encoder_layers = 2,\n",
    "                    decoder_layers = 2\n",
    "                           )\n",
    "    return model\n",
    "model = post_asr_corrector()\n",
    "\n",
    "\n",
    "model.train()\n",
    "model.fit(X, Y, epochs = epochs, progress_bar = 1)\n",
    "model.eval()\n",
    "torch.save(model.state_dict(), PATH)"
   ]
  },
  {
   "cell_type": "markdown",
   "id": "5f884581",
   "metadata": {
    "papermill": {
     "duration": 0.029513,
     "end_time": "2022-07-15T10:52:30.140635",
     "exception": false,
     "start_time": "2022-07-15T10:52:30.111122",
     "status": "completed"
    },
    "tags": []
   },
   "source": [
    "# load and infer"
   ]
  },
  {
   "cell_type": "code",
   "execution_count": 29,
   "id": "fe4abc46",
   "metadata": {
    "execution": {
     "iopub.execute_input": "2022-07-15T10:52:30.201923Z",
     "iopub.status.busy": "2022-07-15T10:52:30.201521Z",
     "iopub.status.idle": "2022-07-15T10:52:41.491586Z",
     "shell.execute_reply": "2022-07-15T10:52:41.489592Z"
    },
    "papermill": {
     "duration": 11.331601,
     "end_time": "2022-07-15T10:52:41.502164",
     "exception": false,
     "start_time": "2022-07-15T10:52:30.170563",
     "status": "completed"
    },
    "tags": []
   },
   "outputs": [
    {
     "name": "stdout",
     "output_type": "stream",
     "text": [
      "Model: Seq2Seq Transformer\n",
      "Source index: <Seq2Seq Index with 7,750 items>\n",
      "Target index: <Seq2Seq Index with 7,751 items>\n",
      "Max sequence length: 7751\n",
      "Embedding dimension: 512\n",
      "Feedforward dimension: 1024\n",
      "Encoder layers: 2\n",
      "Decoder layers: 2\n",
      "Attention heads: 2\n",
      "Activation: relu\n",
      "Dropout: 0.0\n",
      "Trainable parameters: 26,397,767\n",
      "\n"
     ]
    },
    {
     "data": {
      "text/plain": [
       "Transformer(\n",
       "  (source_embeddings): Embedding(7750, 512)\n",
       "  (target_embeddings): Embedding(7751, 512)\n",
       "  (positional_embeddings): Embedding(7751, 512)\n",
       "  (transformer): Transformer(\n",
       "    (encoder): TransformerEncoder(\n",
       "      (layers): ModuleList(\n",
       "        (0): TransformerEncoderLayer(\n",
       "          (self_attn): MultiheadAttention(\n",
       "            (out_proj): NonDynamicallyQuantizableLinear(in_features=512, out_features=512, bias=True)\n",
       "          )\n",
       "          (linear1): Linear(in_features=512, out_features=1024, bias=True)\n",
       "          (dropout): Dropout(p=0.0, inplace=False)\n",
       "          (linear2): Linear(in_features=1024, out_features=512, bias=True)\n",
       "          (norm1): LayerNorm((512,), eps=1e-05, elementwise_affine=True)\n",
       "          (norm2): LayerNorm((512,), eps=1e-05, elementwise_affine=True)\n",
       "          (dropout1): Dropout(p=0.0, inplace=False)\n",
       "          (dropout2): Dropout(p=0.0, inplace=False)\n",
       "        )\n",
       "        (1): TransformerEncoderLayer(\n",
       "          (self_attn): MultiheadAttention(\n",
       "            (out_proj): NonDynamicallyQuantizableLinear(in_features=512, out_features=512, bias=True)\n",
       "          )\n",
       "          (linear1): Linear(in_features=512, out_features=1024, bias=True)\n",
       "          (dropout): Dropout(p=0.0, inplace=False)\n",
       "          (linear2): Linear(in_features=1024, out_features=512, bias=True)\n",
       "          (norm1): LayerNorm((512,), eps=1e-05, elementwise_affine=True)\n",
       "          (norm2): LayerNorm((512,), eps=1e-05, elementwise_affine=True)\n",
       "          (dropout1): Dropout(p=0.0, inplace=False)\n",
       "          (dropout2): Dropout(p=0.0, inplace=False)\n",
       "        )\n",
       "      )\n",
       "      (norm): LayerNorm((512,), eps=1e-05, elementwise_affine=True)\n",
       "    )\n",
       "    (decoder): TransformerDecoder(\n",
       "      (layers): ModuleList(\n",
       "        (0): TransformerDecoderLayer(\n",
       "          (self_attn): MultiheadAttention(\n",
       "            (out_proj): NonDynamicallyQuantizableLinear(in_features=512, out_features=512, bias=True)\n",
       "          )\n",
       "          (multihead_attn): MultiheadAttention(\n",
       "            (out_proj): NonDynamicallyQuantizableLinear(in_features=512, out_features=512, bias=True)\n",
       "          )\n",
       "          (linear1): Linear(in_features=512, out_features=1024, bias=True)\n",
       "          (dropout): Dropout(p=0.0, inplace=False)\n",
       "          (linear2): Linear(in_features=1024, out_features=512, bias=True)\n",
       "          (norm1): LayerNorm((512,), eps=1e-05, elementwise_affine=True)\n",
       "          (norm2): LayerNorm((512,), eps=1e-05, elementwise_affine=True)\n",
       "          (norm3): LayerNorm((512,), eps=1e-05, elementwise_affine=True)\n",
       "          (dropout1): Dropout(p=0.0, inplace=False)\n",
       "          (dropout2): Dropout(p=0.0, inplace=False)\n",
       "          (dropout3): Dropout(p=0.0, inplace=False)\n",
       "        )\n",
       "        (1): TransformerDecoderLayer(\n",
       "          (self_attn): MultiheadAttention(\n",
       "            (out_proj): NonDynamicallyQuantizableLinear(in_features=512, out_features=512, bias=True)\n",
       "          )\n",
       "          (multihead_attn): MultiheadAttention(\n",
       "            (out_proj): NonDynamicallyQuantizableLinear(in_features=512, out_features=512, bias=True)\n",
       "          )\n",
       "          (linear1): Linear(in_features=512, out_features=1024, bias=True)\n",
       "          (dropout): Dropout(p=0.0, inplace=False)\n",
       "          (linear2): Linear(in_features=1024, out_features=512, bias=True)\n",
       "          (norm1): LayerNorm((512,), eps=1e-05, elementwise_affine=True)\n",
       "          (norm2): LayerNorm((512,), eps=1e-05, elementwise_affine=True)\n",
       "          (norm3): LayerNorm((512,), eps=1e-05, elementwise_affine=True)\n",
       "          (dropout1): Dropout(p=0.0, inplace=False)\n",
       "          (dropout2): Dropout(p=0.0, inplace=False)\n",
       "          (dropout3): Dropout(p=0.0, inplace=False)\n",
       "        )\n",
       "      )\n",
       "      (norm): LayerNorm((512,), eps=1e-05, elementwise_affine=True)\n",
       "    )\n",
       "  )\n",
       "  (output_layer): Linear(in_features=512, out_features=7751, bias=True)\n",
       ")"
      ]
     },
     "execution_count": 29,
     "metadata": {},
     "output_type": "execute_result"
    }
   ],
   "source": [
    "del model\n",
    "torch.cuda.empty_cache()\n",
    "gc.collect()\n",
    "\n",
    "\n",
    "model = post_asr_corrector()\n",
    "\n",
    "model.load_state_dict(torch.load(PATH))\n",
    "model.eval()\n",
    "model"
   ]
  },
  {
   "cell_type": "code",
   "execution_count": 30,
   "id": "5f6c62cb",
   "metadata": {
    "execution": {
     "iopub.execute_input": "2022-07-15T10:52:41.623254Z",
     "iopub.status.busy": "2022-07-15T10:52:41.622795Z",
     "iopub.status.idle": "2022-07-15T10:52:43.418255Z",
     "shell.execute_reply": "2022-07-15T10:52:43.416963Z"
    },
    "papermill": {
     "duration": 1.851355,
     "end_time": "2022-07-15T10:52:43.421843",
     "exception": false,
     "start_time": "2022-07-15T10:52:41.570488",
     "status": "completed"
    },
    "tags": []
   },
   "outputs": [],
   "source": [
    "# test data\n",
    "test = \"কৃষি, সেবা, রেমিটেন্স, ব্যবসা ও অন্যান্য।\"\n",
    "reference = \"কৃষি, সেবা, রেমিটেন্স, ব্যবসা ও অন্য\"\n",
    "new_source = [list(test)]\n",
    "X_new = source_index.text2tensor(new_source)\n",
    "\n",
    "# plain beam search\n",
    "predictions, log_probabilities = seq2seq.beam_search(\n",
    "    model, \n",
    "    X_new,\n",
    "    progress_bar = 0\n",
    ")\n",
    "just_beam = target_index.tensor2text(predictions[:, 0, :])[0]\n",
    "just_beam = re.sub(r\"<START>|<PAD>|<UNK>|<END>.*\", \"\", just_beam)"
   ]
  },
  {
   "cell_type": "code",
   "execution_count": 31,
   "id": "bca37fa0",
   "metadata": {
    "execution": {
     "iopub.execute_input": "2022-07-15T10:52:43.484408Z",
     "iopub.status.busy": "2022-07-15T10:52:43.483283Z",
     "iopub.status.idle": "2022-07-15T10:52:43.519742Z",
     "shell.execute_reply": "2022-07-15T10:52:43.518465Z"
    },
    "papermill": {
     "duration": 0.069745,
     "end_time": "2022-07-15T10:52:43.522556",
     "exception": false,
     "start_time": "2022-07-15T10:52:43.452811",
     "status": "completed"
    },
    "tags": []
   },
   "outputs": [
    {
     "data": {
      "text/plain": [
       "tensor([[-80.6727, -82.7041, -82.8608, -82.9353, -83.0217]])"
      ]
     },
     "execution_count": 31,
     "metadata": {},
     "output_type": "execute_result"
    }
   ],
   "source": [
    "log_probabilities"
   ]
  },
  {
   "cell_type": "code",
   "execution_count": 32,
   "id": "b5563e98",
   "metadata": {
    "execution": {
     "iopub.execute_input": "2022-07-15T10:52:43.583176Z",
     "iopub.status.busy": "2022-07-15T10:52:43.582882Z",
     "iopub.status.idle": "2022-07-15T10:52:48.059969Z",
     "shell.execute_reply": "2022-07-15T10:52:48.058614Z"
    },
    "papermill": {
     "duration": 4.510667,
     "end_time": "2022-07-15T10:52:48.063026",
     "exception": false,
     "start_time": "2022-07-15T10:52:43.552359",
     "status": "completed"
    },
    "tags": []
   },
   "outputs": [],
   "source": [
    "# post ocr correction\n",
    "disjoint_beam = correction.disjoint(\n",
    "    test,\n",
    "    model,\n",
    "    source_index,\n",
    "    target_index,\n",
    "    50,\n",
    "    \"beam_search\",\n",
    ")"
   ]
  },
  {
   "cell_type": "code",
   "execution_count": 33,
   "id": "fec3973a",
   "metadata": {
    "execution": {
     "iopub.execute_input": "2022-07-15T10:52:48.124766Z",
     "iopub.status.busy": "2022-07-15T10:52:48.124427Z",
     "iopub.status.idle": "2022-07-15T10:52:48.131905Z",
     "shell.execute_reply": "2022-07-15T10:52:48.130581Z"
    },
    "papermill": {
     "duration": 0.041361,
     "end_time": "2022-07-15T10:52:48.134881",
     "exception": false,
     "start_time": "2022-07-15T10:52:48.093520",
     "status": "completed"
    },
    "tags": []
   },
   "outputs": [
    {
     "name": "stdout",
     "output_type": "stream",
     "text": [
      "\n",
      "results\n",
      "  test data                       কৃষি, সেবা, রেমিটেন্স, ব্যবসা ও অন্যান্য।\n",
      "  plain beam search               কৃষি, সেবা, রেমিটেন্স, ব্যবসা ও অন্যান্য।তিনি ছিলেন চাকমা ভাষার প্রথম আধুনিক গীতিকার।ইংরেজির সাথে সাথে তাদের হিন্দী ও সংস্কৃত শিক্ষা দেওয়া হতো।শিখর ধাওয়ান তার প্রথম আন্তর্জাতিক উইকেট শিকারে পরিণত হয়েছিলেন।চতুর্থ সপ্তাহ থেকে অবস্থার উন্নতি হতে থাকে,কিন্তু এই উন্নতির হারের কিছু হেরফের আছে।এখানে তিনি এয়াকিনসের অধীনে অধ্যয়ন করেছিলেন।শীতকালীন গেমসে এখনো কোন পদক জিততে পারেনি।অবশেষে, তিনি কাবুলে ফিরে আসেন।তিনি এথেন্সে এসে সক্রেটিসের শিষ্য হন।তিন বছর বয়সে তাঁর বাবা মারা যান।এর আগে রাজারহাট কেন্দ্রটি বিদ্যমান ছিল না।অবসর পরবর্তীকালে আম্পায়ার ও ধারাভাষ্যকারের ভূমিকায় অবতীর্ণ হন।এই বৃদ্ধি আগামী চল্লিশ থেকে পঞ্চাশ বৎসর ধরে ঘটতে থাকবে।নিষিদ্ধ আদেশ তৎক্ষণাৎ শহরের উপর চাপিয়ে দেওয়া হয়েছিল।বর্তমানে তিনি মার্কিন যুক্তরাষ্ট্রের ফ্লোরিডায় বসবাস করছেন।সর্বত্রই কাঁচা কর্দমাক্ত রাস্তা এসব রাস্তা দিয়েই মানুষ অতি কষ্টে চলাচল করত।সত্যি এ বাড়িতে কোন মহিলা খুন হয়েছিল?এটি নির্মাণ করেছে শালিমার ওয়ার্ক।তিনি কুয়েতের দশম শাসক শেখ আহমাদ আল-জাবের আল-সাবাহ-এর পুত্র।ও আমার উপর ক্রাশ।\n",
      "  disjoint windows, beam search   কৃষি, সেবা, রেমিটেন্স, ব্যবসা ও অন্যান্য।তিনি ছিলেন চাকমা ভাষার প্রথম আধুনিক গীতিকার।ইংরেজির সাথে সাথে তাদের হিন্দী ও সংস্কৃত শিক্ষা দেওয়া হতো।শিখর ধাওয়ান তার প্রথম আন্তর্জাতিক উইকেট শিকারে পরিণত হয়েছিলেন।চতুর্থ সপ্তাহ থেকে অবস্থার উন্নতি হতে থাকে,কিন্তু এই উন্নতির হারের কিছু হেরফের আছে।এখানে তিনি এয়াকিনসের অধীনে অধ্যয়ন করেছিলেন।শীতকালীন গেমসে এখনো কোন পদক জিততে পারেনি।অবশেষে, তিনি কাবুলে ফিরে আসেন।তিনি এথেন্সে এসে সক্রেটিসের শিষ্য হন।তিন বছর বয়সে তাঁর বাবা মারা যান।এর আগে রাজারহাট কেন্দ্রটি বিদ্যমান ছিল না।অবসর পরবর্তীকালে আম্পায়ার ও ধারাভাষ্যকারের ভূমিকায় অবতীর্ণ হন।এই বৃদ্ধি আগামী চল্লিশ থেকে পঞ্চাশ বৎসর ধরে ঘটতে থাকবে।নিষিদ্ধ আদেশ তৎক্ষণাৎ শহরের উপর চাপিয়ে দেওয়া হয়েছিল।বর্তমানে তিনি মার্কিন যুক্তরাষ্ট্রের ফ্লোরিডায় বসবাস করছেন।সর্বত্রই কাঁচা কর্দমাক্ত রাস্তা এসব রাস্তা দিয়েই মানুষ অতি কষ্টে চলাচল করত।সত্যি এ বাড়িতে কোন মহিলা খুন হয়েছিল?এটি নির্মাণ করেছে শালিমার ওয়ার্ক।তিনি কুয়েতের দশম শাসক শেখ আহমাদ আল-জাবের আল-সাবাহ-এর পুত্র।ও আমার উপর ক্রাশ।এ উৎপাদন দেশের চাহিদার তুলনায় বেশ কম।এছাড়া শহরটি থেকে বহু সড়ক জেলার বিভিন্ন প্রান্তে ছড়িয়ে পড়েছে।অক্সফোর্ড বিশ্ববিদ্যালয়ে অধ্যয়ন করেছেন জন নিকোলসন।ওয়ার্ডটি কলকাতা পুলিশের পাটুলি থানা পরিবেশন করে।রবিন্স পরিচালনার জন্য একটি পুরস্কার ও চলচ্চিত্রে নৃত্য পরিচালনার শিল্পে অসামান্য অবদানের জন্য একটি বিশেষ পুরস্কার লাভ করেন।নরওয়েজীয় উইকিপিডিয়ায় উইকিপিডিয়ানদের সম্মিলিত সম্পাদনার সংখ্যা টি।ইন্দোনেশীয় দ্বীপপুঞ্জ প্রথম দিকের উল্লেখ রয়েছে আব্বাসীয় খিলাফত সময়কালে।এটি ডাব্লিউডাব্লিউই নারী ট্যাগ টিম চ্যাম্পিয়নশিপের পাশাপাশি ডাব্লিউডাব্লিউইতে বিদ্যমান দুটি নারী ট্যাগ টিম চ্যাম্পিয়নশিপের মধ্যে একটি।প্রাতিষ্ঠানিক শিক্ষার জন্যে ছোটবেলা থেকেই তাকে সংগ্রাম করে চলতে হয়েছে।আরব জাতির মধ্যে নানা জাতির মিশ্রণ রয়েছে।বছরের সরকারী হিসাব অনুসারে মর্দান জেলার জনসংখ্যা নিচের ছকে দেখানো হয়েছে।গল্পের মূল চরিত্রের নাম ‘সাজিদ’।এর পূর্ব এবং পশ্চিমে পর্বতমালা আছে এবং এটি বাগো অঞ্চলের উত্তর-পূর্ব প্রান্তে অবস্থিত।স্টেশনে যাত্রীবাহী ট্রেনের তিনটি প্লাটফর্ম এবং পণ্য ট্রেনের জন্য দুটি পণ্য পরিবহনের ছাউনি রয়েছে।প্রকৃত অর্থে, কাল্ট মূর্তিগুলির নিয়মিত যত্ন নেওয়া হত ও এগুলির প্রতি বিশেষ মনোযোগ দেওয়া হত।আরো কম প্রচলিত একটি রূপভেদ হল \"নমোবাম্\"।তিনি দারুল উলুম দেওবন্দের প্রাক্তন ছাত্র এবং মাহমুদ হাসান দেওবন্দির থামরাতুত-তারবিয়াতের প্রতিষ্ঠাতা সদস্যদের মধ্যে ছিলেন।তিনি আবহাওয়া যন্ত্র বিষয়ে অনেক গবেষণামূলক কাগজপত্র প্রকাশ করেন।ইসলামী শাসকরা হিন্দু ধর্মাবলম্বীদের জন্য তাদের ইসলামিক আচরণ অনুসারে প্রকাশ্য স্থানে পোশাক নিয়মাবলী জারি করেছে।কোয়ার্টার-ফাইনালে উত্তীর্ণ।তার পিতা মুফতি মাহমুদ।অ্যাপোলো ও আর্টেমিস যমজ ভাই-বোন ছিলেন।তাই এই গান কারোর বাড়িতে গীত হয়না।এখন বিদায় হও।তিনি প্রথমবার সংসদ সদস্য নির্বাচিত হয়েছিলেন।অ্যাডমিরাল চ্যাটার্জী নতুন দিল্লিতে মারা যান।সিদ্ধান্ত নিলেন ব্যান্ড গড়ার।এই তারা সূর্য থেকে তৃতীয় নিকটবর্তী।ঝরিয়ায় ভূমিকম্পের ফলে ভূগর্ভস্থ আগুন আরও ছড়িয়ে পড়ে।তা ছাড়া আমাদের ব্যান্ডের সবাই গানের ব্যাপারে খুবই সিরিয়াস।\n",
      "  disjoint_beam[0:len(test)] ->   কৃষি, সেবা, রেমিটেন্স, ব্যবসা ও অন্যান্য।\n"
     ]
    }
   ],
   "source": [
    "print(\"\\nresults\")\n",
    "print(\"  test data                      \", test)\n",
    "print(\"  plain beam search              \", just_beam)\n",
    "print(\"  disjoint windows, beam search  \", disjoint_beam)\n",
    "print(\"  disjoint_beam[0:len(test)] ->  \", disjoint_beam[0:len(test)]) "
   ]
  },
  {
   "cell_type": "markdown",
   "id": "3d4a8214",
   "metadata": {
    "papermill": {
     "duration": 0.029197,
     "end_time": "2022-07-15T10:52:48.194083",
     "exception": false,
     "start_time": "2022-07-15T10:52:48.164886",
     "status": "completed"
    },
    "tags": []
   },
   "source": [
    "# improvement ideas\n",
    "\n",
    "for better post ASR correction,i would like to recommend going deep in [ROBART](https://arxiv.org/pdf/2202.01157.pdf)\n",
    "![](https://i.ibb.co/YWVGRVF/post-asr-corrector.png)\n",
    "\n",
    "![](https://i.ibb.co/9sZbvD7/post-asr.png)\n",
    "one example implementation of levenshtein transformer can be found [here](https://github.com/nmfisher/levenshtein_transformer/blob/master/Untitled.ipynb)\n",
    "\n",
    "more about post ASR correction was discussed [here](https://www.kaggle.com/competitions/dlsprint/discussion/335411)"
   ]
  },
  {
   "cell_type": "markdown",
   "id": "2e962f50",
   "metadata": {
    "papermill": {
     "duration": 0.029425,
     "end_time": "2022-07-15T10:52:48.253719",
     "exception": false,
     "start_time": "2022-07-15T10:52:48.224294",
     "status": "completed"
    },
    "tags": []
   },
   "source": [
    "![](https://images.unsplash.com/photo-1499744937866-d7e566a20a61?ixlib=rb-1.2.1&ixid=MnwxMjA3fDB8MHxwaG90by1wYWdlfHx8fGVufDB8fHx8&auto=format&fit=crop&w=870&q=80)"
   ]
  },
  {
   "cell_type": "code",
   "execution_count": null,
   "id": "8f46200a",
   "metadata": {
    "papermill": {
     "duration": 0.030574,
     "end_time": "2022-07-15T10:52:48.314270",
     "exception": false,
     "start_time": "2022-07-15T10:52:48.283696",
     "status": "completed"
    },
    "tags": []
   },
   "outputs": [],
   "source": []
  },
  {
   "cell_type": "code",
   "execution_count": null,
   "id": "00401a05",
   "metadata": {
    "papermill": {
     "duration": 0.029774,
     "end_time": "2022-07-15T10:52:48.374502",
     "exception": false,
     "start_time": "2022-07-15T10:52:48.344728",
     "status": "completed"
    },
    "tags": []
   },
   "outputs": [],
   "source": []
  },
  {
   "cell_type": "code",
   "execution_count": null,
   "id": "093cacdb",
   "metadata": {
    "papermill": {
     "duration": 0.030313,
     "end_time": "2022-07-15T10:52:48.435189",
     "exception": false,
     "start_time": "2022-07-15T10:52:48.404876",
     "status": "completed"
    },
    "tags": []
   },
   "outputs": [],
   "source": []
  }
 ],
 "metadata": {
  "kernelspec": {
   "display_name": "Python 3",
   "language": "python",
   "name": "python3"
  },
  "language_info": {
   "codemirror_mode": {
    "name": "ipython",
    "version": 3
   },
   "file_extension": ".py",
   "mimetype": "text/x-python",
   "name": "python",
   "nbconvert_exporter": "python",
   "pygments_lexer": "ipython3",
   "version": "3.7.12"
  },
  "papermill": {
   "default_parameters": {},
   "duration": 8551.326596,
   "end_time": "2022-07-15T10:52:51.424912",
   "environment_variables": {},
   "exception": null,
   "input_path": "__notebook__.ipynb",
   "output_path": "__notebook__.ipynb",
   "parameters": {},
   "start_time": "2022-07-15T08:30:20.098316",
   "version": "2.3.4"
  },
  "widgets": {
   "application/vnd.jupyter.widget-state+json": {
    "state": {
     "0085600ddaa9492d852a573b4286c345": {
      "model_module": "@jupyter-widgets/controls",
      "model_module_version": "1.5.0",
      "model_name": "DescriptionStyleModel",
      "state": {
       "_model_module": "@jupyter-widgets/controls",
       "_model_module_version": "1.5.0",
       "_model_name": "DescriptionStyleModel",
       "_view_count": null,
       "_view_module": "@jupyter-widgets/base",
       "_view_module_version": "1.2.0",
       "_view_name": "StyleView",
       "description_width": ""
      }
     },
     "00f494e99d4e470fae6d09972d880cb8": {
      "model_module": "@jupyter-widgets/base",
      "model_module_version": "1.2.0",
      "model_name": "LayoutModel",
      "state": {
       "_model_module": "@jupyter-widgets/base",
       "_model_module_version": "1.2.0",
       "_model_name": "LayoutModel",
       "_view_count": null,
       "_view_module": "@jupyter-widgets/base",
       "_view_module_version": "1.2.0",
       "_view_name": "LayoutView",
       "align_content": null,
       "align_items": null,
       "align_self": null,
       "border": null,
       "bottom": null,
       "display": null,
       "flex": null,
       "flex_flow": null,
       "grid_area": null,
       "grid_auto_columns": null,
       "grid_auto_flow": null,
       "grid_auto_rows": null,
       "grid_column": null,
       "grid_gap": null,
       "grid_row": null,
       "grid_template_areas": null,
       "grid_template_columns": null,
       "grid_template_rows": null,
       "height": null,
       "justify_content": null,
       "justify_items": null,
       "left": null,
       "margin": null,
       "max_height": null,
       "max_width": null,
       "min_height": null,
       "min_width": null,
       "object_fit": null,
       "object_position": null,
       "order": null,
       "overflow": null,
       "overflow_x": null,
       "overflow_y": null,
       "padding": null,
       "right": null,
       "top": null,
       "visibility": null,
       "width": null
      }
     },
     "02f4454ee8f445e2a6e5186d2ac48e48": {
      "model_module": "@jupyter-widgets/base",
      "model_module_version": "1.2.0",
      "model_name": "LayoutModel",
      "state": {
       "_model_module": "@jupyter-widgets/base",
       "_model_module_version": "1.2.0",
       "_model_name": "LayoutModel",
       "_view_count": null,
       "_view_module": "@jupyter-widgets/base",
       "_view_module_version": "1.2.0",
       "_view_name": "LayoutView",
       "align_content": null,
       "align_items": null,
       "align_self": null,
       "border": null,
       "bottom": null,
       "display": null,
       "flex": null,
       "flex_flow": null,
       "grid_area": null,
       "grid_auto_columns": null,
       "grid_auto_flow": null,
       "grid_auto_rows": null,
       "grid_column": null,
       "grid_gap": null,
       "grid_row": null,
       "grid_template_areas": null,
       "grid_template_columns": null,
       "grid_template_rows": null,
       "height": null,
       "justify_content": null,
       "justify_items": null,
       "left": null,
       "margin": null,
       "max_height": null,
       "max_width": null,
       "min_height": null,
       "min_width": null,
       "object_fit": null,
       "object_position": null,
       "order": null,
       "overflow": null,
       "overflow_x": null,
       "overflow_y": null,
       "padding": null,
       "right": null,
       "top": null,
       "visibility": null,
       "width": null
      }
     },
     "03ffa5ee25a846e4bfee5e39c58b2aaf": {
      "model_module": "@jupyter-widgets/base",
      "model_module_version": "1.2.0",
      "model_name": "LayoutModel",
      "state": {
       "_model_module": "@jupyter-widgets/base",
       "_model_module_version": "1.2.0",
       "_model_name": "LayoutModel",
       "_view_count": null,
       "_view_module": "@jupyter-widgets/base",
       "_view_module_version": "1.2.0",
       "_view_name": "LayoutView",
       "align_content": null,
       "align_items": null,
       "align_self": null,
       "border": null,
       "bottom": null,
       "display": null,
       "flex": null,
       "flex_flow": null,
       "grid_area": null,
       "grid_auto_columns": null,
       "grid_auto_flow": null,
       "grid_auto_rows": null,
       "grid_column": null,
       "grid_gap": null,
       "grid_row": null,
       "grid_template_areas": null,
       "grid_template_columns": null,
       "grid_template_rows": null,
       "height": null,
       "justify_content": null,
       "justify_items": null,
       "left": null,
       "margin": null,
       "max_height": null,
       "max_width": null,
       "min_height": null,
       "min_width": null,
       "object_fit": null,
       "object_position": null,
       "order": null,
       "overflow": null,
       "overflow_x": null,
       "overflow_y": null,
       "padding": null,
       "right": null,
       "top": null,
       "visibility": null,
       "width": null
      }
     },
     "08401d789ba6462db7f2746c607d20f8": {
      "model_module": "@jupyter-widgets/controls",
      "model_module_version": "1.5.0",
      "model_name": "HTMLModel",
      "state": {
       "_dom_classes": [],
       "_model_module": "@jupyter-widgets/controls",
       "_model_module_version": "1.5.0",
       "_model_name": "HTMLModel",
       "_view_count": null,
       "_view_module": "@jupyter-widgets/controls",
       "_view_module_version": "1.5.0",
       "_view_name": "HTMLView",
       "description": "",
       "description_tooltip": null,
       "layout": "IPY_MODEL_1b467319fbfd491c9fa9a0ff27cfa469",
       "placeholder": "​",
       "style": "IPY_MODEL_bc5434494534449da2682c0cee82ec2e",
       "value": " 1.99k/1.99k [00:00&lt;00:00, 56.9kB/s]"
      }
     },
     "0aac7cd2f42140d989302a7df3a69116": {
      "model_module": "@jupyter-widgets/base",
      "model_module_version": "1.2.0",
      "model_name": "LayoutModel",
      "state": {
       "_model_module": "@jupyter-widgets/base",
       "_model_module_version": "1.2.0",
       "_model_name": "LayoutModel",
       "_view_count": null,
       "_view_module": "@jupyter-widgets/base",
       "_view_module_version": "1.2.0",
       "_view_name": "LayoutView",
       "align_content": null,
       "align_items": null,
       "align_self": null,
       "border": null,
       "bottom": null,
       "display": null,
       "flex": null,
       "flex_flow": null,
       "grid_area": null,
       "grid_auto_columns": null,
       "grid_auto_flow": null,
       "grid_auto_rows": null,
       "grid_column": null,
       "grid_gap": null,
       "grid_row": null,
       "grid_template_areas": null,
       "grid_template_columns": null,
       "grid_template_rows": null,
       "height": null,
       "justify_content": null,
       "justify_items": null,
       "left": null,
       "margin": null,
       "max_height": null,
       "max_width": null,
       "min_height": null,
       "min_width": null,
       "object_fit": null,
       "object_position": null,
       "order": null,
       "overflow": null,
       "overflow_x": null,
       "overflow_y": null,
       "padding": null,
       "right": null,
       "top": null,
       "visibility": null,
       "width": null
      }
     },
     "0b36e794afea4583ba72ff95e218f7e2": {
      "model_module": "@jupyter-widgets/controls",
      "model_module_version": "1.5.0",
      "model_name": "DescriptionStyleModel",
      "state": {
       "_model_module": "@jupyter-widgets/controls",
       "_model_module_version": "1.5.0",
       "_model_name": "DescriptionStyleModel",
       "_view_count": null,
       "_view_module": "@jupyter-widgets/base",
       "_view_module_version": "1.2.0",
       "_view_name": "StyleView",
       "description_width": ""
      }
     },
     "0b773bcd1bc04aba92d388add4dc54bf": {
      "model_module": "@jupyter-widgets/base",
      "model_module_version": "1.2.0",
      "model_name": "LayoutModel",
      "state": {
       "_model_module": "@jupyter-widgets/base",
       "_model_module_version": "1.2.0",
       "_model_name": "LayoutModel",
       "_view_count": null,
       "_view_module": "@jupyter-widgets/base",
       "_view_module_version": "1.2.0",
       "_view_name": "LayoutView",
       "align_content": null,
       "align_items": null,
       "align_self": null,
       "border": null,
       "bottom": null,
       "display": null,
       "flex": null,
       "flex_flow": null,
       "grid_area": null,
       "grid_auto_columns": null,
       "grid_auto_flow": null,
       "grid_auto_rows": null,
       "grid_column": null,
       "grid_gap": null,
       "grid_row": null,
       "grid_template_areas": null,
       "grid_template_columns": null,
       "grid_template_rows": null,
       "height": null,
       "justify_content": null,
       "justify_items": null,
       "left": null,
       "margin": null,
       "max_height": null,
       "max_width": null,
       "min_height": null,
       "min_width": null,
       "object_fit": null,
       "object_position": null,
       "order": null,
       "overflow": null,
       "overflow_x": null,
       "overflow_y": null,
       "padding": null,
       "right": null,
       "top": null,
       "visibility": null,
       "width": null
      }
     },
     "11d18b885cca41aa96be72120a3d435e": {
      "model_module": "@jupyter-widgets/controls",
      "model_module_version": "1.5.0",
      "model_name": "HTMLModel",
      "state": {
       "_dom_classes": [],
       "_model_module": "@jupyter-widgets/controls",
       "_model_module_version": "1.5.0",
       "_model_name": "HTMLModel",
       "_view_count": null,
       "_view_module": "@jupyter-widgets/controls",
       "_view_module_version": "1.5.0",
       "_view_name": "HTMLView",
       "description": "",
       "description_tooltip": null,
       "layout": "IPY_MODEL_da3be2d2498f467bbf9b4cfbe4746ee2",
       "placeholder": "​",
       "style": "IPY_MODEL_f7a0b98bd1554496a25db285a7a798d5",
       "value": "Downloading: 100%"
      }
     },
     "14d18119f21249bc9056d9ac94b7a455": {
      "model_module": "@jupyter-widgets/controls",
      "model_module_version": "1.5.0",
      "model_name": "HTMLModel",
      "state": {
       "_dom_classes": [],
       "_model_module": "@jupyter-widgets/controls",
       "_model_module_version": "1.5.0",
       "_model_name": "HTMLModel",
       "_view_count": null,
       "_view_module": "@jupyter-widgets/controls",
       "_view_module_version": "1.5.0",
       "_view_name": "HTMLView",
       "description": "",
       "description_tooltip": null,
       "layout": "IPY_MODEL_2636218376804175ac1fc89187c6b43c",
       "placeholder": "​",
       "style": "IPY_MODEL_2fe72e3ec46c4035922f4e4380215d52",
       "value": "Downloading: 100%"
      }
     },
     "15c9f56b88b246448f645b06fbbebf3f": {
      "model_module": "@jupyter-widgets/controls",
      "model_module_version": "1.5.0",
      "model_name": "FloatProgressModel",
      "state": {
       "_dom_classes": [],
       "_model_module": "@jupyter-widgets/controls",
       "_model_module_version": "1.5.0",
       "_model_name": "FloatProgressModel",
       "_view_count": null,
       "_view_module": "@jupyter-widgets/controls",
       "_view_module_version": "1.5.0",
       "_view_name": "ProgressView",
       "bar_style": "success",
       "description": "",
       "description_tooltip": null,
       "layout": "IPY_MODEL_c15bdabf0b494d10ad0f967aab66e02c",
       "max": 261.0,
       "min": 0.0,
       "orientation": "horizontal",
       "style": "IPY_MODEL_aa4e4ea326ba4c04ab37a13bdc299439",
       "value": 261.0
      }
     },
     "16ac2ea3944a45e18a9dd1fafcb8c773": {
      "model_module": "@jupyter-widgets/controls",
      "model_module_version": "1.5.0",
      "model_name": "HBoxModel",
      "state": {
       "_dom_classes": [],
       "_model_module": "@jupyter-widgets/controls",
       "_model_module_version": "1.5.0",
       "_model_name": "HBoxModel",
       "_view_count": null,
       "_view_module": "@jupyter-widgets/controls",
       "_view_module_version": "1.5.0",
       "_view_name": "HBoxView",
       "box_style": "",
       "children": [
        "IPY_MODEL_ac89c020f83547b89f61cea685d9f569",
        "IPY_MODEL_e1d50c3462444301ad80dc75cdee1803",
        "IPY_MODEL_8c9c6649666b471b97f7ba1edfd18d74"
       ],
       "layout": "IPY_MODEL_0aac7cd2f42140d989302a7df3a69116"
      }
     },
     "16f82d2bd5bb49778f69c204b4f360c2": {
      "model_module": "@jupyter-widgets/controls",
      "model_module_version": "1.5.0",
      "model_name": "HTMLModel",
      "state": {
       "_dom_classes": [],
       "_model_module": "@jupyter-widgets/controls",
       "_model_module_version": "1.5.0",
       "_model_name": "HTMLModel",
       "_view_count": null,
       "_view_module": "@jupyter-widgets/controls",
       "_view_module_version": "1.5.0",
       "_view_name": "HTMLView",
       "description": "",
       "description_tooltip": null,
       "layout": "IPY_MODEL_cdc4095872b64d1e8bece4d4c08f5ff5",
       "placeholder": "​",
       "style": "IPY_MODEL_603aca0358e14d449b0ee3601ba397f1",
       "value": " 755/755 [00:00&lt;00:00, 21.5kB/s]"
      }
     },
     "1736602e2e6d47d29424f282a058bf25": {
      "model_module": "@jupyter-widgets/controls",
      "model_module_version": "1.5.0",
      "model_name": "FloatProgressModel",
      "state": {
       "_dom_classes": [],
       "_model_module": "@jupyter-widgets/controls",
       "_model_module_version": "1.5.0",
       "_model_name": "FloatProgressModel",
       "_view_count": null,
       "_view_module": "@jupyter-widgets/controls",
       "_view_module_version": "1.5.0",
       "_view_name": "ProgressView",
       "bar_style": "success",
       "description": "",
       "description_tooltip": null,
       "layout": "IPY_MODEL_ea468aba80a54789b908cdcfc57e0423",
       "max": 75.0,
       "min": 0.0,
       "orientation": "horizontal",
       "style": "IPY_MODEL_a52ec813112d44f5bd918395fe6c746c",
       "value": 75.0
      }
     },
     "18d65e2126184001b238f3be1a981114": {
      "model_module": "@jupyter-widgets/controls",
      "model_module_version": "1.5.0",
      "model_name": "FloatProgressModel",
      "state": {
       "_dom_classes": [],
       "_model_module": "@jupyter-widgets/controls",
       "_model_module_version": "1.5.0",
       "_model_name": "FloatProgressModel",
       "_view_count": null,
       "_view_module": "@jupyter-widgets/controls",
       "_view_module_version": "1.5.0",
       "_view_name": "ProgressView",
       "bar_style": "success",
       "description": "",
       "description_tooltip": null,
       "layout": "IPY_MODEL_00f494e99d4e470fae6d09972d880cb8",
       "max": 3477313377.0,
       "min": 0.0,
       "orientation": "horizontal",
       "style": "IPY_MODEL_19234ccfffa04b5aa50245f5878cdd09",
       "value": 3477313377.0
      }
     },
     "19234ccfffa04b5aa50245f5878cdd09": {
      "model_module": "@jupyter-widgets/controls",
      "model_module_version": "1.5.0",
      "model_name": "ProgressStyleModel",
      "state": {
       "_model_module": "@jupyter-widgets/controls",
       "_model_module_version": "1.5.0",
       "_model_name": "ProgressStyleModel",
       "_view_count": null,
       "_view_module": "@jupyter-widgets/base",
       "_view_module_version": "1.2.0",
       "_view_name": "StyleView",
       "bar_color": null,
       "description_width": ""
      }
     },
     "1935c929961c436da0221e43d57cc7cb": {
      "model_module": "@jupyter-widgets/controls",
      "model_module_version": "1.5.0",
      "model_name": "HBoxModel",
      "state": {
       "_dom_classes": [],
       "_model_module": "@jupyter-widgets/controls",
       "_model_module_version": "1.5.0",
       "_model_name": "HBoxModel",
       "_view_count": null,
       "_view_module": "@jupyter-widgets/controls",
       "_view_module_version": "1.5.0",
       "_view_name": "HBoxView",
       "box_style": "",
       "children": [
        "IPY_MODEL_6514b1af540f46599784591fc3656485",
        "IPY_MODEL_d6a2b46728564501bb0e7023075ec81e",
        "IPY_MODEL_4b44b71a8030445a9d5a69f8582df020"
       ],
       "layout": "IPY_MODEL_e5fb38b2800b4aa682a79e7853cb6549"
      }
     },
     "1b467319fbfd491c9fa9a0ff27cfa469": {
      "model_module": "@jupyter-widgets/base",
      "model_module_version": "1.2.0",
      "model_name": "LayoutModel",
      "state": {
       "_model_module": "@jupyter-widgets/base",
       "_model_module_version": "1.2.0",
       "_model_name": "LayoutModel",
       "_view_count": null,
       "_view_module": "@jupyter-widgets/base",
       "_view_module_version": "1.2.0",
       "_view_name": "LayoutView",
       "align_content": null,
       "align_items": null,
       "align_self": null,
       "border": null,
       "bottom": null,
       "display": null,
       "flex": null,
       "flex_flow": null,
       "grid_area": null,
       "grid_auto_columns": null,
       "grid_auto_flow": null,
       "grid_auto_rows": null,
       "grid_column": null,
       "grid_gap": null,
       "grid_row": null,
       "grid_template_areas": null,
       "grid_template_columns": null,
       "grid_template_rows": null,
       "height": null,
       "justify_content": null,
       "justify_items": null,
       "left": null,
       "margin": null,
       "max_height": null,
       "max_width": null,
       "min_height": null,
       "min_width": null,
       "object_fit": null,
       "object_position": null,
       "order": null,
       "overflow": null,
       "overflow_x": null,
       "overflow_y": null,
       "padding": null,
       "right": null,
       "top": null,
       "visibility": null,
       "width": null
      }
     },
     "1bae0b4edf7947c99c826812ff6a3b3b": {
      "model_module": "@jupyter-widgets/base",
      "model_module_version": "1.2.0",
      "model_name": "LayoutModel",
      "state": {
       "_model_module": "@jupyter-widgets/base",
       "_model_module_version": "1.2.0",
       "_model_name": "LayoutModel",
       "_view_count": null,
       "_view_module": "@jupyter-widgets/base",
       "_view_module_version": "1.2.0",
       "_view_name": "LayoutView",
       "align_content": null,
       "align_items": null,
       "align_self": null,
       "border": null,
       "bottom": null,
       "display": null,
       "flex": null,
       "flex_flow": null,
       "grid_area": null,
       "grid_auto_columns": null,
       "grid_auto_flow": null,
       "grid_auto_rows": null,
       "grid_column": null,
       "grid_gap": null,
       "grid_row": null,
       "grid_template_areas": null,
       "grid_template_columns": null,
       "grid_template_rows": null,
       "height": null,
       "justify_content": null,
       "justify_items": null,
       "left": null,
       "margin": null,
       "max_height": null,
       "max_width": null,
       "min_height": null,
       "min_width": null,
       "object_fit": null,
       "object_position": null,
       "order": null,
       "overflow": null,
       "overflow_x": null,
       "overflow_y": null,
       "padding": null,
       "right": null,
       "top": null,
       "visibility": null,
       "width": null
      }
     },
     "202b89e0a47c4271a61982e26e8696b4": {
      "model_module": "@jupyter-widgets/controls",
      "model_module_version": "1.5.0",
      "model_name": "DescriptionStyleModel",
      "state": {
       "_model_module": "@jupyter-widgets/controls",
       "_model_module_version": "1.5.0",
       "_model_name": "DescriptionStyleModel",
       "_view_count": null,
       "_view_module": "@jupyter-widgets/base",
       "_view_module_version": "1.2.0",
       "_view_name": "StyleView",
       "description_width": ""
      }
     },
     "2034ca6ce01d449a87ac1b4ae5fba717": {
      "model_module": "@jupyter-widgets/controls",
      "model_module_version": "1.5.0",
      "model_name": "DescriptionStyleModel",
      "state": {
       "_model_module": "@jupyter-widgets/controls",
       "_model_module_version": "1.5.0",
       "_model_name": "DescriptionStyleModel",
       "_view_count": null,
       "_view_module": "@jupyter-widgets/base",
       "_view_module_version": "1.2.0",
       "_view_name": "StyleView",
       "description_width": ""
      }
     },
     "22150c1521cb4178953f06e6e604fb92": {
      "model_module": "@jupyter-widgets/controls",
      "model_module_version": "1.5.0",
      "model_name": "FloatProgressModel",
      "state": {
       "_dom_classes": [],
       "_model_module": "@jupyter-widgets/controls",
       "_model_module_version": "1.5.0",
       "_model_name": "FloatProgressModel",
       "_view_count": null,
       "_view_module": "@jupyter-widgets/controls",
       "_view_module_version": "1.5.0",
       "_view_name": "ProgressView",
       "bar_style": "success",
       "description": "",
       "description_tooltip": null,
       "layout": "IPY_MODEL_262c11b251594a4bb4fcbd3edaa57a4f",
       "max": 1901.0,
       "min": 0.0,
       "orientation": "horizontal",
       "style": "IPY_MODEL_9d9899ffb9954b3d961d08cac0bee201",
       "value": 1901.0
      }
     },
     "22a8cd900c4a4f32be83b45e9818127e": {
      "model_module": "@jupyter-widgets/base",
      "model_module_version": "1.2.0",
      "model_name": "LayoutModel",
      "state": {
       "_model_module": "@jupyter-widgets/base",
       "_model_module_version": "1.2.0",
       "_model_name": "LayoutModel",
       "_view_count": null,
       "_view_module": "@jupyter-widgets/base",
       "_view_module_version": "1.2.0",
       "_view_name": "LayoutView",
       "align_content": null,
       "align_items": null,
       "align_self": null,
       "border": null,
       "bottom": null,
       "display": null,
       "flex": null,
       "flex_flow": null,
       "grid_area": null,
       "grid_auto_columns": null,
       "grid_auto_flow": null,
       "grid_auto_rows": null,
       "grid_column": null,
       "grid_gap": null,
       "grid_row": null,
       "grid_template_areas": null,
       "grid_template_columns": null,
       "grid_template_rows": null,
       "height": null,
       "justify_content": null,
       "justify_items": null,
       "left": null,
       "margin": null,
       "max_height": null,
       "max_width": null,
       "min_height": null,
       "min_width": null,
       "object_fit": null,
       "object_position": null,
       "order": null,
       "overflow": null,
       "overflow_x": null,
       "overflow_y": null,
       "padding": null,
       "right": null,
       "top": null,
       "visibility": null,
       "width": null
      }
     },
     "22ed4ce9dd2a421793e60af142a8bc4b": {
      "model_module": "@jupyter-widgets/controls",
      "model_module_version": "1.5.0",
      "model_name": "ProgressStyleModel",
      "state": {
       "_model_module": "@jupyter-widgets/controls",
       "_model_module_version": "1.5.0",
       "_model_name": "ProgressStyleModel",
       "_view_count": null,
       "_view_module": "@jupyter-widgets/base",
       "_view_module_version": "1.2.0",
       "_view_name": "StyleView",
       "bar_color": null,
       "description_width": ""
      }
     },
     "23334fc27a4f4ef794fcd619397810c4": {
      "model_module": "@jupyter-widgets/controls",
      "model_module_version": "1.5.0",
      "model_name": "ProgressStyleModel",
      "state": {
       "_model_module": "@jupyter-widgets/controls",
       "_model_module_version": "1.5.0",
       "_model_name": "ProgressStyleModel",
       "_view_count": null,
       "_view_module": "@jupyter-widgets/base",
       "_view_module_version": "1.2.0",
       "_view_name": "StyleView",
       "bar_color": null,
       "description_width": ""
      }
     },
     "233dfb91c5c94fa5b4d620eecfd162a4": {
      "model_module": "@jupyter-widgets/base",
      "model_module_version": "1.2.0",
      "model_name": "LayoutModel",
      "state": {
       "_model_module": "@jupyter-widgets/base",
       "_model_module_version": "1.2.0",
       "_model_name": "LayoutModel",
       "_view_count": null,
       "_view_module": "@jupyter-widgets/base",
       "_view_module_version": "1.2.0",
       "_view_name": "LayoutView",
       "align_content": null,
       "align_items": null,
       "align_self": null,
       "border": null,
       "bottom": null,
       "display": null,
       "flex": null,
       "flex_flow": null,
       "grid_area": null,
       "grid_auto_columns": null,
       "grid_auto_flow": null,
       "grid_auto_rows": null,
       "grid_column": null,
       "grid_gap": null,
       "grid_row": null,
       "grid_template_areas": null,
       "grid_template_columns": null,
       "grid_template_rows": null,
       "height": null,
       "justify_content": null,
       "justify_items": null,
       "left": null,
       "margin": null,
       "max_height": null,
       "max_width": null,
       "min_height": null,
       "min_width": null,
       "object_fit": null,
       "object_position": null,
       "order": null,
       "overflow": null,
       "overflow_x": null,
       "overflow_y": null,
       "padding": null,
       "right": null,
       "top": null,
       "visibility": null,
       "width": null
      }
     },
     "234b3f34a5064b958b664ffbca3df35a": {
      "model_module": "@jupyter-widgets/controls",
      "model_module_version": "1.5.0",
      "model_name": "DescriptionStyleModel",
      "state": {
       "_model_module": "@jupyter-widgets/controls",
       "_model_module_version": "1.5.0",
       "_model_name": "DescriptionStyleModel",
       "_view_count": null,
       "_view_module": "@jupyter-widgets/base",
       "_view_module_version": "1.2.0",
       "_view_name": "StyleView",
       "description_width": ""
      }
     },
     "247e8364d9eb48d487d06b1caa0a9f7f": {
      "model_module": "@jupyter-widgets/base",
      "model_module_version": "1.2.0",
      "model_name": "LayoutModel",
      "state": {
       "_model_module": "@jupyter-widgets/base",
       "_model_module_version": "1.2.0",
       "_model_name": "LayoutModel",
       "_view_count": null,
       "_view_module": "@jupyter-widgets/base",
       "_view_module_version": "1.2.0",
       "_view_name": "LayoutView",
       "align_content": null,
       "align_items": null,
       "align_self": null,
       "border": null,
       "bottom": null,
       "display": null,
       "flex": null,
       "flex_flow": null,
       "grid_area": null,
       "grid_auto_columns": null,
       "grid_auto_flow": null,
       "grid_auto_rows": null,
       "grid_column": null,
       "grid_gap": null,
       "grid_row": null,
       "grid_template_areas": null,
       "grid_template_columns": null,
       "grid_template_rows": null,
       "height": null,
       "justify_content": null,
       "justify_items": null,
       "left": null,
       "margin": null,
       "max_height": null,
       "max_width": null,
       "min_height": null,
       "min_width": null,
       "object_fit": null,
       "object_position": null,
       "order": null,
       "overflow": null,
       "overflow_x": null,
       "overflow_y": null,
       "padding": null,
       "right": null,
       "top": null,
       "visibility": null,
       "width": null
      }
     },
     "262af7c38deb4de2bc478d5fd84146dc": {
      "model_module": "@jupyter-widgets/controls",
      "model_module_version": "1.5.0",
      "model_name": "ProgressStyleModel",
      "state": {
       "_model_module": "@jupyter-widgets/controls",
       "_model_module_version": "1.5.0",
       "_model_name": "ProgressStyleModel",
       "_view_count": null,
       "_view_module": "@jupyter-widgets/base",
       "_view_module_version": "1.2.0",
       "_view_name": "StyleView",
       "bar_color": null,
       "description_width": ""
      }
     },
     "262c11b251594a4bb4fcbd3edaa57a4f": {
      "model_module": "@jupyter-widgets/base",
      "model_module_version": "1.2.0",
      "model_name": "LayoutModel",
      "state": {
       "_model_module": "@jupyter-widgets/base",
       "_model_module_version": "1.2.0",
       "_model_name": "LayoutModel",
       "_view_count": null,
       "_view_module": "@jupyter-widgets/base",
       "_view_module_version": "1.2.0",
       "_view_name": "LayoutView",
       "align_content": null,
       "align_items": null,
       "align_self": null,
       "border": null,
       "bottom": null,
       "display": null,
       "flex": null,
       "flex_flow": null,
       "grid_area": null,
       "grid_auto_columns": null,
       "grid_auto_flow": null,
       "grid_auto_rows": null,
       "grid_column": null,
       "grid_gap": null,
       "grid_row": null,
       "grid_template_areas": null,
       "grid_template_columns": null,
       "grid_template_rows": null,
       "height": null,
       "justify_content": null,
       "justify_items": null,
       "left": null,
       "margin": null,
       "max_height": null,
       "max_width": null,
       "min_height": null,
       "min_width": null,
       "object_fit": null,
       "object_position": null,
       "order": null,
       "overflow": null,
       "overflow_x": null,
       "overflow_y": null,
       "padding": null,
       "right": null,
       "top": null,
       "visibility": null,
       "width": null
      }
     },
     "2636218376804175ac1fc89187c6b43c": {
      "model_module": "@jupyter-widgets/base",
      "model_module_version": "1.2.0",
      "model_name": "LayoutModel",
      "state": {
       "_model_module": "@jupyter-widgets/base",
       "_model_module_version": "1.2.0",
       "_model_name": "LayoutModel",
       "_view_count": null,
       "_view_module": "@jupyter-widgets/base",
       "_view_module_version": "1.2.0",
       "_view_name": "LayoutView",
       "align_content": null,
       "align_items": null,
       "align_self": null,
       "border": null,
       "bottom": null,
       "display": null,
       "flex": null,
       "flex_flow": null,
       "grid_area": null,
       "grid_auto_columns": null,
       "grid_auto_flow": null,
       "grid_auto_rows": null,
       "grid_column": null,
       "grid_gap": null,
       "grid_row": null,
       "grid_template_areas": null,
       "grid_template_columns": null,
       "grid_template_rows": null,
       "height": null,
       "justify_content": null,
       "justify_items": null,
       "left": null,
       "margin": null,
       "max_height": null,
       "max_width": null,
       "min_height": null,
       "min_width": null,
       "object_fit": null,
       "object_position": null,
       "order": null,
       "overflow": null,
       "overflow_x": null,
       "overflow_y": null,
       "padding": null,
       "right": null,
       "top": null,
       "visibility": null,
       "width": null
      }
     },
     "27463ca25c014563987c790981e27789": {
      "model_module": "@jupyter-widgets/controls",
      "model_module_version": "1.5.0",
      "model_name": "DescriptionStyleModel",
      "state": {
       "_model_module": "@jupyter-widgets/controls",
       "_model_module_version": "1.5.0",
       "_model_name": "DescriptionStyleModel",
       "_view_count": null,
       "_view_module": "@jupyter-widgets/base",
       "_view_module_version": "1.2.0",
       "_view_name": "StyleView",
       "description_width": ""
      }
     },
     "27ad482a2c4341bdbd40e2222566ee7a": {
      "model_module": "@jupyter-widgets/base",
      "model_module_version": "1.2.0",
      "model_name": "LayoutModel",
      "state": {
       "_model_module": "@jupyter-widgets/base",
       "_model_module_version": "1.2.0",
       "_model_name": "LayoutModel",
       "_view_count": null,
       "_view_module": "@jupyter-widgets/base",
       "_view_module_version": "1.2.0",
       "_view_name": "LayoutView",
       "align_content": null,
       "align_items": null,
       "align_self": null,
       "border": null,
       "bottom": null,
       "display": null,
       "flex": null,
       "flex_flow": null,
       "grid_area": null,
       "grid_auto_columns": null,
       "grid_auto_flow": null,
       "grid_auto_rows": null,
       "grid_column": null,
       "grid_gap": null,
       "grid_row": null,
       "grid_template_areas": null,
       "grid_template_columns": null,
       "grid_template_rows": null,
       "height": null,
       "justify_content": null,
       "justify_items": null,
       "left": null,
       "margin": null,
       "max_height": null,
       "max_width": null,
       "min_height": null,
       "min_width": null,
       "object_fit": null,
       "object_position": null,
       "order": null,
       "overflow": null,
       "overflow_x": null,
       "overflow_y": null,
       "padding": null,
       "right": null,
       "top": null,
       "visibility": null,
       "width": null
      }
     },
     "28b005198c7041bc8cd7001e1dbddac6": {
      "model_module": "@jupyter-widgets/base",
      "model_module_version": "1.2.0",
      "model_name": "LayoutModel",
      "state": {
       "_model_module": "@jupyter-widgets/base",
       "_model_module_version": "1.2.0",
       "_model_name": "LayoutModel",
       "_view_count": null,
       "_view_module": "@jupyter-widgets/base",
       "_view_module_version": "1.2.0",
       "_view_name": "LayoutView",
       "align_content": null,
       "align_items": null,
       "align_self": null,
       "border": null,
       "bottom": null,
       "display": null,
       "flex": null,
       "flex_flow": null,
       "grid_area": null,
       "grid_auto_columns": null,
       "grid_auto_flow": null,
       "grid_auto_rows": null,
       "grid_column": null,
       "grid_gap": null,
       "grid_row": null,
       "grid_template_areas": null,
       "grid_template_columns": null,
       "grid_template_rows": null,
       "height": null,
       "justify_content": null,
       "justify_items": null,
       "left": null,
       "margin": null,
       "max_height": null,
       "max_width": null,
       "min_height": null,
       "min_width": null,
       "object_fit": null,
       "object_position": null,
       "order": null,
       "overflow": null,
       "overflow_x": null,
       "overflow_y": null,
       "padding": null,
       "right": null,
       "top": null,
       "visibility": null,
       "width": null
      }
     },
     "2ca0b15eee0c4ed38e666161c824d853": {
      "model_module": "@jupyter-widgets/base",
      "model_module_version": "1.2.0",
      "model_name": "LayoutModel",
      "state": {
       "_model_module": "@jupyter-widgets/base",
       "_model_module_version": "1.2.0",
       "_model_name": "LayoutModel",
       "_view_count": null,
       "_view_module": "@jupyter-widgets/base",
       "_view_module_version": "1.2.0",
       "_view_name": "LayoutView",
       "align_content": null,
       "align_items": null,
       "align_self": null,
       "border": null,
       "bottom": null,
       "display": null,
       "flex": null,
       "flex_flow": null,
       "grid_area": null,
       "grid_auto_columns": null,
       "grid_auto_flow": null,
       "grid_auto_rows": null,
       "grid_column": null,
       "grid_gap": null,
       "grid_row": null,
       "grid_template_areas": null,
       "grid_template_columns": null,
       "grid_template_rows": null,
       "height": null,
       "justify_content": null,
       "justify_items": null,
       "left": null,
       "margin": null,
       "max_height": null,
       "max_width": null,
       "min_height": null,
       "min_width": null,
       "object_fit": null,
       "object_position": null,
       "order": null,
       "overflow": null,
       "overflow_x": null,
       "overflow_y": null,
       "padding": null,
       "right": null,
       "top": null,
       "visibility": null,
       "width": null
      }
     },
     "2d92997ae2fa493caf0ff6bbfe07ff83": {
      "model_module": "@jupyter-widgets/controls",
      "model_module_version": "1.5.0",
      "model_name": "FloatProgressModel",
      "state": {
       "_dom_classes": [],
       "_model_module": "@jupyter-widgets/controls",
       "_model_module_version": "1.5.0",
       "_model_name": "FloatProgressModel",
       "_view_count": null,
       "_view_module": "@jupyter-widgets/controls",
       "_view_module_version": "1.5.0",
       "_view_name": "ProgressView",
       "bar_style": "success",
       "description": "",
       "description_tooltip": null,
       "layout": "IPY_MODEL_fa8df099874141ad971ae14b1b268db3",
       "max": 2035.0,
       "min": 0.0,
       "orientation": "horizontal",
       "style": "IPY_MODEL_23334fc27a4f4ef794fcd619397810c4",
       "value": 2035.0
      }
     },
     "2fe72e3ec46c4035922f4e4380215d52": {
      "model_module": "@jupyter-widgets/controls",
      "model_module_version": "1.5.0",
      "model_name": "DescriptionStyleModel",
      "state": {
       "_model_module": "@jupyter-widgets/controls",
       "_model_module_version": "1.5.0",
       "_model_name": "DescriptionStyleModel",
       "_view_count": null,
       "_view_module": "@jupyter-widgets/base",
       "_view_module_version": "1.2.0",
       "_view_name": "StyleView",
       "description_width": ""
      }
     },
     "315c99ae580d42c18ab5788a95e44e40": {
      "model_module": "@jupyter-widgets/controls",
      "model_module_version": "1.5.0",
      "model_name": "DescriptionStyleModel",
      "state": {
       "_model_module": "@jupyter-widgets/controls",
       "_model_module_version": "1.5.0",
       "_model_name": "DescriptionStyleModel",
       "_view_count": null,
       "_view_module": "@jupyter-widgets/base",
       "_view_module_version": "1.2.0",
       "_view_name": "StyleView",
       "description_width": ""
      }
     },
     "33d8fe989e404c309bbe4275a2a224c2": {
      "model_module": "@jupyter-widgets/controls",
      "model_module_version": "1.5.0",
      "model_name": "HTMLModel",
      "state": {
       "_dom_classes": [],
       "_model_module": "@jupyter-widgets/controls",
       "_model_module_version": "1.5.0",
       "_model_name": "HTMLModel",
       "_view_count": null,
       "_view_module": "@jupyter-widgets/controls",
       "_view_module_version": "1.5.0",
       "_view_name": "HTMLView",
       "description": "",
       "description_tooltip": null,
       "layout": "IPY_MODEL_28b005198c7041bc8cd7001e1dbddac6",
       "placeholder": "​",
       "style": "IPY_MODEL_2034ca6ce01d449a87ac1b4ae5fba717",
       "value": " 287/287 [00:00&lt;00:00, 3.79kB/s]"
      }
     },
     "358f32b58c94498e9e8b8858845a7736": {
      "model_module": "@jupyter-widgets/controls",
      "model_module_version": "1.5.0",
      "model_name": "HBoxModel",
      "state": {
       "_dom_classes": [],
       "_model_module": "@jupyter-widgets/controls",
       "_model_module_version": "1.5.0",
       "_model_name": "HBoxModel",
       "_view_count": null,
       "_view_module": "@jupyter-widgets/controls",
       "_view_module_version": "1.5.0",
       "_view_name": "HBoxView",
       "box_style": "",
       "children": [
        "IPY_MODEL_bb4027ba0bbd43cbaeaca11dbb6e47fb",
        "IPY_MODEL_cbdae26bc61748a3aa491dbeba6aabd9",
        "IPY_MODEL_b09aeb9a0822409bb1dcea801ca45e5a"
       ],
       "layout": "IPY_MODEL_b9a8710e9b674175b701a7ea52ef0e36"
      }
     },
     "38a5a48d696a4fe7a45e969867719fc0": {
      "model_module": "@jupyter-widgets/base",
      "model_module_version": "1.2.0",
      "model_name": "LayoutModel",
      "state": {
       "_model_module": "@jupyter-widgets/base",
       "_model_module_version": "1.2.0",
       "_model_name": "LayoutModel",
       "_view_count": null,
       "_view_module": "@jupyter-widgets/base",
       "_view_module_version": "1.2.0",
       "_view_name": "LayoutView",
       "align_content": null,
       "align_items": null,
       "align_self": null,
       "border": null,
       "bottom": null,
       "display": null,
       "flex": null,
       "flex_flow": null,
       "grid_area": null,
       "grid_auto_columns": null,
       "grid_auto_flow": null,
       "grid_auto_rows": null,
       "grid_column": null,
       "grid_gap": null,
       "grid_row": null,
       "grid_template_areas": null,
       "grid_template_columns": null,
       "grid_template_rows": null,
       "height": null,
       "justify_content": null,
       "justify_items": null,
       "left": null,
       "margin": null,
       "max_height": null,
       "max_width": null,
       "min_height": null,
       "min_width": null,
       "object_fit": null,
       "object_position": null,
       "order": null,
       "overflow": null,
       "overflow_x": null,
       "overflow_y": null,
       "padding": null,
       "right": null,
       "top": null,
       "visibility": null,
       "width": null
      }
     },
     "3913ef073eb04513a66d616ff26464e0": {
      "model_module": "@jupyter-widgets/base",
      "model_module_version": "1.2.0",
      "model_name": "LayoutModel",
      "state": {
       "_model_module": "@jupyter-widgets/base",
       "_model_module_version": "1.2.0",
       "_model_name": "LayoutModel",
       "_view_count": null,
       "_view_module": "@jupyter-widgets/base",
       "_view_module_version": "1.2.0",
       "_view_name": "LayoutView",
       "align_content": null,
       "align_items": null,
       "align_self": null,
       "border": null,
       "bottom": null,
       "display": null,
       "flex": null,
       "flex_flow": null,
       "grid_area": null,
       "grid_auto_columns": null,
       "grid_auto_flow": null,
       "grid_auto_rows": null,
       "grid_column": null,
       "grid_gap": null,
       "grid_row": null,
       "grid_template_areas": null,
       "grid_template_columns": null,
       "grid_template_rows": null,
       "height": null,
       "justify_content": null,
       "justify_items": null,
       "left": null,
       "margin": null,
       "max_height": null,
       "max_width": null,
       "min_height": null,
       "min_width": null,
       "object_fit": null,
       "object_position": null,
       "order": null,
       "overflow": null,
       "overflow_x": null,
       "overflow_y": null,
       "padding": null,
       "right": null,
       "top": null,
       "visibility": null,
       "width": null
      }
     },
     "3cfa110c18c4477bbd6b38a7778825e5": {
      "model_module": "@jupyter-widgets/controls",
      "model_module_version": "1.5.0",
      "model_name": "DescriptionStyleModel",
      "state": {
       "_model_module": "@jupyter-widgets/controls",
       "_model_module_version": "1.5.0",
       "_model_name": "DescriptionStyleModel",
       "_view_count": null,
       "_view_module": "@jupyter-widgets/base",
       "_view_module_version": "1.2.0",
       "_view_name": "StyleView",
       "description_width": ""
      }
     },
     "40657db87da6405d9b9c4315a6de09e6": {
      "model_module": "@jupyter-widgets/controls",
      "model_module_version": "1.5.0",
      "model_name": "DescriptionStyleModel",
      "state": {
       "_model_module": "@jupyter-widgets/controls",
       "_model_module_version": "1.5.0",
       "_model_name": "DescriptionStyleModel",
       "_view_count": null,
       "_view_module": "@jupyter-widgets/base",
       "_view_module_version": "1.2.0",
       "_view_name": "StyleView",
       "description_width": ""
      }
     },
     "4145b68c8d8849128a75a4448cec02d1": {
      "model_module": "@jupyter-widgets/controls",
      "model_module_version": "1.5.0",
      "model_name": "ProgressStyleModel",
      "state": {
       "_model_module": "@jupyter-widgets/controls",
       "_model_module_version": "1.5.0",
       "_model_name": "ProgressStyleModel",
       "_view_count": null,
       "_view_module": "@jupyter-widgets/base",
       "_view_module_version": "1.2.0",
       "_view_name": "StyleView",
       "bar_color": null,
       "description_width": ""
      }
     },
     "42b35d36e6994bf0b056fbd8c9d63297": {
      "model_module": "@jupyter-widgets/base",
      "model_module_version": "1.2.0",
      "model_name": "LayoutModel",
      "state": {
       "_model_module": "@jupyter-widgets/base",
       "_model_module_version": "1.2.0",
       "_model_name": "LayoutModel",
       "_view_count": null,
       "_view_module": "@jupyter-widgets/base",
       "_view_module_version": "1.2.0",
       "_view_name": "LayoutView",
       "align_content": null,
       "align_items": null,
       "align_self": null,
       "border": null,
       "bottom": null,
       "display": null,
       "flex": null,
       "flex_flow": null,
       "grid_area": null,
       "grid_auto_columns": null,
       "grid_auto_flow": null,
       "grid_auto_rows": null,
       "grid_column": null,
       "grid_gap": null,
       "grid_row": null,
       "grid_template_areas": null,
       "grid_template_columns": null,
       "grid_template_rows": null,
       "height": null,
       "justify_content": null,
       "justify_items": null,
       "left": null,
       "margin": null,
       "max_height": null,
       "max_width": null,
       "min_height": null,
       "min_width": null,
       "object_fit": null,
       "object_position": null,
       "order": null,
       "overflow": null,
       "overflow_x": null,
       "overflow_y": null,
       "padding": null,
       "right": null,
       "top": null,
       "visibility": null,
       "width": null
      }
     },
     "4334256066fb49aaaab897ff58f2093a": {
      "model_module": "@jupyter-widgets/controls",
      "model_module_version": "1.5.0",
      "model_name": "DescriptionStyleModel",
      "state": {
       "_model_module": "@jupyter-widgets/controls",
       "_model_module_version": "1.5.0",
       "_model_name": "DescriptionStyleModel",
       "_view_count": null,
       "_view_module": "@jupyter-widgets/base",
       "_view_module_version": "1.2.0",
       "_view_name": "StyleView",
       "description_width": ""
      }
     },
     "44ede156c7de42aabf585c4b4b52c533": {
      "model_module": "@jupyter-widgets/base",
      "model_module_version": "1.2.0",
      "model_name": "LayoutModel",
      "state": {
       "_model_module": "@jupyter-widgets/base",
       "_model_module_version": "1.2.0",
       "_model_name": "LayoutModel",
       "_view_count": null,
       "_view_module": "@jupyter-widgets/base",
       "_view_module_version": "1.2.0",
       "_view_name": "LayoutView",
       "align_content": null,
       "align_items": null,
       "align_self": null,
       "border": null,
       "bottom": null,
       "display": null,
       "flex": null,
       "flex_flow": null,
       "grid_area": null,
       "grid_auto_columns": null,
       "grid_auto_flow": null,
       "grid_auto_rows": null,
       "grid_column": null,
       "grid_gap": null,
       "grid_row": null,
       "grid_template_areas": null,
       "grid_template_columns": null,
       "grid_template_rows": null,
       "height": null,
       "justify_content": null,
       "justify_items": null,
       "left": null,
       "margin": null,
       "max_height": null,
       "max_width": null,
       "min_height": null,
       "min_width": null,
       "object_fit": null,
       "object_position": null,
       "order": null,
       "overflow": null,
       "overflow_x": null,
       "overflow_y": null,
       "padding": null,
       "right": null,
       "top": null,
       "visibility": null,
       "width": null
      }
     },
     "4662ae547c4445f49412a6eb332f7a41": {
      "model_module": "@jupyter-widgets/controls",
      "model_module_version": "1.5.0",
      "model_name": "HTMLModel",
      "state": {
       "_dom_classes": [],
       "_model_module": "@jupyter-widgets/controls",
       "_model_module_version": "1.5.0",
       "_model_name": "HTMLModel",
       "_view_count": null,
       "_view_module": "@jupyter-widgets/controls",
       "_view_module_version": "1.5.0",
       "_view_name": "HTMLView",
       "description": "",
       "description_tooltip": null,
       "layout": "IPY_MODEL_57ee2206b78d462b8ad54ca424d84e36",
       "placeholder": "​",
       "style": "IPY_MODEL_202b89e0a47c4271a61982e26e8696b4",
       "value": " 5.59k/? [00:00&lt;00:00, 156kB/s]"
      }
     },
     "49fbf789cf13439785792ea09cd5fece": {
      "model_module": "@jupyter-widgets/controls",
      "model_module_version": "1.5.0",
      "model_name": "HBoxModel",
      "state": {
       "_dom_classes": [],
       "_model_module": "@jupyter-widgets/controls",
       "_model_module_version": "1.5.0",
       "_model_name": "HBoxModel",
       "_view_count": null,
       "_view_module": "@jupyter-widgets/controls",
       "_view_module_version": "1.5.0",
       "_view_name": "HBoxView",
       "box_style": "",
       "children": [
        "IPY_MODEL_14d18119f21249bc9056d9ac94b7a455",
        "IPY_MODEL_18d65e2126184001b238f3be1a981114",
        "IPY_MODEL_794a46877cec400dac0f332bc5edd1b8"
       ],
       "layout": "IPY_MODEL_233dfb91c5c94fa5b4d620eecfd162a4"
      }
     },
     "4b03b8b96a8b4c9fbd4d9ef71e49650b": {
      "model_module": "@jupyter-widgets/controls",
      "model_module_version": "1.5.0",
      "model_name": "DescriptionStyleModel",
      "state": {
       "_model_module": "@jupyter-widgets/controls",
       "_model_module_version": "1.5.0",
       "_model_name": "DescriptionStyleModel",
       "_view_count": null,
       "_view_module": "@jupyter-widgets/base",
       "_view_module_version": "1.2.0",
       "_view_name": "StyleView",
       "description_width": ""
      }
     },
     "4b44b71a8030445a9d5a69f8582df020": {
      "model_module": "@jupyter-widgets/controls",
      "model_module_version": "1.5.0",
      "model_name": "HTMLModel",
      "state": {
       "_dom_classes": [],
       "_model_module": "@jupyter-widgets/controls",
       "_model_module_version": "1.5.0",
       "_model_name": "HTMLModel",
       "_view_count": null,
       "_view_module": "@jupyter-widgets/controls",
       "_view_module_version": "1.5.0",
       "_view_name": "HTMLView",
       "description": "",
       "description_tooltip": null,
       "layout": "IPY_MODEL_f977ebc942004423a4b26659c6dd0aec",
       "placeholder": "​",
       "style": "IPY_MODEL_4c1a1e55885d44cabcf62d7ca13a81c2",
       "value": " 309/309 [00:00&lt;00:00, 8.97kB/s]"
      }
     },
     "4c1a1e55885d44cabcf62d7ca13a81c2": {
      "model_module": "@jupyter-widgets/controls",
      "model_module_version": "1.5.0",
      "model_name": "DescriptionStyleModel",
      "state": {
       "_model_module": "@jupyter-widgets/controls",
       "_model_module_version": "1.5.0",
       "_model_name": "DescriptionStyleModel",
       "_view_count": null,
       "_view_module": "@jupyter-widgets/base",
       "_view_module_version": "1.2.0",
       "_view_name": "StyleView",
       "description_width": ""
      }
     },
     "4cd2f97efef54fa68f8b6a31fbb2e0c4": {
      "model_module": "@jupyter-widgets/base",
      "model_module_version": "1.2.0",
      "model_name": "LayoutModel",
      "state": {
       "_model_module": "@jupyter-widgets/base",
       "_model_module_version": "1.2.0",
       "_model_name": "LayoutModel",
       "_view_count": null,
       "_view_module": "@jupyter-widgets/base",
       "_view_module_version": "1.2.0",
       "_view_name": "LayoutView",
       "align_content": null,
       "align_items": null,
       "align_self": null,
       "border": null,
       "bottom": null,
       "display": null,
       "flex": null,
       "flex_flow": null,
       "grid_area": null,
       "grid_auto_columns": null,
       "grid_auto_flow": null,
       "grid_auto_rows": null,
       "grid_column": null,
       "grid_gap": null,
       "grid_row": null,
       "grid_template_areas": null,
       "grid_template_columns": null,
       "grid_template_rows": null,
       "height": null,
       "justify_content": null,
       "justify_items": null,
       "left": null,
       "margin": null,
       "max_height": null,
       "max_width": null,
       "min_height": null,
       "min_width": null,
       "object_fit": null,
       "object_position": null,
       "order": null,
       "overflow": null,
       "overflow_x": null,
       "overflow_y": null,
       "padding": null,
       "right": null,
       "top": null,
       "visibility": null,
       "width": null
      }
     },
     "4fe52e66fe754250945ec54f19d6db79": {
      "model_module": "@jupyter-widgets/base",
      "model_module_version": "1.2.0",
      "model_name": "LayoutModel",
      "state": {
       "_model_module": "@jupyter-widgets/base",
       "_model_module_version": "1.2.0",
       "_model_name": "LayoutModel",
       "_view_count": null,
       "_view_module": "@jupyter-widgets/base",
       "_view_module_version": "1.2.0",
       "_view_name": "LayoutView",
       "align_content": null,
       "align_items": null,
       "align_self": null,
       "border": null,
       "bottom": null,
       "display": null,
       "flex": null,
       "flex_flow": null,
       "grid_area": null,
       "grid_auto_columns": null,
       "grid_auto_flow": null,
       "grid_auto_rows": null,
       "grid_column": null,
       "grid_gap": null,
       "grid_row": null,
       "grid_template_areas": null,
       "grid_template_columns": null,
       "grid_template_rows": null,
       "height": null,
       "justify_content": null,
       "justify_items": null,
       "left": null,
       "margin": null,
       "max_height": null,
       "max_width": null,
       "min_height": null,
       "min_width": null,
       "object_fit": null,
       "object_position": null,
       "order": null,
       "overflow": null,
       "overflow_x": null,
       "overflow_y": null,
       "padding": null,
       "right": null,
       "top": null,
       "visibility": null,
       "width": null
      }
     },
     "52370077a72b4729aef70f01078a5452": {
      "model_module": "@jupyter-widgets/base",
      "model_module_version": "1.2.0",
      "model_name": "LayoutModel",
      "state": {
       "_model_module": "@jupyter-widgets/base",
       "_model_module_version": "1.2.0",
       "_model_name": "LayoutModel",
       "_view_count": null,
       "_view_module": "@jupyter-widgets/base",
       "_view_module_version": "1.2.0",
       "_view_name": "LayoutView",
       "align_content": null,
       "align_items": null,
       "align_self": null,
       "border": null,
       "bottom": null,
       "display": null,
       "flex": null,
       "flex_flow": null,
       "grid_area": null,
       "grid_auto_columns": null,
       "grid_auto_flow": null,
       "grid_auto_rows": null,
       "grid_column": null,
       "grid_gap": null,
       "grid_row": null,
       "grid_template_areas": null,
       "grid_template_columns": null,
       "grid_template_rows": null,
       "height": null,
       "justify_content": null,
       "justify_items": null,
       "left": null,
       "margin": null,
       "max_height": null,
       "max_width": null,
       "min_height": null,
       "min_width": null,
       "object_fit": null,
       "object_position": null,
       "order": null,
       "overflow": null,
       "overflow_x": null,
       "overflow_y": null,
       "padding": null,
       "right": null,
       "top": null,
       "visibility": null,
       "width": null
      }
     },
     "532386163a0e4b9781f9f031c37d1088": {
      "model_module": "@jupyter-widgets/base",
      "model_module_version": "1.2.0",
      "model_name": "LayoutModel",
      "state": {
       "_model_module": "@jupyter-widgets/base",
       "_model_module_version": "1.2.0",
       "_model_name": "LayoutModel",
       "_view_count": null,
       "_view_module": "@jupyter-widgets/base",
       "_view_module_version": "1.2.0",
       "_view_name": "LayoutView",
       "align_content": null,
       "align_items": null,
       "align_self": null,
       "border": null,
       "bottom": null,
       "display": null,
       "flex": null,
       "flex_flow": null,
       "grid_area": null,
       "grid_auto_columns": null,
       "grid_auto_flow": null,
       "grid_auto_rows": null,
       "grid_column": null,
       "grid_gap": null,
       "grid_row": null,
       "grid_template_areas": null,
       "grid_template_columns": null,
       "grid_template_rows": null,
       "height": null,
       "justify_content": null,
       "justify_items": null,
       "left": null,
       "margin": null,
       "max_height": null,
       "max_width": null,
       "min_height": null,
       "min_width": null,
       "object_fit": null,
       "object_position": null,
       "order": null,
       "overflow": null,
       "overflow_x": null,
       "overflow_y": null,
       "padding": null,
       "right": null,
       "top": null,
       "visibility": null,
       "width": null
      }
     },
     "5347ff196d3c47168c7203bdab453350": {
      "model_module": "@jupyter-widgets/controls",
      "model_module_version": "1.5.0",
      "model_name": "HTMLModel",
      "state": {
       "_dom_classes": [],
       "_model_module": "@jupyter-widgets/controls",
       "_model_module_version": "1.5.0",
       "_model_name": "HTMLModel",
       "_view_count": null,
       "_view_module": "@jupyter-widgets/controls",
       "_view_module_version": "1.5.0",
       "_view_name": "HTMLView",
       "description": "",
       "description_tooltip": null,
       "layout": "IPY_MODEL_ae95fcfb6f6b4e5f93644de3cdb66221",
       "placeholder": "​",
       "style": "IPY_MODEL_3cfa110c18c4477bbd6b38a7778825e5",
       "value": "Downloading builder script: "
      }
     },
     "5424086feef24ba4a0e3f00d5854158f": {
      "model_module": "@jupyter-widgets/base",
      "model_module_version": "1.2.0",
      "model_name": "LayoutModel",
      "state": {
       "_model_module": "@jupyter-widgets/base",
       "_model_module_version": "1.2.0",
       "_model_name": "LayoutModel",
       "_view_count": null,
       "_view_module": "@jupyter-widgets/base",
       "_view_module_version": "1.2.0",
       "_view_name": "LayoutView",
       "align_content": null,
       "align_items": null,
       "align_self": null,
       "border": null,
       "bottom": null,
       "display": null,
       "flex": null,
       "flex_flow": null,
       "grid_area": null,
       "grid_auto_columns": null,
       "grid_auto_flow": null,
       "grid_auto_rows": null,
       "grid_column": null,
       "grid_gap": null,
       "grid_row": null,
       "grid_template_areas": null,
       "grid_template_columns": null,
       "grid_template_rows": null,
       "height": null,
       "justify_content": null,
       "justify_items": null,
       "left": null,
       "margin": null,
       "max_height": null,
       "max_width": null,
       "min_height": null,
       "min_width": null,
       "object_fit": null,
       "object_position": null,
       "order": null,
       "overflow": null,
       "overflow_x": null,
       "overflow_y": null,
       "padding": null,
       "right": null,
       "top": null,
       "visibility": null,
       "width": null
      }
     },
     "550fb9907c784dcea82170451f908df4": {
      "model_module": "@jupyter-widgets/controls",
      "model_module_version": "1.5.0",
      "model_name": "DescriptionStyleModel",
      "state": {
       "_model_module": "@jupyter-widgets/controls",
       "_model_module_version": "1.5.0",
       "_model_name": "DescriptionStyleModel",
       "_view_count": null,
       "_view_module": "@jupyter-widgets/base",
       "_view_module_version": "1.2.0",
       "_view_name": "StyleView",
       "description_width": ""
      }
     },
     "55ca3533592f459ea96fbc7af9e5ce6f": {
      "model_module": "@jupyter-widgets/controls",
      "model_module_version": "1.5.0",
      "model_name": "HTMLModel",
      "state": {
       "_dom_classes": [],
       "_model_module": "@jupyter-widgets/controls",
       "_model_module_version": "1.5.0",
       "_model_name": "HTMLModel",
       "_view_count": null,
       "_view_module": "@jupyter-widgets/controls",
       "_view_module_version": "1.5.0",
       "_view_name": "HTMLView",
       "description": "",
       "description_tooltip": null,
       "layout": "IPY_MODEL_cb02c15638f64042b48a404cfe541b6c",
       "placeholder": "​",
       "style": "IPY_MODEL_6bcb2b4ee17c45ef9483bcdfbf0a9a3d",
       "value": "Downloading: 100%"
      }
     },
     "569b6059396c4a928a8085a02a41fb72": {
      "model_module": "@jupyter-widgets/controls",
      "model_module_version": "1.5.0",
      "model_name": "DescriptionStyleModel",
      "state": {
       "_model_module": "@jupyter-widgets/controls",
       "_model_module_version": "1.5.0",
       "_model_name": "DescriptionStyleModel",
       "_view_count": null,
       "_view_module": "@jupyter-widgets/base",
       "_view_module_version": "1.2.0",
       "_view_name": "StyleView",
       "description_width": ""
      }
     },
     "57ee2206b78d462b8ad54ca424d84e36": {
      "model_module": "@jupyter-widgets/base",
      "model_module_version": "1.2.0",
      "model_name": "LayoutModel",
      "state": {
       "_model_module": "@jupyter-widgets/base",
       "_model_module_version": "1.2.0",
       "_model_name": "LayoutModel",
       "_view_count": null,
       "_view_module": "@jupyter-widgets/base",
       "_view_module_version": "1.2.0",
       "_view_name": "LayoutView",
       "align_content": null,
       "align_items": null,
       "align_self": null,
       "border": null,
       "bottom": null,
       "display": null,
       "flex": null,
       "flex_flow": null,
       "grid_area": null,
       "grid_auto_columns": null,
       "grid_auto_flow": null,
       "grid_auto_rows": null,
       "grid_column": null,
       "grid_gap": null,
       "grid_row": null,
       "grid_template_areas": null,
       "grid_template_columns": null,
       "grid_template_rows": null,
       "height": null,
       "justify_content": null,
       "justify_items": null,
       "left": null,
       "margin": null,
       "max_height": null,
       "max_width": null,
       "min_height": null,
       "min_width": null,
       "object_fit": null,
       "object_position": null,
       "order": null,
       "overflow": null,
       "overflow_x": null,
       "overflow_y": null,
       "padding": null,
       "right": null,
       "top": null,
       "visibility": null,
       "width": null
      }
     },
     "596535e6be3a421aaac9d3d7a0f51c1d": {
      "model_module": "@jupyter-widgets/controls",
      "model_module_version": "1.5.0",
      "model_name": "FloatProgressModel",
      "state": {
       "_dom_classes": [],
       "_model_module": "@jupyter-widgets/controls",
       "_model_module_version": "1.5.0",
       "_model_name": "FloatProgressModel",
       "_view_count": null,
       "_view_module": "@jupyter-widgets/controls",
       "_view_module_version": "1.5.0",
       "_view_name": "ProgressView",
       "bar_style": "success",
       "description": "",
       "description_tooltip": null,
       "layout": "IPY_MODEL_2ca0b15eee0c4ed38e666161c824d853",
       "max": 57248771.0,
       "min": 0.0,
       "orientation": "horizontal",
       "style": "IPY_MODEL_262af7c38deb4de2bc478d5fd84146dc",
       "value": 57248771.0
      }
     },
     "5ae61a9884b94c40beb67823ae02be1a": {
      "model_module": "@jupyter-widgets/controls",
      "model_module_version": "1.5.0",
      "model_name": "HBoxModel",
      "state": {
       "_dom_classes": [],
       "_model_module": "@jupyter-widgets/controls",
       "_model_module_version": "1.5.0",
       "_model_name": "HBoxModel",
       "_view_count": null,
       "_view_module": "@jupyter-widgets/controls",
       "_view_module_version": "1.5.0",
       "_view_name": "HBoxView",
       "box_style": "",
       "children": [
        "IPY_MODEL_55ca3533592f459ea96fbc7af9e5ce6f",
        "IPY_MODEL_2d92997ae2fa493caf0ff6bbfe07ff83",
        "IPY_MODEL_08401d789ba6462db7f2746c607d20f8"
       ],
       "layout": "IPY_MODEL_e8e57fea1ca4416386b9205ac7c524f0"
      }
     },
     "5d1b038915e34d3696577cd57a0ad5c2": {
      "model_module": "@jupyter-widgets/controls",
      "model_module_version": "1.5.0",
      "model_name": "ProgressStyleModel",
      "state": {
       "_model_module": "@jupyter-widgets/controls",
       "_model_module_version": "1.5.0",
       "_model_name": "ProgressStyleModel",
       "_view_count": null,
       "_view_module": "@jupyter-widgets/base",
       "_view_module_version": "1.2.0",
       "_view_name": "StyleView",
       "bar_color": null,
       "description_width": ""
      }
     },
     "603aca0358e14d449b0ee3601ba397f1": {
      "model_module": "@jupyter-widgets/controls",
      "model_module_version": "1.5.0",
      "model_name": "DescriptionStyleModel",
      "state": {
       "_model_module": "@jupyter-widgets/controls",
       "_model_module_version": "1.5.0",
       "_model_name": "DescriptionStyleModel",
       "_view_count": null,
       "_view_module": "@jupyter-widgets/base",
       "_view_module_version": "1.2.0",
       "_view_name": "StyleView",
       "description_width": ""
      }
     },
     "629569c2401245f3aa9440308287a90f": {
      "model_module": "@jupyter-widgets/base",
      "model_module_version": "1.2.0",
      "model_name": "LayoutModel",
      "state": {
       "_model_module": "@jupyter-widgets/base",
       "_model_module_version": "1.2.0",
       "_model_name": "LayoutModel",
       "_view_count": null,
       "_view_module": "@jupyter-widgets/base",
       "_view_module_version": "1.2.0",
       "_view_name": "LayoutView",
       "align_content": null,
       "align_items": null,
       "align_self": null,
       "border": null,
       "bottom": null,
       "display": null,
       "flex": null,
       "flex_flow": null,
       "grid_area": null,
       "grid_auto_columns": null,
       "grid_auto_flow": null,
       "grid_auto_rows": null,
       "grid_column": null,
       "grid_gap": null,
       "grid_row": null,
       "grid_template_areas": null,
       "grid_template_columns": null,
       "grid_template_rows": null,
       "height": null,
       "justify_content": null,
       "justify_items": null,
       "left": null,
       "margin": null,
       "max_height": null,
       "max_width": null,
       "min_height": null,
       "min_width": null,
       "object_fit": null,
       "object_position": null,
       "order": null,
       "overflow": null,
       "overflow_x": null,
       "overflow_y": null,
       "padding": null,
       "right": null,
       "top": null,
       "visibility": null,
       "width": null
      }
     },
     "6323bea3eb2e4daf86f83ceb47cc58a2": {
      "model_module": "@jupyter-widgets/controls",
      "model_module_version": "1.5.0",
      "model_name": "HTMLModel",
      "state": {
       "_dom_classes": [],
       "_model_module": "@jupyter-widgets/controls",
       "_model_module_version": "1.5.0",
       "_model_name": "HTMLModel",
       "_view_count": null,
       "_view_module": "@jupyter-widgets/controls",
       "_view_module_version": "1.5.0",
       "_view_name": "HTMLView",
       "description": "",
       "description_tooltip": null,
       "layout": "IPY_MODEL_0b773bcd1bc04aba92d388add4dc54bf",
       "placeholder": "​",
       "style": "IPY_MODEL_713e2bbf87134cb3926178b0e62c383d",
       "value": "Downloading: 100%"
      }
     },
     "6514b1af540f46599784591fc3656485": {
      "model_module": "@jupyter-widgets/controls",
      "model_module_version": "1.5.0",
      "model_name": "HTMLModel",
      "state": {
       "_dom_classes": [],
       "_model_module": "@jupyter-widgets/controls",
       "_model_module_version": "1.5.0",
       "_model_name": "HTMLModel",
       "_view_count": null,
       "_view_module": "@jupyter-widgets/controls",
       "_view_module_version": "1.5.0",
       "_view_name": "HTMLView",
       "description": "",
       "description_tooltip": null,
       "layout": "IPY_MODEL_02f4454ee8f445e2a6e5186d2ac48e48",
       "placeholder": "​",
       "style": "IPY_MODEL_550fb9907c784dcea82170451f908df4",
       "value": "Downloading: 100%"
      }
     },
     "65853bfc268949adbc2c96e29ec154e0": {
      "model_module": "@jupyter-widgets/base",
      "model_module_version": "1.2.0",
      "model_name": "LayoutModel",
      "state": {
       "_model_module": "@jupyter-widgets/base",
       "_model_module_version": "1.2.0",
       "_model_name": "LayoutModel",
       "_view_count": null,
       "_view_module": "@jupyter-widgets/base",
       "_view_module_version": "1.2.0",
       "_view_name": "LayoutView",
       "align_content": null,
       "align_items": null,
       "align_self": null,
       "border": null,
       "bottom": null,
       "display": null,
       "flex": null,
       "flex_flow": null,
       "grid_area": null,
       "grid_auto_columns": null,
       "grid_auto_flow": null,
       "grid_auto_rows": null,
       "grid_column": null,
       "grid_gap": null,
       "grid_row": null,
       "grid_template_areas": null,
       "grid_template_columns": null,
       "grid_template_rows": null,
       "height": null,
       "justify_content": null,
       "justify_items": null,
       "left": null,
       "margin": null,
       "max_height": null,
       "max_width": null,
       "min_height": null,
       "min_width": null,
       "object_fit": null,
       "object_position": null,
       "order": null,
       "overflow": null,
       "overflow_x": null,
       "overflow_y": null,
       "padding": null,
       "right": null,
       "top": null,
       "visibility": null,
       "width": null
      }
     },
     "678fa416bc4d4b0ab329749fdb83661d": {
      "model_module": "@jupyter-widgets/base",
      "model_module_version": "1.2.0",
      "model_name": "LayoutModel",
      "state": {
       "_model_module": "@jupyter-widgets/base",
       "_model_module_version": "1.2.0",
       "_model_name": "LayoutModel",
       "_view_count": null,
       "_view_module": "@jupyter-widgets/base",
       "_view_module_version": "1.2.0",
       "_view_name": "LayoutView",
       "align_content": null,
       "align_items": null,
       "align_self": null,
       "border": null,
       "bottom": null,
       "display": null,
       "flex": null,
       "flex_flow": null,
       "grid_area": null,
       "grid_auto_columns": null,
       "grid_auto_flow": null,
       "grid_auto_rows": null,
       "grid_column": null,
       "grid_gap": null,
       "grid_row": null,
       "grid_template_areas": null,
       "grid_template_columns": null,
       "grid_template_rows": null,
       "height": null,
       "justify_content": null,
       "justify_items": null,
       "left": null,
       "margin": null,
       "max_height": null,
       "max_width": null,
       "min_height": null,
       "min_width": null,
       "object_fit": null,
       "object_position": null,
       "order": null,
       "overflow": null,
       "overflow_x": null,
       "overflow_y": null,
       "padding": null,
       "right": null,
       "top": null,
       "visibility": null,
       "width": null
      }
     },
     "6840189382fa41deb7283b585c59c1ca": {
      "model_module": "@jupyter-widgets/controls",
      "model_module_version": "1.5.0",
      "model_name": "HBoxModel",
      "state": {
       "_dom_classes": [],
       "_model_module": "@jupyter-widgets/controls",
       "_model_module_version": "1.5.0",
       "_model_name": "HBoxModel",
       "_view_count": null,
       "_view_module": "@jupyter-widgets/controls",
       "_view_module_version": "1.5.0",
       "_view_name": "HBoxView",
       "box_style": "",
       "children": [
        "IPY_MODEL_5347ff196d3c47168c7203bdab453350",
        "IPY_MODEL_22150c1521cb4178953f06e6e604fb92",
        "IPY_MODEL_a9995c259f10420fa109ab84e2bac017"
       ],
       "layout": "IPY_MODEL_c0f76d7668a144258d4fdee3006f5859"
      }
     },
     "68c2ea240b3346baa1b1fe1926672a30": {
      "model_module": "@jupyter-widgets/base",
      "model_module_version": "1.2.0",
      "model_name": "LayoutModel",
      "state": {
       "_model_module": "@jupyter-widgets/base",
       "_model_module_version": "1.2.0",
       "_model_name": "LayoutModel",
       "_view_count": null,
       "_view_module": "@jupyter-widgets/base",
       "_view_module_version": "1.2.0",
       "_view_name": "LayoutView",
       "align_content": null,
       "align_items": null,
       "align_self": null,
       "border": null,
       "bottom": null,
       "display": null,
       "flex": null,
       "flex_flow": null,
       "grid_area": null,
       "grid_auto_columns": null,
       "grid_auto_flow": null,
       "grid_auto_rows": null,
       "grid_column": null,
       "grid_gap": null,
       "grid_row": null,
       "grid_template_areas": null,
       "grid_template_columns": null,
       "grid_template_rows": null,
       "height": null,
       "justify_content": null,
       "justify_items": null,
       "left": null,
       "margin": null,
       "max_height": null,
       "max_width": null,
       "min_height": null,
       "min_width": null,
       "object_fit": null,
       "object_position": null,
       "order": null,
       "overflow": null,
       "overflow_x": null,
       "overflow_y": null,
       "padding": null,
       "right": null,
       "top": null,
       "visibility": null,
       "width": null
      }
     },
     "6bcb2b4ee17c45ef9483bcdfbf0a9a3d": {
      "model_module": "@jupyter-widgets/controls",
      "model_module_version": "1.5.0",
      "model_name": "DescriptionStyleModel",
      "state": {
       "_model_module": "@jupyter-widgets/controls",
       "_model_module_version": "1.5.0",
       "_model_name": "DescriptionStyleModel",
       "_view_count": null,
       "_view_module": "@jupyter-widgets/base",
       "_view_module_version": "1.2.0",
       "_view_name": "StyleView",
       "description_width": ""
      }
     },
     "6cc0019183e141bab78659bfebe4bd30": {
      "model_module": "@jupyter-widgets/base",
      "model_module_version": "1.2.0",
      "model_name": "LayoutModel",
      "state": {
       "_model_module": "@jupyter-widgets/base",
       "_model_module_version": "1.2.0",
       "_model_name": "LayoutModel",
       "_view_count": null,
       "_view_module": "@jupyter-widgets/base",
       "_view_module_version": "1.2.0",
       "_view_name": "LayoutView",
       "align_content": null,
       "align_items": null,
       "align_self": null,
       "border": null,
       "bottom": null,
       "display": null,
       "flex": null,
       "flex_flow": null,
       "grid_area": null,
       "grid_auto_columns": null,
       "grid_auto_flow": null,
       "grid_auto_rows": null,
       "grid_column": null,
       "grid_gap": null,
       "grid_row": null,
       "grid_template_areas": null,
       "grid_template_columns": null,
       "grid_template_rows": null,
       "height": null,
       "justify_content": null,
       "justify_items": null,
       "left": null,
       "margin": null,
       "max_height": null,
       "max_width": null,
       "min_height": null,
       "min_width": null,
       "object_fit": null,
       "object_position": null,
       "order": null,
       "overflow": null,
       "overflow_x": null,
       "overflow_y": null,
       "padding": null,
       "right": null,
       "top": null,
       "visibility": null,
       "width": null
      }
     },
     "6d7f152be6a1495a98adde901f0a3d9f": {
      "model_module": "@jupyter-widgets/controls",
      "model_module_version": "1.5.0",
      "model_name": "HTMLModel",
      "state": {
       "_dom_classes": [],
       "_model_module": "@jupyter-widgets/controls",
       "_model_module_version": "1.5.0",
       "_model_name": "HTMLModel",
       "_view_count": null,
       "_view_module": "@jupyter-widgets/controls",
       "_view_module_version": "1.5.0",
       "_view_name": "HTMLView",
       "description": "",
       "description_tooltip": null,
       "layout": "IPY_MODEL_38a5a48d696a4fe7a45e969867719fc0",
       "placeholder": "​",
       "style": "IPY_MODEL_d7503343717f49dc86a84aa73d03f7a5",
       "value": "Downloading: 100%"
      }
     },
     "6e499ac425ef4fe981d3005e0dbc286d": {
      "model_module": "@jupyter-widgets/controls",
      "model_module_version": "1.5.0",
      "model_name": "HTMLModel",
      "state": {
       "_dom_classes": [],
       "_model_module": "@jupyter-widgets/controls",
       "_model_module_version": "1.5.0",
       "_model_name": "HTMLModel",
       "_view_count": null,
       "_view_module": "@jupyter-widgets/controls",
       "_view_module_version": "1.5.0",
       "_view_name": "HTMLView",
       "description": "",
       "description_tooltip": null,
       "layout": "IPY_MODEL_ded52e95e4fd4907b43654d235c29c41",
       "placeholder": "​",
       "style": "IPY_MODEL_315c99ae580d42c18ab5788a95e44e40",
       "value": "Downloading: 100%"
      }
     },
     "6e4ef872f0d14bcc8ac7d5b999a2fa7b": {
      "model_module": "@jupyter-widgets/controls",
      "model_module_version": "1.5.0",
      "model_name": "HBoxModel",
      "state": {
       "_dom_classes": [],
       "_model_module": "@jupyter-widgets/controls",
       "_model_module_version": "1.5.0",
       "_model_name": "HBoxModel",
       "_view_count": null,
       "_view_module": "@jupyter-widgets/controls",
       "_view_module_version": "1.5.0",
       "_view_name": "HBoxView",
       "box_style": "",
       "children": [
        "IPY_MODEL_11d18b885cca41aa96be72120a3d435e",
        "IPY_MODEL_aeecee92b36e41b6a369c5b2ed5a149c",
        "IPY_MODEL_ad681b3da1214ae3bcf76fa674882f6a"
       ],
       "layout": "IPY_MODEL_f27fd090972d48c7b186143eb6221152"
      }
     },
     "713e2bbf87134cb3926178b0e62c383d": {
      "model_module": "@jupyter-widgets/controls",
      "model_module_version": "1.5.0",
      "model_name": "DescriptionStyleModel",
      "state": {
       "_model_module": "@jupyter-widgets/controls",
       "_model_module_version": "1.5.0",
       "_model_name": "DescriptionStyleModel",
       "_view_count": null,
       "_view_module": "@jupyter-widgets/base",
       "_view_module_version": "1.2.0",
       "_view_name": "StyleView",
       "description_width": ""
      }
     },
     "7484537cb8e2423986b61f01a5f68b2e": {
      "model_module": "@jupyter-widgets/controls",
      "model_module_version": "1.5.0",
      "model_name": "DescriptionStyleModel",
      "state": {
       "_model_module": "@jupyter-widgets/controls",
       "_model_module_version": "1.5.0",
       "_model_name": "DescriptionStyleModel",
       "_view_count": null,
       "_view_module": "@jupyter-widgets/base",
       "_view_module_version": "1.2.0",
       "_view_name": "StyleView",
       "description_width": ""
      }
     },
     "75248e8585364c02ae0b44033b0d3f3f": {
      "model_module": "@jupyter-widgets/base",
      "model_module_version": "1.2.0",
      "model_name": "LayoutModel",
      "state": {
       "_model_module": "@jupyter-widgets/base",
       "_model_module_version": "1.2.0",
       "_model_name": "LayoutModel",
       "_view_count": null,
       "_view_module": "@jupyter-widgets/base",
       "_view_module_version": "1.2.0",
       "_view_name": "LayoutView",
       "align_content": null,
       "align_items": null,
       "align_self": null,
       "border": null,
       "bottom": null,
       "display": null,
       "flex": null,
       "flex_flow": null,
       "grid_area": null,
       "grid_auto_columns": null,
       "grid_auto_flow": null,
       "grid_auto_rows": null,
       "grid_column": null,
       "grid_gap": null,
       "grid_row": null,
       "grid_template_areas": null,
       "grid_template_columns": null,
       "grid_template_rows": null,
       "height": null,
       "justify_content": null,
       "justify_items": null,
       "left": null,
       "margin": null,
       "max_height": null,
       "max_width": null,
       "min_height": null,
       "min_width": null,
       "object_fit": null,
       "object_position": null,
       "order": null,
       "overflow": null,
       "overflow_x": null,
       "overflow_y": null,
       "padding": null,
       "right": null,
       "top": null,
       "visibility": null,
       "width": null
      }
     },
     "755a444076f146a7b35933cb48713f4f": {
      "model_module": "@jupyter-widgets/controls",
      "model_module_version": "1.5.0",
      "model_name": "HTMLModel",
      "state": {
       "_dom_classes": [],
       "_model_module": "@jupyter-widgets/controls",
       "_model_module_version": "1.5.0",
       "_model_name": "HTMLModel",
       "_view_count": null,
       "_view_module": "@jupyter-widgets/controls",
       "_view_module_version": "1.5.0",
       "_view_name": "HTMLView",
       "description": "",
       "description_tooltip": null,
       "layout": "IPY_MODEL_c11f3aec24b740849e3871fd9e634778",
       "placeholder": "​",
       "style": "IPY_MODEL_40657db87da6405d9b9c4315a6de09e6",
       "value": " 78.0/78.0 [00:00&lt;00:00, 2.27kB/s]"
      }
     },
     "794a46877cec400dac0f332bc5edd1b8": {
      "model_module": "@jupyter-widgets/controls",
      "model_module_version": "1.5.0",
      "model_name": "HTMLModel",
      "state": {
       "_dom_classes": [],
       "_model_module": "@jupyter-widgets/controls",
       "_model_module_version": "1.5.0",
       "_model_name": "HTMLModel",
       "_view_count": null,
       "_view_module": "@jupyter-widgets/controls",
       "_view_module_version": "1.5.0",
       "_view_name": "HTMLView",
       "description": "",
       "description_tooltip": null,
       "layout": "IPY_MODEL_f61461dccaf4424093d620c98e718f7c",
       "placeholder": "​",
       "style": "IPY_MODEL_b94828d58ccd475b9f8edbb56843fd2b",
       "value": " 3.48G/3.48G [02:14&lt;00:00, 31.2MB/s]"
      }
     },
     "7b4f2f912746457aa43e5356374d0f19": {
      "model_module": "@jupyter-widgets/controls",
      "model_module_version": "1.5.0",
      "model_name": "ProgressStyleModel",
      "state": {
       "_model_module": "@jupyter-widgets/controls",
       "_model_module_version": "1.5.0",
       "_model_name": "ProgressStyleModel",
       "_view_count": null,
       "_view_module": "@jupyter-widgets/base",
       "_view_module_version": "1.2.0",
       "_view_name": "StyleView",
       "bar_color": null,
       "description_width": ""
      }
     },
     "82fab8ff817a475f8813ada59fad8e88": {
      "model_module": "@jupyter-widgets/base",
      "model_module_version": "1.2.0",
      "model_name": "LayoutModel",
      "state": {
       "_model_module": "@jupyter-widgets/base",
       "_model_module_version": "1.2.0",
       "_model_name": "LayoutModel",
       "_view_count": null,
       "_view_module": "@jupyter-widgets/base",
       "_view_module_version": "1.2.0",
       "_view_name": "LayoutView",
       "align_content": null,
       "align_items": null,
       "align_self": null,
       "border": null,
       "bottom": null,
       "display": null,
       "flex": null,
       "flex_flow": null,
       "grid_area": null,
       "grid_auto_columns": null,
       "grid_auto_flow": null,
       "grid_auto_rows": null,
       "grid_column": null,
       "grid_gap": null,
       "grid_row": null,
       "grid_template_areas": null,
       "grid_template_columns": null,
       "grid_template_rows": null,
       "height": null,
       "justify_content": null,
       "justify_items": null,
       "left": null,
       "margin": null,
       "max_height": null,
       "max_width": null,
       "min_height": null,
       "min_width": null,
       "object_fit": null,
       "object_position": null,
       "order": null,
       "overflow": null,
       "overflow_x": null,
       "overflow_y": null,
       "padding": null,
       "right": null,
       "top": null,
       "visibility": null,
       "width": null
      }
     },
     "832f9ea5e59a4f909d7b02a303e9314f": {
      "model_module": "@jupyter-widgets/base",
      "model_module_version": "1.2.0",
      "model_name": "LayoutModel",
      "state": {
       "_model_module": "@jupyter-widgets/base",
       "_model_module_version": "1.2.0",
       "_model_name": "LayoutModel",
       "_view_count": null,
       "_view_module": "@jupyter-widgets/base",
       "_view_module_version": "1.2.0",
       "_view_name": "LayoutView",
       "align_content": null,
       "align_items": null,
       "align_self": null,
       "border": null,
       "bottom": null,
       "display": null,
       "flex": null,
       "flex_flow": null,
       "grid_area": null,
       "grid_auto_columns": null,
       "grid_auto_flow": null,
       "grid_auto_rows": null,
       "grid_column": null,
       "grid_gap": null,
       "grid_row": null,
       "grid_template_areas": null,
       "grid_template_columns": null,
       "grid_template_rows": null,
       "height": null,
       "justify_content": null,
       "justify_items": null,
       "left": null,
       "margin": null,
       "max_height": null,
       "max_width": null,
       "min_height": null,
       "min_width": null,
       "object_fit": null,
       "object_position": null,
       "order": null,
       "overflow": null,
       "overflow_x": null,
       "overflow_y": null,
       "padding": null,
       "right": null,
       "top": null,
       "visibility": null,
       "width": null
      }
     },
     "8363fdfb90784b1998c187b25fdbbc2e": {
      "model_module": "@jupyter-widgets/controls",
      "model_module_version": "1.5.0",
      "model_name": "HTMLModel",
      "state": {
       "_dom_classes": [],
       "_model_module": "@jupyter-widgets/controls",
       "_model_module_version": "1.5.0",
       "_model_name": "HTMLModel",
       "_view_count": null,
       "_view_module": "@jupyter-widgets/controls",
       "_view_module_version": "1.5.0",
       "_view_name": "HTMLView",
       "description": "",
       "description_tooltip": null,
       "layout": "IPY_MODEL_42b35d36e6994bf0b056fbd8c9d63297",
       "placeholder": "​",
       "style": "IPY_MODEL_e069831619aa438380b630ec89b72f60",
       "value": " 75/75 [1:23:33&lt;00:00, 67.35s/it]"
      }
     },
     "846e10f0679349899fc57da1d22ca101": {
      "model_module": "@jupyter-widgets/base",
      "model_module_version": "1.2.0",
      "model_name": "LayoutModel",
      "state": {
       "_model_module": "@jupyter-widgets/base",
       "_model_module_version": "1.2.0",
       "_model_name": "LayoutModel",
       "_view_count": null,
       "_view_module": "@jupyter-widgets/base",
       "_view_module_version": "1.2.0",
       "_view_name": "LayoutView",
       "align_content": null,
       "align_items": null,
       "align_self": null,
       "border": null,
       "bottom": null,
       "display": null,
       "flex": null,
       "flex_flow": null,
       "grid_area": null,
       "grid_auto_columns": null,
       "grid_auto_flow": null,
       "grid_auto_rows": null,
       "grid_column": null,
       "grid_gap": null,
       "grid_row": null,
       "grid_template_areas": null,
       "grid_template_columns": null,
       "grid_template_rows": null,
       "height": null,
       "justify_content": null,
       "justify_items": null,
       "left": null,
       "margin": null,
       "max_height": null,
       "max_width": null,
       "min_height": null,
       "min_width": null,
       "object_fit": null,
       "object_position": null,
       "order": null,
       "overflow": null,
       "overflow_x": null,
       "overflow_y": null,
       "padding": null,
       "right": null,
       "top": null,
       "visibility": null,
       "width": null
      }
     },
     "86ff58008ea141d98ba95c86e919b38f": {
      "model_module": "@jupyter-widgets/controls",
      "model_module_version": "1.5.0",
      "model_name": "HBoxModel",
      "state": {
       "_dom_classes": [],
       "_model_module": "@jupyter-widgets/controls",
       "_model_module_version": "1.5.0",
       "_model_name": "HBoxModel",
       "_view_count": null,
       "_view_module": "@jupyter-widgets/controls",
       "_view_module_version": "1.5.0",
       "_view_name": "HBoxView",
       "box_style": "",
       "children": [
        "IPY_MODEL_6323bea3eb2e4daf86f83ceb47cc58a2",
        "IPY_MODEL_dce620278861438db47bb83da556ef39",
        "IPY_MODEL_16f82d2bd5bb49778f69c204b4f360c2"
       ],
       "layout": "IPY_MODEL_4fe52e66fe754250945ec54f19d6db79"
      }
     },
     "879c7727bd6e4850ac1e02d52b332feb": {
      "model_module": "@jupyter-widgets/base",
      "model_module_version": "1.2.0",
      "model_name": "LayoutModel",
      "state": {
       "_model_module": "@jupyter-widgets/base",
       "_model_module_version": "1.2.0",
       "_model_name": "LayoutModel",
       "_view_count": null,
       "_view_module": "@jupyter-widgets/base",
       "_view_module_version": "1.2.0",
       "_view_name": "LayoutView",
       "align_content": null,
       "align_items": null,
       "align_self": null,
       "border": null,
       "bottom": null,
       "display": null,
       "flex": null,
       "flex_flow": null,
       "grid_area": null,
       "grid_auto_columns": null,
       "grid_auto_flow": null,
       "grid_auto_rows": null,
       "grid_column": null,
       "grid_gap": null,
       "grid_row": null,
       "grid_template_areas": null,
       "grid_template_columns": null,
       "grid_template_rows": null,
       "height": null,
       "justify_content": null,
       "justify_items": null,
       "left": null,
       "margin": null,
       "max_height": null,
       "max_width": null,
       "min_height": null,
       "min_width": null,
       "object_fit": null,
       "object_position": null,
       "order": null,
       "overflow": null,
       "overflow_x": null,
       "overflow_y": null,
       "padding": null,
       "right": null,
       "top": null,
       "visibility": null,
       "width": null
      }
     },
     "89e386e1d0fe4d138c23e2d987845c48": {
      "model_module": "@jupyter-widgets/base",
      "model_module_version": "1.2.0",
      "model_name": "LayoutModel",
      "state": {
       "_model_module": "@jupyter-widgets/base",
       "_model_module_version": "1.2.0",
       "_model_name": "LayoutModel",
       "_view_count": null,
       "_view_module": "@jupyter-widgets/base",
       "_view_module_version": "1.2.0",
       "_view_name": "LayoutView",
       "align_content": null,
       "align_items": null,
       "align_self": null,
       "border": null,
       "bottom": null,
       "display": null,
       "flex": null,
       "flex_flow": null,
       "grid_area": null,
       "grid_auto_columns": null,
       "grid_auto_flow": null,
       "grid_auto_rows": null,
       "grid_column": null,
       "grid_gap": null,
       "grid_row": null,
       "grid_template_areas": null,
       "grid_template_columns": null,
       "grid_template_rows": null,
       "height": null,
       "justify_content": null,
       "justify_items": null,
       "left": null,
       "margin": null,
       "max_height": null,
       "max_width": null,
       "min_height": null,
       "min_width": null,
       "object_fit": null,
       "object_position": null,
       "order": null,
       "overflow": null,
       "overflow_x": null,
       "overflow_y": null,
       "padding": null,
       "right": null,
       "top": null,
       "visibility": null,
       "width": null
      }
     },
     "8c9c6649666b471b97f7ba1edfd18d74": {
      "model_module": "@jupyter-widgets/controls",
      "model_module_version": "1.5.0",
      "model_name": "HTMLModel",
      "state": {
       "_dom_classes": [],
       "_model_module": "@jupyter-widgets/controls",
       "_model_module_version": "1.5.0",
       "_model_name": "HTMLModel",
       "_view_count": null,
       "_view_module": "@jupyter-widgets/controls",
       "_view_module_version": "1.5.0",
       "_view_name": "HTMLView",
       "description": "",
       "description_tooltip": null,
       "layout": "IPY_MODEL_03ffa5ee25a846e4bfee5e39c58b2aaf",
       "placeholder": "​",
       "style": "IPY_MODEL_e07b0689b59a4c8ba3d9ff78143eaf44",
       "value": " 25.0/25.0 [00:00&lt;00:00, 730B/s]"
      }
     },
     "8d452b561adb439893ccc1dd8241db2c": {
      "model_module": "@jupyter-widgets/controls",
      "model_module_version": "1.5.0",
      "model_name": "HBoxModel",
      "state": {
       "_dom_classes": [],
       "_model_module": "@jupyter-widgets/controls",
       "_model_module_version": "1.5.0",
       "_model_name": "HBoxModel",
       "_view_count": null,
       "_view_module": "@jupyter-widgets/controls",
       "_view_module_version": "1.5.0",
       "_view_name": "HBoxView",
       "box_style": "",
       "children": [
        "IPY_MODEL_cfb1dcb8be2b447d89559be20f063465",
        "IPY_MODEL_a0fd2d1f78e4444bacf2b42330fc6a5e",
        "IPY_MODEL_4662ae547c4445f49412a6eb332f7a41"
       ],
       "layout": "IPY_MODEL_82fab8ff817a475f8813ada59fad8e88"
      }
     },
     "8ebdda72881540d6bf4e3e9cb4637d85": {
      "model_module": "@jupyter-widgets/base",
      "model_module_version": "1.2.0",
      "model_name": "LayoutModel",
      "state": {
       "_model_module": "@jupyter-widgets/base",
       "_model_module_version": "1.2.0",
       "_model_name": "LayoutModel",
       "_view_count": null,
       "_view_module": "@jupyter-widgets/base",
       "_view_module_version": "1.2.0",
       "_view_name": "LayoutView",
       "align_content": null,
       "align_items": null,
       "align_self": null,
       "border": null,
       "bottom": null,
       "display": null,
       "flex": null,
       "flex_flow": null,
       "grid_area": null,
       "grid_auto_columns": null,
       "grid_auto_flow": null,
       "grid_auto_rows": null,
       "grid_column": null,
       "grid_gap": null,
       "grid_row": null,
       "grid_template_areas": null,
       "grid_template_columns": null,
       "grid_template_rows": null,
       "height": null,
       "justify_content": null,
       "justify_items": null,
       "left": null,
       "margin": null,
       "max_height": null,
       "max_width": null,
       "min_height": null,
       "min_width": null,
       "object_fit": null,
       "object_position": null,
       "order": null,
       "overflow": null,
       "overflow_x": null,
       "overflow_y": null,
       "padding": null,
       "right": null,
       "top": null,
       "visibility": null,
       "width": null
      }
     },
     "8f23117ccfcc4334b26a9531240ae0bc": {
      "model_module": "@jupyter-widgets/base",
      "model_module_version": "1.2.0",
      "model_name": "LayoutModel",
      "state": {
       "_model_module": "@jupyter-widgets/base",
       "_model_module_version": "1.2.0",
       "_model_name": "LayoutModel",
       "_view_count": null,
       "_view_module": "@jupyter-widgets/base",
       "_view_module_version": "1.2.0",
       "_view_name": "LayoutView",
       "align_content": null,
       "align_items": null,
       "align_self": null,
       "border": null,
       "bottom": null,
       "display": null,
       "flex": null,
       "flex_flow": null,
       "grid_area": null,
       "grid_auto_columns": null,
       "grid_auto_flow": null,
       "grid_auto_rows": null,
       "grid_column": null,
       "grid_gap": null,
       "grid_row": null,
       "grid_template_areas": null,
       "grid_template_columns": null,
       "grid_template_rows": null,
       "height": null,
       "justify_content": null,
       "justify_items": null,
       "left": null,
       "margin": null,
       "max_height": null,
       "max_width": null,
       "min_height": null,
       "min_width": null,
       "object_fit": null,
       "object_position": null,
       "order": null,
       "overflow": null,
       "overflow_x": null,
       "overflow_y": null,
       "padding": null,
       "right": null,
       "top": null,
       "visibility": null,
       "width": null
      }
     },
     "8fccc7b4968d48439407219938a8dd31": {
      "model_module": "@jupyter-widgets/base",
      "model_module_version": "1.2.0",
      "model_name": "LayoutModel",
      "state": {
       "_model_module": "@jupyter-widgets/base",
       "_model_module_version": "1.2.0",
       "_model_name": "LayoutModel",
       "_view_count": null,
       "_view_module": "@jupyter-widgets/base",
       "_view_module_version": "1.2.0",
       "_view_name": "LayoutView",
       "align_content": null,
       "align_items": null,
       "align_self": null,
       "border": null,
       "bottom": null,
       "display": null,
       "flex": null,
       "flex_flow": null,
       "grid_area": null,
       "grid_auto_columns": null,
       "grid_auto_flow": null,
       "grid_auto_rows": null,
       "grid_column": null,
       "grid_gap": null,
       "grid_row": null,
       "grid_template_areas": null,
       "grid_template_columns": null,
       "grid_template_rows": null,
       "height": null,
       "justify_content": null,
       "justify_items": null,
       "left": null,
       "margin": null,
       "max_height": null,
       "max_width": null,
       "min_height": null,
       "min_width": null,
       "object_fit": null,
       "object_position": null,
       "order": null,
       "overflow": null,
       "overflow_x": null,
       "overflow_y": null,
       "padding": null,
       "right": null,
       "top": null,
       "visibility": null,
       "width": null
      }
     },
     "925686e5942e42cba4bad27aa09029ca": {
      "model_module": "@jupyter-widgets/controls",
      "model_module_version": "1.5.0",
      "model_name": "HBoxModel",
      "state": {
       "_dom_classes": [],
       "_model_module": "@jupyter-widgets/controls",
       "_model_module_version": "1.5.0",
       "_model_name": "HBoxModel",
       "_view_count": null,
       "_view_module": "@jupyter-widgets/controls",
       "_view_module_version": "1.5.0",
       "_view_name": "HBoxView",
       "box_style": "",
       "children": [
        "IPY_MODEL_dac532bab0f344438a186aca6c644b36",
        "IPY_MODEL_a71595ba7d0c4c3391ed3d35e752b4d3",
        "IPY_MODEL_f5390ace1c7a4c90bafe6baaba0cb0b3"
       ],
       "layout": "IPY_MODEL_df5cfd53657648df883ea79a5943b5cd"
      }
     },
     "9367602120fa414ea621e2e49d8048da": {
      "model_module": "@jupyter-widgets/controls",
      "model_module_version": "1.5.0",
      "model_name": "ProgressStyleModel",
      "state": {
       "_model_module": "@jupyter-widgets/controls",
       "_model_module_version": "1.5.0",
       "_model_name": "ProgressStyleModel",
       "_view_count": null,
       "_view_module": "@jupyter-widgets/base",
       "_view_module_version": "1.2.0",
       "_view_name": "StyleView",
       "bar_color": null,
       "description_width": ""
      }
     },
     "94aaed402c6c427db8a0a30c7d331232": {
      "model_module": "@jupyter-widgets/controls",
      "model_module_version": "1.5.0",
      "model_name": "HTMLModel",
      "state": {
       "_dom_classes": [],
       "_model_module": "@jupyter-widgets/controls",
       "_model_module_version": "1.5.0",
       "_model_name": "HTMLModel",
       "_view_count": null,
       "_view_module": "@jupyter-widgets/controls",
       "_view_module_version": "1.5.0",
       "_view_name": "HTMLView",
       "description": "",
       "description_tooltip": null,
       "layout": "IPY_MODEL_ce67c4420f5a42afbdc6686fb3eae8fe",
       "placeholder": "​",
       "style": "IPY_MODEL_df4d4ef46f6348f2b69940e6077de594",
       "value": "Downloading: 100%"
      }
     },
     "94bb108e9d7c4746ac03745aede6df5e": {
      "model_module": "@jupyter-widgets/controls",
      "model_module_version": "1.5.0",
      "model_name": "FloatProgressModel",
      "state": {
       "_dom_classes": [],
       "_model_module": "@jupyter-widgets/controls",
       "_model_module_version": "1.5.0",
       "_model_name": "FloatProgressModel",
       "_view_count": null,
       "_view_module": "@jupyter-widgets/controls",
       "_view_module_version": "1.5.0",
       "_view_name": "ProgressView",
       "bar_style": "success",
       "description": "",
       "description_tooltip": null,
       "layout": "IPY_MODEL_65853bfc268949adbc2c96e29ec154e0",
       "max": 1262382897.0,
       "min": 0.0,
       "orientation": "horizontal",
       "style": "IPY_MODEL_9367602120fa414ea621e2e49d8048da",
       "value": 1262382897.0
      }
     },
     "9d9899ffb9954b3d961d08cac0bee201": {
      "model_module": "@jupyter-widgets/controls",
      "model_module_version": "1.5.0",
      "model_name": "ProgressStyleModel",
      "state": {
       "_model_module": "@jupyter-widgets/controls",
       "_model_module_version": "1.5.0",
       "_model_name": "ProgressStyleModel",
       "_view_count": null,
       "_view_module": "@jupyter-widgets/base",
       "_view_module_version": "1.2.0",
       "_view_name": "StyleView",
       "bar_color": null,
       "description_width": ""
      }
     },
     "a0fd2d1f78e4444bacf2b42330fc6a5e": {
      "model_module": "@jupyter-widgets/controls",
      "model_module_version": "1.5.0",
      "model_name": "FloatProgressModel",
      "state": {
       "_dom_classes": [],
       "_model_module": "@jupyter-widgets/controls",
       "_model_module_version": "1.5.0",
       "_model_name": "FloatProgressModel",
       "_view_count": null,
       "_view_module": "@jupyter-widgets/controls",
       "_view_module_version": "1.5.0",
       "_view_name": "ProgressView",
       "bar_style": "success",
       "description": "",
       "description_tooltip": null,
       "layout": "IPY_MODEL_8ebdda72881540d6bf4e3e9cb4637d85",
       "max": 2160.0,
       "min": 0.0,
       "orientation": "horizontal",
       "style": "IPY_MODEL_e125af79f4604aacb95037bde15e4c73",
       "value": 2160.0
      }
     },
     "a1de99d6787643129bc19c0749b509ab": {
      "model_module": "@jupyter-widgets/controls",
      "model_module_version": "1.5.0",
      "model_name": "HTMLModel",
      "state": {
       "_dom_classes": [],
       "_model_module": "@jupyter-widgets/controls",
       "_model_module_version": "1.5.0",
       "_model_name": "HTMLModel",
       "_view_count": null,
       "_view_module": "@jupyter-widgets/controls",
       "_view_module_version": "1.5.0",
       "_view_name": "HTMLView",
       "description": "",
       "description_tooltip": null,
       "layout": "IPY_MODEL_3913ef073eb04513a66d616ff26464e0",
       "placeholder": "​",
       "style": "IPY_MODEL_0b36e794afea4583ba72ff95e218f7e2",
       "value": " 261/261 [00:00&lt;00:00, 3.42kB/s]"
      }
     },
     "a34ebb7f3e184b6f8d932b2f49032c98": {
      "model_module": "@jupyter-widgets/controls",
      "model_module_version": "1.5.0",
      "model_name": "HBoxModel",
      "state": {
       "_dom_classes": [],
       "_model_module": "@jupyter-widgets/controls",
       "_model_module_version": "1.5.0",
       "_model_name": "HBoxModel",
       "_view_count": null,
       "_view_module": "@jupyter-widgets/controls",
       "_view_module_version": "1.5.0",
       "_view_name": "HBoxView",
       "box_style": "",
       "children": [
        "IPY_MODEL_94aaed402c6c427db8a0a30c7d331232",
        "IPY_MODEL_e898699406534223a2c4783d19f33337",
        "IPY_MODEL_755a444076f146a7b35933cb48713f4f"
       ],
       "layout": "IPY_MODEL_247e8364d9eb48d487d06b1caa0a9f7f"
      }
     },
     "a3963d4ebbb248f1a1b9187c490a3f1e": {
      "model_module": "@jupyter-widgets/controls",
      "model_module_version": "1.5.0",
      "model_name": "DescriptionStyleModel",
      "state": {
       "_model_module": "@jupyter-widgets/controls",
       "_model_module_version": "1.5.0",
       "_model_name": "DescriptionStyleModel",
       "_view_count": null,
       "_view_module": "@jupyter-widgets/base",
       "_view_module_version": "1.2.0",
       "_view_name": "StyleView",
       "description_width": ""
      }
     },
     "a52ec813112d44f5bd918395fe6c746c": {
      "model_module": "@jupyter-widgets/controls",
      "model_module_version": "1.5.0",
      "model_name": "ProgressStyleModel",
      "state": {
       "_model_module": "@jupyter-widgets/controls",
       "_model_module_version": "1.5.0",
       "_model_name": "ProgressStyleModel",
       "_view_count": null,
       "_view_module": "@jupyter-widgets/base",
       "_view_module_version": "1.2.0",
       "_view_name": "StyleView",
       "bar_color": null,
       "description_width": ""
      }
     },
     "a71595ba7d0c4c3391ed3d35e752b4d3": {
      "model_module": "@jupyter-widgets/controls",
      "model_module_version": "1.5.0",
      "model_name": "FloatProgressModel",
      "state": {
       "_dom_classes": [],
       "_model_module": "@jupyter-widgets/controls",
       "_model_module_version": "1.5.0",
       "_model_name": "FloatProgressModel",
       "_view_count": null,
       "_view_module": "@jupyter-widgets/controls",
       "_view_module_version": "1.5.0",
       "_view_name": "ProgressView",
       "bar_style": "success",
       "description": "",
       "description_tooltip": null,
       "layout": "IPY_MODEL_846e10f0679349899fc57da1d22ca101",
       "max": 7747.0,
       "min": 0.0,
       "orientation": "horizontal",
       "style": "IPY_MODEL_cdd9c426f41c4666b865db86cc9d1ac9",
       "value": 7747.0
      }
     },
     "a75c1195c32c4dcba9cdc82bafa9b660": {
      "model_module": "@jupyter-widgets/controls",
      "model_module_version": "1.5.0",
      "model_name": "DescriptionStyleModel",
      "state": {
       "_model_module": "@jupyter-widgets/controls",
       "_model_module_version": "1.5.0",
       "_model_name": "DescriptionStyleModel",
       "_view_count": null,
       "_view_module": "@jupyter-widgets/base",
       "_view_module_version": "1.2.0",
       "_view_name": "StyleView",
       "description_width": ""
      }
     },
     "a9995c259f10420fa109ab84e2bac017": {
      "model_module": "@jupyter-widgets/controls",
      "model_module_version": "1.5.0",
      "model_name": "HTMLModel",
      "state": {
       "_dom_classes": [],
       "_model_module": "@jupyter-widgets/controls",
       "_model_module_version": "1.5.0",
       "_model_name": "HTMLModel",
       "_view_count": null,
       "_view_module": "@jupyter-widgets/controls",
       "_view_module_version": "1.5.0",
       "_view_name": "HTMLView",
       "description": "",
       "description_tooltip": null,
       "layout": "IPY_MODEL_5424086feef24ba4a0e3f00d5854158f",
       "placeholder": "​",
       "style": "IPY_MODEL_27463ca25c014563987c790981e27789",
       "value": " 4.48k/? [00:00&lt;00:00, 129kB/s]"
      }
     },
     "aa4e4ea326ba4c04ab37a13bdc299439": {
      "model_module": "@jupyter-widgets/controls",
      "model_module_version": "1.5.0",
      "model_name": "ProgressStyleModel",
      "state": {
       "_model_module": "@jupyter-widgets/controls",
       "_model_module_version": "1.5.0",
       "_model_name": "ProgressStyleModel",
       "_view_count": null,
       "_view_module": "@jupyter-widgets/base",
       "_view_module_version": "1.2.0",
       "_view_name": "StyleView",
       "bar_color": null,
       "description_width": ""
      }
     },
     "ab15495ece444fb29181adfe1d6631bf": {
      "model_module": "@jupyter-widgets/controls",
      "model_module_version": "1.5.0",
      "model_name": "DescriptionStyleModel",
      "state": {
       "_model_module": "@jupyter-widgets/controls",
       "_model_module_version": "1.5.0",
       "_model_name": "DescriptionStyleModel",
       "_view_count": null,
       "_view_module": "@jupyter-widgets/base",
       "_view_module_version": "1.2.0",
       "_view_name": "StyleView",
       "description_width": ""
      }
     },
     "ac89c020f83547b89f61cea685d9f569": {
      "model_module": "@jupyter-widgets/controls",
      "model_module_version": "1.5.0",
      "model_name": "HTMLModel",
      "state": {
       "_dom_classes": [],
       "_model_module": "@jupyter-widgets/controls",
       "_model_module_version": "1.5.0",
       "_model_name": "HTMLModel",
       "_view_count": null,
       "_view_module": "@jupyter-widgets/controls",
       "_view_module_version": "1.5.0",
       "_view_name": "HTMLView",
       "description": "",
       "description_tooltip": null,
       "layout": "IPY_MODEL_ccf319f467454d139cb96d13ab76c4e8",
       "placeholder": "​",
       "style": "IPY_MODEL_ab15495ece444fb29181adfe1d6631bf",
       "value": "Downloading: 100%"
      }
     },
     "ad681b3da1214ae3bcf76fa674882f6a": {
      "model_module": "@jupyter-widgets/controls",
      "model_module_version": "1.5.0",
      "model_name": "HTMLModel",
      "state": {
       "_dom_classes": [],
       "_model_module": "@jupyter-widgets/controls",
       "_model_module_version": "1.5.0",
       "_model_name": "HTMLModel",
       "_view_count": null,
       "_view_module": "@jupyter-widgets/controls",
       "_view_module_version": "1.5.0",
       "_view_name": "HTMLView",
       "description": "",
       "description_tooltip": null,
       "layout": "IPY_MODEL_8f23117ccfcc4334b26a9531240ae0bc",
       "placeholder": "​",
       "style": "IPY_MODEL_4334256066fb49aaaab897ff58f2093a",
       "value": " 1.13k/1.13k [00:00&lt;00:00, 15.9kB/s]"
      }
     },
     "ae95fcfb6f6b4e5f93644de3cdb66221": {
      "model_module": "@jupyter-widgets/base",
      "model_module_version": "1.2.0",
      "model_name": "LayoutModel",
      "state": {
       "_model_module": "@jupyter-widgets/base",
       "_model_module_version": "1.2.0",
       "_model_name": "LayoutModel",
       "_view_count": null,
       "_view_module": "@jupyter-widgets/base",
       "_view_module_version": "1.2.0",
       "_view_name": "LayoutView",
       "align_content": null,
       "align_items": null,
       "align_self": null,
       "border": null,
       "bottom": null,
       "display": null,
       "flex": null,
       "flex_flow": null,
       "grid_area": null,
       "grid_auto_columns": null,
       "grid_auto_flow": null,
       "grid_auto_rows": null,
       "grid_column": null,
       "grid_gap": null,
       "grid_row": null,
       "grid_template_areas": null,
       "grid_template_columns": null,
       "grid_template_rows": null,
       "height": null,
       "justify_content": null,
       "justify_items": null,
       "left": null,
       "margin": null,
       "max_height": null,
       "max_width": null,
       "min_height": null,
       "min_width": null,
       "object_fit": null,
       "object_position": null,
       "order": null,
       "overflow": null,
       "overflow_x": null,
       "overflow_y": null,
       "padding": null,
       "right": null,
       "top": null,
       "visibility": null,
       "width": null
      }
     },
     "aeecee92b36e41b6a369c5b2ed5a149c": {
      "model_module": "@jupyter-widgets/controls",
      "model_module_version": "1.5.0",
      "model_name": "FloatProgressModel",
      "state": {
       "_dom_classes": [],
       "_model_module": "@jupyter-widgets/controls",
       "_model_module_version": "1.5.0",
       "_model_name": "FloatProgressModel",
       "_view_count": null,
       "_view_module": "@jupyter-widgets/controls",
       "_view_module_version": "1.5.0",
       "_view_name": "ProgressView",
       "bar_style": "success",
       "description": "",
       "description_tooltip": null,
       "layout": "IPY_MODEL_22a8cd900c4a4f32be83b45e9818127e",
       "max": 1157.0,
       "min": 0.0,
       "orientation": "horizontal",
       "style": "IPY_MODEL_5d1b038915e34d3696577cd57a0ad5c2",
       "value": 1157.0
      }
     },
     "b09aeb9a0822409bb1dcea801ca45e5a": {
      "model_module": "@jupyter-widgets/controls",
      "model_module_version": "1.5.0",
      "model_name": "HTMLModel",
      "state": {
       "_dom_classes": [],
       "_model_module": "@jupyter-widgets/controls",
       "_model_module_version": "1.5.0",
       "_model_name": "HTMLModel",
       "_view_count": null,
       "_view_module": "@jupyter-widgets/controls",
       "_view_module_version": "1.5.0",
       "_view_name": "HTMLView",
       "description": "",
       "description_tooltip": null,
       "layout": "IPY_MODEL_6cc0019183e141bab78659bfebe4bd30",
       "placeholder": "​",
       "style": "IPY_MODEL_4b03b8b96a8b4c9fbd4d9ef71e49650b",
       "value": " 78.0/78.0 [00:00&lt;00:00, 1.24kB/s]"
      }
     },
     "b94828d58ccd475b9f8edbb56843fd2b": {
      "model_module": "@jupyter-widgets/controls",
      "model_module_version": "1.5.0",
      "model_name": "DescriptionStyleModel",
      "state": {
       "_model_module": "@jupyter-widgets/controls",
       "_model_module_version": "1.5.0",
       "_model_name": "DescriptionStyleModel",
       "_view_count": null,
       "_view_module": "@jupyter-widgets/base",
       "_view_module_version": "1.2.0",
       "_view_name": "StyleView",
       "description_width": ""
      }
     },
     "b9a8710e9b674175b701a7ea52ef0e36": {
      "model_module": "@jupyter-widgets/base",
      "model_module_version": "1.2.0",
      "model_name": "LayoutModel",
      "state": {
       "_model_module": "@jupyter-widgets/base",
       "_model_module_version": "1.2.0",
       "_model_name": "LayoutModel",
       "_view_count": null,
       "_view_module": "@jupyter-widgets/base",
       "_view_module_version": "1.2.0",
       "_view_name": "LayoutView",
       "align_content": null,
       "align_items": null,
       "align_self": null,
       "border": null,
       "bottom": null,
       "display": null,
       "flex": null,
       "flex_flow": null,
       "grid_area": null,
       "grid_auto_columns": null,
       "grid_auto_flow": null,
       "grid_auto_rows": null,
       "grid_column": null,
       "grid_gap": null,
       "grid_row": null,
       "grid_template_areas": null,
       "grid_template_columns": null,
       "grid_template_rows": null,
       "height": null,
       "justify_content": null,
       "justify_items": null,
       "left": null,
       "margin": null,
       "max_height": null,
       "max_width": null,
       "min_height": null,
       "min_width": null,
       "object_fit": null,
       "object_position": null,
       "order": null,
       "overflow": null,
       "overflow_x": null,
       "overflow_y": null,
       "padding": null,
       "right": null,
       "top": null,
       "visibility": null,
       "width": null
      }
     },
     "bb4027ba0bbd43cbaeaca11dbb6e47fb": {
      "model_module": "@jupyter-widgets/controls",
      "model_module_version": "1.5.0",
      "model_name": "HTMLModel",
      "state": {
       "_dom_classes": [],
       "_model_module": "@jupyter-widgets/controls",
       "_model_module_version": "1.5.0",
       "_model_name": "HTMLModel",
       "_view_count": null,
       "_view_module": "@jupyter-widgets/controls",
       "_view_module_version": "1.5.0",
       "_view_name": "HTMLView",
       "description": "",
       "description_tooltip": null,
       "layout": "IPY_MODEL_e591ce00ebb9429ab60ea56207748ab9",
       "placeholder": "​",
       "style": "IPY_MODEL_a3963d4ebbb248f1a1b9187c490a3f1e",
       "value": "Downloading: 100%"
      }
     },
     "bc5434494534449da2682c0cee82ec2e": {
      "model_module": "@jupyter-widgets/controls",
      "model_module_version": "1.5.0",
      "model_name": "DescriptionStyleModel",
      "state": {
       "_model_module": "@jupyter-widgets/controls",
       "_model_module_version": "1.5.0",
       "_model_name": "DescriptionStyleModel",
       "_view_count": null,
       "_view_module": "@jupyter-widgets/base",
       "_view_module_version": "1.2.0",
       "_view_name": "StyleView",
       "description_width": ""
      }
     },
     "c0f76d7668a144258d4fdee3006f5859": {
      "model_module": "@jupyter-widgets/base",
      "model_module_version": "1.2.0",
      "model_name": "LayoutModel",
      "state": {
       "_model_module": "@jupyter-widgets/base",
       "_model_module_version": "1.2.0",
       "_model_name": "LayoutModel",
       "_view_count": null,
       "_view_module": "@jupyter-widgets/base",
       "_view_module_version": "1.2.0",
       "_view_name": "LayoutView",
       "align_content": null,
       "align_items": null,
       "align_self": null,
       "border": null,
       "bottom": null,
       "display": null,
       "flex": null,
       "flex_flow": null,
       "grid_area": null,
       "grid_auto_columns": null,
       "grid_auto_flow": null,
       "grid_auto_rows": null,
       "grid_column": null,
       "grid_gap": null,
       "grid_row": null,
       "grid_template_areas": null,
       "grid_template_columns": null,
       "grid_template_rows": null,
       "height": null,
       "justify_content": null,
       "justify_items": null,
       "left": null,
       "margin": null,
       "max_height": null,
       "max_width": null,
       "min_height": null,
       "min_width": null,
       "object_fit": null,
       "object_position": null,
       "order": null,
       "overflow": null,
       "overflow_x": null,
       "overflow_y": null,
       "padding": null,
       "right": null,
       "top": null,
       "visibility": null,
       "width": null
      }
     },
     "c11f3aec24b740849e3871fd9e634778": {
      "model_module": "@jupyter-widgets/base",
      "model_module_version": "1.2.0",
      "model_name": "LayoutModel",
      "state": {
       "_model_module": "@jupyter-widgets/base",
       "_model_module_version": "1.2.0",
       "_model_name": "LayoutModel",
       "_view_count": null,
       "_view_module": "@jupyter-widgets/base",
       "_view_module_version": "1.2.0",
       "_view_name": "LayoutView",
       "align_content": null,
       "align_items": null,
       "align_self": null,
       "border": null,
       "bottom": null,
       "display": null,
       "flex": null,
       "flex_flow": null,
       "grid_area": null,
       "grid_auto_columns": null,
       "grid_auto_flow": null,
       "grid_auto_rows": null,
       "grid_column": null,
       "grid_gap": null,
       "grid_row": null,
       "grid_template_areas": null,
       "grid_template_columns": null,
       "grid_template_rows": null,
       "height": null,
       "justify_content": null,
       "justify_items": null,
       "left": null,
       "margin": null,
       "max_height": null,
       "max_width": null,
       "min_height": null,
       "min_width": null,
       "object_fit": null,
       "object_position": null,
       "order": null,
       "overflow": null,
       "overflow_x": null,
       "overflow_y": null,
       "padding": null,
       "right": null,
       "top": null,
       "visibility": null,
       "width": null
      }
     },
     "c15bdabf0b494d10ad0f967aab66e02c": {
      "model_module": "@jupyter-widgets/base",
      "model_module_version": "1.2.0",
      "model_name": "LayoutModel",
      "state": {
       "_model_module": "@jupyter-widgets/base",
       "_model_module_version": "1.2.0",
       "_model_name": "LayoutModel",
       "_view_count": null,
       "_view_module": "@jupyter-widgets/base",
       "_view_module_version": "1.2.0",
       "_view_name": "LayoutView",
       "align_content": null,
       "align_items": null,
       "align_self": null,
       "border": null,
       "bottom": null,
       "display": null,
       "flex": null,
       "flex_flow": null,
       "grid_area": null,
       "grid_auto_columns": null,
       "grid_auto_flow": null,
       "grid_auto_rows": null,
       "grid_column": null,
       "grid_gap": null,
       "grid_row": null,
       "grid_template_areas": null,
       "grid_template_columns": null,
       "grid_template_rows": null,
       "height": null,
       "justify_content": null,
       "justify_items": null,
       "left": null,
       "margin": null,
       "max_height": null,
       "max_width": null,
       "min_height": null,
       "min_width": null,
       "object_fit": null,
       "object_position": null,
       "order": null,
       "overflow": null,
       "overflow_x": null,
       "overflow_y": null,
       "padding": null,
       "right": null,
       "top": null,
       "visibility": null,
       "width": null
      }
     },
     "c549a4c3ef254439acc25aebfb871f43": {
      "model_module": "@jupyter-widgets/controls",
      "model_module_version": "1.5.0",
      "model_name": "ProgressStyleModel",
      "state": {
       "_model_module": "@jupyter-widgets/controls",
       "_model_module_version": "1.5.0",
       "_model_name": "ProgressStyleModel",
       "_view_count": null,
       "_view_module": "@jupyter-widgets/base",
       "_view_module_version": "1.2.0",
       "_view_name": "StyleView",
       "bar_color": null,
       "description_width": ""
      }
     },
     "c627e9e474524c71a05fe2b45fd30d91": {
      "model_module": "@jupyter-widgets/controls",
      "model_module_version": "1.5.0",
      "model_name": "HBoxModel",
      "state": {
       "_dom_classes": [],
       "_model_module": "@jupyter-widgets/controls",
       "_model_module_version": "1.5.0",
       "_model_name": "HBoxModel",
       "_view_count": null,
       "_view_module": "@jupyter-widgets/controls",
       "_view_module_version": "1.5.0",
       "_view_name": "HBoxView",
       "box_style": "",
       "children": [
        "IPY_MODEL_da9d77ab4dbf4bb9bfc7e3b259f1ecb5",
        "IPY_MODEL_cdd3a28a65d243ed9779752bc98a77d2",
        "IPY_MODEL_33d8fe989e404c309bbe4275a2a224c2"
       ],
       "layout": "IPY_MODEL_75248e8585364c02ae0b44033b0d3f3f"
      }
     },
     "c86f679648cf468ab3f035c7597d47ce": {
      "model_module": "@jupyter-widgets/controls",
      "model_module_version": "1.5.0",
      "model_name": "DescriptionStyleModel",
      "state": {
       "_model_module": "@jupyter-widgets/controls",
       "_model_module_version": "1.5.0",
       "_model_name": "DescriptionStyleModel",
       "_view_count": null,
       "_view_module": "@jupyter-widgets/base",
       "_view_module_version": "1.2.0",
       "_view_name": "StyleView",
       "description_width": ""
      }
     },
     "caf0bbc1e0384ed9a1d513b757e5b9f1": {
      "model_module": "@jupyter-widgets/base",
      "model_module_version": "1.2.0",
      "model_name": "LayoutModel",
      "state": {
       "_model_module": "@jupyter-widgets/base",
       "_model_module_version": "1.2.0",
       "_model_name": "LayoutModel",
       "_view_count": null,
       "_view_module": "@jupyter-widgets/base",
       "_view_module_version": "1.2.0",
       "_view_name": "LayoutView",
       "align_content": null,
       "align_items": null,
       "align_self": null,
       "border": null,
       "bottom": null,
       "display": null,
       "flex": null,
       "flex_flow": null,
       "grid_area": null,
       "grid_auto_columns": null,
       "grid_auto_flow": null,
       "grid_auto_rows": null,
       "grid_column": null,
       "grid_gap": null,
       "grid_row": null,
       "grid_template_areas": null,
       "grid_template_columns": null,
       "grid_template_rows": null,
       "height": null,
       "justify_content": null,
       "justify_items": null,
       "left": null,
       "margin": null,
       "max_height": null,
       "max_width": null,
       "min_height": null,
       "min_width": null,
       "object_fit": null,
       "object_position": null,
       "order": null,
       "overflow": null,
       "overflow_x": null,
       "overflow_y": null,
       "padding": null,
       "right": null,
       "top": null,
       "visibility": null,
       "width": null
      }
     },
     "cb02c15638f64042b48a404cfe541b6c": {
      "model_module": "@jupyter-widgets/base",
      "model_module_version": "1.2.0",
      "model_name": "LayoutModel",
      "state": {
       "_model_module": "@jupyter-widgets/base",
       "_model_module_version": "1.2.0",
       "_model_name": "LayoutModel",
       "_view_count": null,
       "_view_module": "@jupyter-widgets/base",
       "_view_module_version": "1.2.0",
       "_view_name": "LayoutView",
       "align_content": null,
       "align_items": null,
       "align_self": null,
       "border": null,
       "bottom": null,
       "display": null,
       "flex": null,
       "flex_flow": null,
       "grid_area": null,
       "grid_auto_columns": null,
       "grid_auto_flow": null,
       "grid_auto_rows": null,
       "grid_column": null,
       "grid_gap": null,
       "grid_row": null,
       "grid_template_areas": null,
       "grid_template_columns": null,
       "grid_template_rows": null,
       "height": null,
       "justify_content": null,
       "justify_items": null,
       "left": null,
       "margin": null,
       "max_height": null,
       "max_width": null,
       "min_height": null,
       "min_width": null,
       "object_fit": null,
       "object_position": null,
       "order": null,
       "overflow": null,
       "overflow_x": null,
       "overflow_y": null,
       "padding": null,
       "right": null,
       "top": null,
       "visibility": null,
       "width": null
      }
     },
     "cb3038a2e370431988672df47c774c6d": {
      "model_module": "@jupyter-widgets/base",
      "model_module_version": "1.2.0",
      "model_name": "LayoutModel",
      "state": {
       "_model_module": "@jupyter-widgets/base",
       "_model_module_version": "1.2.0",
       "_model_name": "LayoutModel",
       "_view_count": null,
       "_view_module": "@jupyter-widgets/base",
       "_view_module_version": "1.2.0",
       "_view_name": "LayoutView",
       "align_content": null,
       "align_items": null,
       "align_self": null,
       "border": null,
       "bottom": null,
       "display": null,
       "flex": null,
       "flex_flow": null,
       "grid_area": null,
       "grid_auto_columns": null,
       "grid_auto_flow": null,
       "grid_auto_rows": null,
       "grid_column": null,
       "grid_gap": null,
       "grid_row": null,
       "grid_template_areas": null,
       "grid_template_columns": null,
       "grid_template_rows": null,
       "height": null,
       "justify_content": null,
       "justify_items": null,
       "left": null,
       "margin": null,
       "max_height": null,
       "max_width": null,
       "min_height": null,
       "min_width": null,
       "object_fit": null,
       "object_position": null,
       "order": null,
       "overflow": null,
       "overflow_x": null,
       "overflow_y": null,
       "padding": null,
       "right": null,
       "top": null,
       "visibility": null,
       "width": null
      }
     },
     "cbdae26bc61748a3aa491dbeba6aabd9": {
      "model_module": "@jupyter-widgets/controls",
      "model_module_version": "1.5.0",
      "model_name": "FloatProgressModel",
      "state": {
       "_dom_classes": [],
       "_model_module": "@jupyter-widgets/controls",
       "_model_module_version": "1.5.0",
       "_model_name": "FloatProgressModel",
       "_view_count": null,
       "_view_module": "@jupyter-widgets/controls",
       "_view_module_version": "1.5.0",
       "_view_name": "ProgressView",
       "bar_style": "success",
       "description": "",
       "description_tooltip": null,
       "layout": "IPY_MODEL_1bae0b4edf7947c99c826812ff6a3b3b",
       "max": 78.0,
       "min": 0.0,
       "orientation": "horizontal",
       "style": "IPY_MODEL_7b4f2f912746457aa43e5356374d0f19",
       "value": 78.0
      }
     },
     "cbfa0e483dda4c8da80fd2d0f3aadbc8": {
      "model_module": "@jupyter-widgets/base",
      "model_module_version": "1.2.0",
      "model_name": "LayoutModel",
      "state": {
       "_model_module": "@jupyter-widgets/base",
       "_model_module_version": "1.2.0",
       "_model_name": "LayoutModel",
       "_view_count": null,
       "_view_module": "@jupyter-widgets/base",
       "_view_module_version": "1.2.0",
       "_view_name": "LayoutView",
       "align_content": null,
       "align_items": null,
       "align_self": null,
       "border": null,
       "bottom": null,
       "display": null,
       "flex": null,
       "flex_flow": null,
       "grid_area": null,
       "grid_auto_columns": null,
       "grid_auto_flow": null,
       "grid_auto_rows": null,
       "grid_column": null,
       "grid_gap": null,
       "grid_row": null,
       "grid_template_areas": null,
       "grid_template_columns": null,
       "grid_template_rows": null,
       "height": null,
       "justify_content": null,
       "justify_items": null,
       "left": null,
       "margin": null,
       "max_height": null,
       "max_width": null,
       "min_height": null,
       "min_width": null,
       "object_fit": null,
       "object_position": null,
       "order": null,
       "overflow": null,
       "overflow_x": null,
       "overflow_y": null,
       "padding": null,
       "right": null,
       "top": null,
       "visibility": null,
       "width": null
      }
     },
     "ccf319f467454d139cb96d13ab76c4e8": {
      "model_module": "@jupyter-widgets/base",
      "model_module_version": "1.2.0",
      "model_name": "LayoutModel",
      "state": {
       "_model_module": "@jupyter-widgets/base",
       "_model_module_version": "1.2.0",
       "_model_name": "LayoutModel",
       "_view_count": null,
       "_view_module": "@jupyter-widgets/base",
       "_view_module_version": "1.2.0",
       "_view_name": "LayoutView",
       "align_content": null,
       "align_items": null,
       "align_self": null,
       "border": null,
       "bottom": null,
       "display": null,
       "flex": null,
       "flex_flow": null,
       "grid_area": null,
       "grid_auto_columns": null,
       "grid_auto_flow": null,
       "grid_auto_rows": null,
       "grid_column": null,
       "grid_gap": null,
       "grid_row": null,
       "grid_template_areas": null,
       "grid_template_columns": null,
       "grid_template_rows": null,
       "height": null,
       "justify_content": null,
       "justify_items": null,
       "left": null,
       "margin": null,
       "max_height": null,
       "max_width": null,
       "min_height": null,
       "min_width": null,
       "object_fit": null,
       "object_position": null,
       "order": null,
       "overflow": null,
       "overflow_x": null,
       "overflow_y": null,
       "padding": null,
       "right": null,
       "top": null,
       "visibility": null,
       "width": null
      }
     },
     "cdc4095872b64d1e8bece4d4c08f5ff5": {
      "model_module": "@jupyter-widgets/base",
      "model_module_version": "1.2.0",
      "model_name": "LayoutModel",
      "state": {
       "_model_module": "@jupyter-widgets/base",
       "_model_module_version": "1.2.0",
       "_model_name": "LayoutModel",
       "_view_count": null,
       "_view_module": "@jupyter-widgets/base",
       "_view_module_version": "1.2.0",
       "_view_name": "LayoutView",
       "align_content": null,
       "align_items": null,
       "align_self": null,
       "border": null,
       "bottom": null,
       "display": null,
       "flex": null,
       "flex_flow": null,
       "grid_area": null,
       "grid_auto_columns": null,
       "grid_auto_flow": null,
       "grid_auto_rows": null,
       "grid_column": null,
       "grid_gap": null,
       "grid_row": null,
       "grid_template_areas": null,
       "grid_template_columns": null,
       "grid_template_rows": null,
       "height": null,
       "justify_content": null,
       "justify_items": null,
       "left": null,
       "margin": null,
       "max_height": null,
       "max_width": null,
       "min_height": null,
       "min_width": null,
       "object_fit": null,
       "object_position": null,
       "order": null,
       "overflow": null,
       "overflow_x": null,
       "overflow_y": null,
       "padding": null,
       "right": null,
       "top": null,
       "visibility": null,
       "width": null
      }
     },
     "cdd3a28a65d243ed9779752bc98a77d2": {
      "model_module": "@jupyter-widgets/controls",
      "model_module_version": "1.5.0",
      "model_name": "FloatProgressModel",
      "state": {
       "_dom_classes": [],
       "_model_module": "@jupyter-widgets/controls",
       "_model_module_version": "1.5.0",
       "_model_name": "FloatProgressModel",
       "_view_count": null,
       "_view_module": "@jupyter-widgets/controls",
       "_view_module_version": "1.5.0",
       "_view_name": "ProgressView",
       "bar_style": "success",
       "description": "",
       "description_tooltip": null,
       "layout": "IPY_MODEL_cbfa0e483dda4c8da80fd2d0f3aadbc8",
       "max": 287.0,
       "min": 0.0,
       "orientation": "horizontal",
       "style": "IPY_MODEL_e3617672dca64f598e049e6d614a883e",
       "value": 287.0
      }
     },
     "cdd9c426f41c4666b865db86cc9d1ac9": {
      "model_module": "@jupyter-widgets/controls",
      "model_module_version": "1.5.0",
      "model_name": "ProgressStyleModel",
      "state": {
       "_model_module": "@jupyter-widgets/controls",
       "_model_module_version": "1.5.0",
       "_model_name": "ProgressStyleModel",
       "_view_count": null,
       "_view_module": "@jupyter-widgets/base",
       "_view_module_version": "1.2.0",
       "_view_name": "StyleView",
       "bar_color": null,
       "description_width": ""
      }
     },
     "ce67c4420f5a42afbdc6686fb3eae8fe": {
      "model_module": "@jupyter-widgets/base",
      "model_module_version": "1.2.0",
      "model_name": "LayoutModel",
      "state": {
       "_model_module": "@jupyter-widgets/base",
       "_model_module_version": "1.2.0",
       "_model_name": "LayoutModel",
       "_view_count": null,
       "_view_module": "@jupyter-widgets/base",
       "_view_module_version": "1.2.0",
       "_view_name": "LayoutView",
       "align_content": null,
       "align_items": null,
       "align_self": null,
       "border": null,
       "bottom": null,
       "display": null,
       "flex": null,
       "flex_flow": null,
       "grid_area": null,
       "grid_auto_columns": null,
       "grid_auto_flow": null,
       "grid_auto_rows": null,
       "grid_column": null,
       "grid_gap": null,
       "grid_row": null,
       "grid_template_areas": null,
       "grid_template_columns": null,
       "grid_template_rows": null,
       "height": null,
       "justify_content": null,
       "justify_items": null,
       "left": null,
       "margin": null,
       "max_height": null,
       "max_width": null,
       "min_height": null,
       "min_width": null,
       "object_fit": null,
       "object_position": null,
       "order": null,
       "overflow": null,
       "overflow_x": null,
       "overflow_y": null,
       "padding": null,
       "right": null,
       "top": null,
       "visibility": null,
       "width": null
      }
     },
     "cf5a6eed502b4cff8c8c9da80f590099": {
      "model_module": "@jupyter-widgets/base",
      "model_module_version": "1.2.0",
      "model_name": "LayoutModel",
      "state": {
       "_model_module": "@jupyter-widgets/base",
       "_model_module_version": "1.2.0",
       "_model_name": "LayoutModel",
       "_view_count": null,
       "_view_module": "@jupyter-widgets/base",
       "_view_module_version": "1.2.0",
       "_view_name": "LayoutView",
       "align_content": null,
       "align_items": null,
       "align_self": null,
       "border": null,
       "bottom": null,
       "display": null,
       "flex": null,
       "flex_flow": null,
       "grid_area": null,
       "grid_auto_columns": null,
       "grid_auto_flow": null,
       "grid_auto_rows": null,
       "grid_column": null,
       "grid_gap": null,
       "grid_row": null,
       "grid_template_areas": null,
       "grid_template_columns": null,
       "grid_template_rows": null,
       "height": null,
       "justify_content": null,
       "justify_items": null,
       "left": null,
       "margin": null,
       "max_height": null,
       "max_width": null,
       "min_height": null,
       "min_width": null,
       "object_fit": null,
       "object_position": null,
       "order": null,
       "overflow": null,
       "overflow_x": null,
       "overflow_y": null,
       "padding": null,
       "right": null,
       "top": null,
       "visibility": null,
       "width": null
      }
     },
     "cfb1dcb8be2b447d89559be20f063465": {
      "model_module": "@jupyter-widgets/controls",
      "model_module_version": "1.5.0",
      "model_name": "HTMLModel",
      "state": {
       "_dom_classes": [],
       "_model_module": "@jupyter-widgets/controls",
       "_model_module_version": "1.5.0",
       "_model_name": "HTMLModel",
       "_view_count": null,
       "_view_module": "@jupyter-widgets/controls",
       "_view_module_version": "1.5.0",
       "_view_name": "HTMLView",
       "description": "",
       "description_tooltip": null,
       "layout": "IPY_MODEL_832f9ea5e59a4f909d7b02a303e9314f",
       "placeholder": "​",
       "style": "IPY_MODEL_d692c7cac4ca4346ba91348037fcd9a9",
       "value": "Downloading builder script: "
      }
     },
     "d09bbde215494215bd2eee1f4f2c89ce": {
      "model_module": "@jupyter-widgets/controls",
      "model_module_version": "1.5.0",
      "model_name": "HTMLModel",
      "state": {
       "_dom_classes": [],
       "_model_module": "@jupyter-widgets/controls",
       "_model_module_version": "1.5.0",
       "_model_name": "HTMLModel",
       "_view_count": null,
       "_view_module": "@jupyter-widgets/controls",
       "_view_module_version": "1.5.0",
       "_view_name": "HTMLView",
       "description": "",
       "description_tooltip": null,
       "layout": "IPY_MODEL_532386163a0e4b9781f9f031c37d1088",
       "placeholder": "​",
       "style": "IPY_MODEL_a75c1195c32c4dcba9cdc82bafa9b660",
       "value": "Downloading: 100%"
      }
     },
     "d13aa4d5bac248f2861fe375a974c798": {
      "model_module": "@jupyter-widgets/controls",
      "model_module_version": "1.5.0",
      "model_name": "HBoxModel",
      "state": {
       "_dom_classes": [],
       "_model_module": "@jupyter-widgets/controls",
       "_model_module_version": "1.5.0",
       "_model_name": "HBoxModel",
       "_view_count": null,
       "_view_module": "@jupyter-widgets/controls",
       "_view_module_version": "1.5.0",
       "_view_name": "HBoxView",
       "box_style": "",
       "children": [
        "IPY_MODEL_d78e7fa6199844899530685a1d031b20",
        "IPY_MODEL_1736602e2e6d47d29424f282a058bf25",
        "IPY_MODEL_8363fdfb90784b1998c187b25fdbbc2e"
       ],
       "layout": "IPY_MODEL_e364d2d14d8e4cbab514e1c0e1d1ef1b"
      }
     },
     "d692c7cac4ca4346ba91348037fcd9a9": {
      "model_module": "@jupyter-widgets/controls",
      "model_module_version": "1.5.0",
      "model_name": "DescriptionStyleModel",
      "state": {
       "_model_module": "@jupyter-widgets/controls",
       "_model_module_version": "1.5.0",
       "_model_name": "DescriptionStyleModel",
       "_view_count": null,
       "_view_module": "@jupyter-widgets/base",
       "_view_module_version": "1.2.0",
       "_view_name": "StyleView",
       "description_width": ""
      }
     },
     "d6a2b46728564501bb0e7023075ec81e": {
      "model_module": "@jupyter-widgets/controls",
      "model_module_version": "1.5.0",
      "model_name": "FloatProgressModel",
      "state": {
       "_dom_classes": [],
       "_model_module": "@jupyter-widgets/controls",
       "_model_module_version": "1.5.0",
       "_model_name": "FloatProgressModel",
       "_view_count": null,
       "_view_module": "@jupyter-widgets/controls",
       "_view_module_version": "1.5.0",
       "_view_name": "ProgressView",
       "bar_style": "success",
       "description": "",
       "description_tooltip": null,
       "layout": "IPY_MODEL_8fccc7b4968d48439407219938a8dd31",
       "max": 309.0,
       "min": 0.0,
       "orientation": "horizontal",
       "style": "IPY_MODEL_22ed4ce9dd2a421793e60af142a8bc4b",
       "value": 309.0
      }
     },
     "d7503343717f49dc86a84aa73d03f7a5": {
      "model_module": "@jupyter-widgets/controls",
      "model_module_version": "1.5.0",
      "model_name": "DescriptionStyleModel",
      "state": {
       "_model_module": "@jupyter-widgets/controls",
       "_model_module_version": "1.5.0",
       "_model_name": "DescriptionStyleModel",
       "_view_count": null,
       "_view_module": "@jupyter-widgets/base",
       "_view_module_version": "1.2.0",
       "_view_name": "StyleView",
       "description_width": ""
      }
     },
     "d78e7fa6199844899530685a1d031b20": {
      "model_module": "@jupyter-widgets/controls",
      "model_module_version": "1.5.0",
      "model_name": "HTMLModel",
      "state": {
       "_dom_classes": [],
       "_model_module": "@jupyter-widgets/controls",
       "_model_module_version": "1.5.0",
       "_model_name": "HTMLModel",
       "_view_count": null,
       "_view_module": "@jupyter-widgets/controls",
       "_view_module_version": "1.5.0",
       "_view_name": "HTMLView",
       "description": "",
       "description_tooltip": null,
       "layout": "IPY_MODEL_caf0bbc1e0384ed9a1d513b757e5b9f1",
       "placeholder": "​",
       "style": "IPY_MODEL_569b6059396c4a928a8085a02a41fb72",
       "value": "100%"
      }
     },
     "da3be2d2498f467bbf9b4cfbe4746ee2": {
      "model_module": "@jupyter-widgets/base",
      "model_module_version": "1.2.0",
      "model_name": "LayoutModel",
      "state": {
       "_model_module": "@jupyter-widgets/base",
       "_model_module_version": "1.2.0",
       "_model_name": "LayoutModel",
       "_view_count": null,
       "_view_module": "@jupyter-widgets/base",
       "_view_module_version": "1.2.0",
       "_view_name": "LayoutView",
       "align_content": null,
       "align_items": null,
       "align_self": null,
       "border": null,
       "bottom": null,
       "display": null,
       "flex": null,
       "flex_flow": null,
       "grid_area": null,
       "grid_auto_columns": null,
       "grid_auto_flow": null,
       "grid_auto_rows": null,
       "grid_column": null,
       "grid_gap": null,
       "grid_row": null,
       "grid_template_areas": null,
       "grid_template_columns": null,
       "grid_template_rows": null,
       "height": null,
       "justify_content": null,
       "justify_items": null,
       "left": null,
       "margin": null,
       "max_height": null,
       "max_width": null,
       "min_height": null,
       "min_width": null,
       "object_fit": null,
       "object_position": null,
       "order": null,
       "overflow": null,
       "overflow_x": null,
       "overflow_y": null,
       "padding": null,
       "right": null,
       "top": null,
       "visibility": null,
       "width": null
      }
     },
     "da9d77ab4dbf4bb9bfc7e3b259f1ecb5": {
      "model_module": "@jupyter-widgets/controls",
      "model_module_version": "1.5.0",
      "model_name": "HTMLModel",
      "state": {
       "_dom_classes": [],
       "_model_module": "@jupyter-widgets/controls",
       "_model_module_version": "1.5.0",
       "_model_name": "HTMLModel",
       "_view_count": null,
       "_view_module": "@jupyter-widgets/controls",
       "_view_module_version": "1.5.0",
       "_view_name": "HTMLView",
       "description": "",
       "description_tooltip": null,
       "layout": "IPY_MODEL_52370077a72b4729aef70f01078a5452",
       "placeholder": "​",
       "style": "IPY_MODEL_7484537cb8e2423986b61f01a5f68b2e",
       "value": "Downloading: 100%"
      }
     },
     "daba97661c54491880d16c3cf0e35891": {
      "model_module": "@jupyter-widgets/controls",
      "model_module_version": "1.5.0",
      "model_name": "HBoxModel",
      "state": {
       "_dom_classes": [],
       "_model_module": "@jupyter-widgets/controls",
       "_model_module_version": "1.5.0",
       "_model_name": "HBoxModel",
       "_view_count": null,
       "_view_module": "@jupyter-widgets/controls",
       "_view_module_version": "1.5.0",
       "_view_name": "HBoxView",
       "box_style": "",
       "children": [
        "IPY_MODEL_6d7f152be6a1495a98adde901f0a3d9f",
        "IPY_MODEL_596535e6be3a421aaac9d3d7a0f51c1d",
        "IPY_MODEL_fb5449a2cfc64fb0947e8f349f8cec91"
       ],
       "layout": "IPY_MODEL_89e386e1d0fe4d138c23e2d987845c48"
      }
     },
     "dac532bab0f344438a186aca6c644b36": {
      "model_module": "@jupyter-widgets/controls",
      "model_module_version": "1.5.0",
      "model_name": "HTMLModel",
      "state": {
       "_dom_classes": [],
       "_model_module": "@jupyter-widgets/controls",
       "_model_module_version": "1.5.0",
       "_model_name": "HTMLModel",
       "_view_count": null,
       "_view_module": "@jupyter-widgets/controls",
       "_view_module_version": "1.5.0",
       "_view_name": "HTMLView",
       "description": "",
       "description_tooltip": null,
       "layout": "IPY_MODEL_cb3038a2e370431988672df47c774c6d",
       "placeholder": "​",
       "style": "IPY_MODEL_0085600ddaa9492d852a573b4286c345",
       "value": "100%"
      }
     },
     "db3a6024360d4d36b00832b8fdcb11e1": {
      "model_module": "@jupyter-widgets/controls",
      "model_module_version": "1.5.0",
      "model_name": "DescriptionStyleModel",
      "state": {
       "_model_module": "@jupyter-widgets/controls",
       "_model_module_version": "1.5.0",
       "_model_name": "DescriptionStyleModel",
       "_view_count": null,
       "_view_module": "@jupyter-widgets/base",
       "_view_module_version": "1.2.0",
       "_view_name": "StyleView",
       "description_width": ""
      }
     },
     "dce620278861438db47bb83da556ef39": {
      "model_module": "@jupyter-widgets/controls",
      "model_module_version": "1.5.0",
      "model_name": "FloatProgressModel",
      "state": {
       "_dom_classes": [],
       "_model_module": "@jupyter-widgets/controls",
       "_model_module_version": "1.5.0",
       "_model_name": "FloatProgressModel",
       "_view_count": null,
       "_view_module": "@jupyter-widgets/controls",
       "_view_module_version": "1.5.0",
       "_view_name": "ProgressView",
       "bar_style": "success",
       "description": "",
       "description_tooltip": null,
       "layout": "IPY_MODEL_4cd2f97efef54fa68f8b6a31fbb2e0c4",
       "max": 755.0,
       "min": 0.0,
       "orientation": "horizontal",
       "style": "IPY_MODEL_c549a4c3ef254439acc25aebfb871f43",
       "value": 755.0
      }
     },
     "de907fec22ca4bc6a32ea5b825b9665d": {
      "model_module": "@jupyter-widgets/controls",
      "model_module_version": "1.5.0",
      "model_name": "HBoxModel",
      "state": {
       "_dom_classes": [],
       "_model_module": "@jupyter-widgets/controls",
       "_model_module_version": "1.5.0",
       "_model_name": "HBoxModel",
       "_view_count": null,
       "_view_module": "@jupyter-widgets/controls",
       "_view_module_version": "1.5.0",
       "_view_name": "HBoxView",
       "box_style": "",
       "children": [
        "IPY_MODEL_d09bbde215494215bd2eee1f4f2c89ce",
        "IPY_MODEL_15c9f56b88b246448f645b06fbbebf3f",
        "IPY_MODEL_a1de99d6787643129bc19c0749b509ab"
       ],
       "layout": "IPY_MODEL_cf5a6eed502b4cff8c8c9da80f590099"
      }
     },
     "ded52e95e4fd4907b43654d235c29c41": {
      "model_module": "@jupyter-widgets/base",
      "model_module_version": "1.2.0",
      "model_name": "LayoutModel",
      "state": {
       "_model_module": "@jupyter-widgets/base",
       "_model_module_version": "1.2.0",
       "_model_name": "LayoutModel",
       "_view_count": null,
       "_view_module": "@jupyter-widgets/base",
       "_view_module_version": "1.2.0",
       "_view_name": "LayoutView",
       "align_content": null,
       "align_items": null,
       "align_self": null,
       "border": null,
       "bottom": null,
       "display": null,
       "flex": null,
       "flex_flow": null,
       "grid_area": null,
       "grid_auto_columns": null,
       "grid_auto_flow": null,
       "grid_auto_rows": null,
       "grid_column": null,
       "grid_gap": null,
       "grid_row": null,
       "grid_template_areas": null,
       "grid_template_columns": null,
       "grid_template_rows": null,
       "height": null,
       "justify_content": null,
       "justify_items": null,
       "left": null,
       "margin": null,
       "max_height": null,
       "max_width": null,
       "min_height": null,
       "min_width": null,
       "object_fit": null,
       "object_position": null,
       "order": null,
       "overflow": null,
       "overflow_x": null,
       "overflow_y": null,
       "padding": null,
       "right": null,
       "top": null,
       "visibility": null,
       "width": null
      }
     },
     "df4d4ef46f6348f2b69940e6077de594": {
      "model_module": "@jupyter-widgets/controls",
      "model_module_version": "1.5.0",
      "model_name": "DescriptionStyleModel",
      "state": {
       "_model_module": "@jupyter-widgets/controls",
       "_model_module_version": "1.5.0",
       "_model_name": "DescriptionStyleModel",
       "_view_count": null,
       "_view_module": "@jupyter-widgets/base",
       "_view_module_version": "1.2.0",
       "_view_name": "StyleView",
       "description_width": ""
      }
     },
     "df5cfd53657648df883ea79a5943b5cd": {
      "model_module": "@jupyter-widgets/base",
      "model_module_version": "1.2.0",
      "model_name": "LayoutModel",
      "state": {
       "_model_module": "@jupyter-widgets/base",
       "_model_module_version": "1.2.0",
       "_model_name": "LayoutModel",
       "_view_count": null,
       "_view_module": "@jupyter-widgets/base",
       "_view_module_version": "1.2.0",
       "_view_name": "LayoutView",
       "align_content": null,
       "align_items": null,
       "align_self": null,
       "border": null,
       "bottom": null,
       "display": null,
       "flex": null,
       "flex_flow": null,
       "grid_area": null,
       "grid_auto_columns": null,
       "grid_auto_flow": null,
       "grid_auto_rows": null,
       "grid_column": null,
       "grid_gap": null,
       "grid_row": null,
       "grid_template_areas": null,
       "grid_template_columns": null,
       "grid_template_rows": null,
       "height": null,
       "justify_content": null,
       "justify_items": null,
       "left": null,
       "margin": null,
       "max_height": null,
       "max_width": null,
       "min_height": null,
       "min_width": null,
       "object_fit": null,
       "object_position": null,
       "order": null,
       "overflow": null,
       "overflow_x": null,
       "overflow_y": null,
       "padding": null,
       "right": null,
       "top": null,
       "visibility": null,
       "width": null
      }
     },
     "e069831619aa438380b630ec89b72f60": {
      "model_module": "@jupyter-widgets/controls",
      "model_module_version": "1.5.0",
      "model_name": "DescriptionStyleModel",
      "state": {
       "_model_module": "@jupyter-widgets/controls",
       "_model_module_version": "1.5.0",
       "_model_name": "DescriptionStyleModel",
       "_view_count": null,
       "_view_module": "@jupyter-widgets/base",
       "_view_module_version": "1.2.0",
       "_view_name": "StyleView",
       "description_width": ""
      }
     },
     "e07b0689b59a4c8ba3d9ff78143eaf44": {
      "model_module": "@jupyter-widgets/controls",
      "model_module_version": "1.5.0",
      "model_name": "DescriptionStyleModel",
      "state": {
       "_model_module": "@jupyter-widgets/controls",
       "_model_module_version": "1.5.0",
       "_model_name": "DescriptionStyleModel",
       "_view_count": null,
       "_view_module": "@jupyter-widgets/base",
       "_view_module_version": "1.2.0",
       "_view_name": "StyleView",
       "description_width": ""
      }
     },
     "e125af79f4604aacb95037bde15e4c73": {
      "model_module": "@jupyter-widgets/controls",
      "model_module_version": "1.5.0",
      "model_name": "ProgressStyleModel",
      "state": {
       "_model_module": "@jupyter-widgets/controls",
       "_model_module_version": "1.5.0",
       "_model_name": "ProgressStyleModel",
       "_view_count": null,
       "_view_module": "@jupyter-widgets/base",
       "_view_module_version": "1.2.0",
       "_view_name": "StyleView",
       "bar_color": null,
       "description_width": ""
      }
     },
     "e1d50c3462444301ad80dc75cdee1803": {
      "model_module": "@jupyter-widgets/controls",
      "model_module_version": "1.5.0",
      "model_name": "FloatProgressModel",
      "state": {
       "_dom_classes": [],
       "_model_module": "@jupyter-widgets/controls",
       "_model_module_version": "1.5.0",
       "_model_name": "FloatProgressModel",
       "_view_count": null,
       "_view_module": "@jupyter-widgets/controls",
       "_view_module_version": "1.5.0",
       "_view_name": "ProgressView",
       "bar_style": "success",
       "description": "",
       "description_tooltip": null,
       "layout": "IPY_MODEL_629569c2401245f3aa9440308287a90f",
       "max": 25.0,
       "min": 0.0,
       "orientation": "horizontal",
       "style": "IPY_MODEL_4145b68c8d8849128a75a4448cec02d1",
       "value": 25.0
      }
     },
     "e3617672dca64f598e049e6d614a883e": {
      "model_module": "@jupyter-widgets/controls",
      "model_module_version": "1.5.0",
      "model_name": "ProgressStyleModel",
      "state": {
       "_model_module": "@jupyter-widgets/controls",
       "_model_module_version": "1.5.0",
       "_model_name": "ProgressStyleModel",
       "_view_count": null,
       "_view_module": "@jupyter-widgets/base",
       "_view_module_version": "1.2.0",
       "_view_name": "StyleView",
       "bar_color": null,
       "description_width": ""
      }
     },
     "e364d2d14d8e4cbab514e1c0e1d1ef1b": {
      "model_module": "@jupyter-widgets/base",
      "model_module_version": "1.2.0",
      "model_name": "LayoutModel",
      "state": {
       "_model_module": "@jupyter-widgets/base",
       "_model_module_version": "1.2.0",
       "_model_name": "LayoutModel",
       "_view_count": null,
       "_view_module": "@jupyter-widgets/base",
       "_view_module_version": "1.2.0",
       "_view_name": "LayoutView",
       "align_content": null,
       "align_items": null,
       "align_self": null,
       "border": null,
       "bottom": null,
       "display": null,
       "flex": null,
       "flex_flow": null,
       "grid_area": null,
       "grid_auto_columns": null,
       "grid_auto_flow": null,
       "grid_auto_rows": null,
       "grid_column": null,
       "grid_gap": null,
       "grid_row": null,
       "grid_template_areas": null,
       "grid_template_columns": null,
       "grid_template_rows": null,
       "height": null,
       "justify_content": null,
       "justify_items": null,
       "left": null,
       "margin": null,
       "max_height": null,
       "max_width": null,
       "min_height": null,
       "min_width": null,
       "object_fit": null,
       "object_position": null,
       "order": null,
       "overflow": null,
       "overflow_x": null,
       "overflow_y": null,
       "padding": null,
       "right": null,
       "top": null,
       "visibility": null,
       "width": null
      }
     },
     "e4db96cd864a40a99b6fe2146b2bcb45": {
      "model_module": "@jupyter-widgets/controls",
      "model_module_version": "1.5.0",
      "model_name": "ProgressStyleModel",
      "state": {
       "_model_module": "@jupyter-widgets/controls",
       "_model_module_version": "1.5.0",
       "_model_name": "ProgressStyleModel",
       "_view_count": null,
       "_view_module": "@jupyter-widgets/base",
       "_view_module_version": "1.2.0",
       "_view_name": "StyleView",
       "bar_color": null,
       "description_width": ""
      }
     },
     "e591ce00ebb9429ab60ea56207748ab9": {
      "model_module": "@jupyter-widgets/base",
      "model_module_version": "1.2.0",
      "model_name": "LayoutModel",
      "state": {
       "_model_module": "@jupyter-widgets/base",
       "_model_module_version": "1.2.0",
       "_model_name": "LayoutModel",
       "_view_count": null,
       "_view_module": "@jupyter-widgets/base",
       "_view_module_version": "1.2.0",
       "_view_name": "LayoutView",
       "align_content": null,
       "align_items": null,
       "align_self": null,
       "border": null,
       "bottom": null,
       "display": null,
       "flex": null,
       "flex_flow": null,
       "grid_area": null,
       "grid_auto_columns": null,
       "grid_auto_flow": null,
       "grid_auto_rows": null,
       "grid_column": null,
       "grid_gap": null,
       "grid_row": null,
       "grid_template_areas": null,
       "grid_template_columns": null,
       "grid_template_rows": null,
       "height": null,
       "justify_content": null,
       "justify_items": null,
       "left": null,
       "margin": null,
       "max_height": null,
       "max_width": null,
       "min_height": null,
       "min_width": null,
       "object_fit": null,
       "object_position": null,
       "order": null,
       "overflow": null,
       "overflow_x": null,
       "overflow_y": null,
       "padding": null,
       "right": null,
       "top": null,
       "visibility": null,
       "width": null
      }
     },
     "e5fb38b2800b4aa682a79e7853cb6549": {
      "model_module": "@jupyter-widgets/base",
      "model_module_version": "1.2.0",
      "model_name": "LayoutModel",
      "state": {
       "_model_module": "@jupyter-widgets/base",
       "_model_module_version": "1.2.0",
       "_model_name": "LayoutModel",
       "_view_count": null,
       "_view_module": "@jupyter-widgets/base",
       "_view_module_version": "1.2.0",
       "_view_name": "LayoutView",
       "align_content": null,
       "align_items": null,
       "align_self": null,
       "border": null,
       "bottom": null,
       "display": null,
       "flex": null,
       "flex_flow": null,
       "grid_area": null,
       "grid_auto_columns": null,
       "grid_auto_flow": null,
       "grid_auto_rows": null,
       "grid_column": null,
       "grid_gap": null,
       "grid_row": null,
       "grid_template_areas": null,
       "grid_template_columns": null,
       "grid_template_rows": null,
       "height": null,
       "justify_content": null,
       "justify_items": null,
       "left": null,
       "margin": null,
       "max_height": null,
       "max_width": null,
       "min_height": null,
       "min_width": null,
       "object_fit": null,
       "object_position": null,
       "order": null,
       "overflow": null,
       "overflow_x": null,
       "overflow_y": null,
       "padding": null,
       "right": null,
       "top": null,
       "visibility": null,
       "width": null
      }
     },
     "e898699406534223a2c4783d19f33337": {
      "model_module": "@jupyter-widgets/controls",
      "model_module_version": "1.5.0",
      "model_name": "FloatProgressModel",
      "state": {
       "_dom_classes": [],
       "_model_module": "@jupyter-widgets/controls",
       "_model_module_version": "1.5.0",
       "_model_name": "FloatProgressModel",
       "_view_count": null,
       "_view_module": "@jupyter-widgets/controls",
       "_view_module_version": "1.5.0",
       "_view_name": "ProgressView",
       "bar_style": "success",
       "description": "",
       "description_tooltip": null,
       "layout": "IPY_MODEL_27ad482a2c4341bdbd40e2222566ee7a",
       "max": 78.0,
       "min": 0.0,
       "orientation": "horizontal",
       "style": "IPY_MODEL_e4db96cd864a40a99b6fe2146b2bcb45",
       "value": 78.0
      }
     },
     "e8e57fea1ca4416386b9205ac7c524f0": {
      "model_module": "@jupyter-widgets/base",
      "model_module_version": "1.2.0",
      "model_name": "LayoutModel",
      "state": {
       "_model_module": "@jupyter-widgets/base",
       "_model_module_version": "1.2.0",
       "_model_name": "LayoutModel",
       "_view_count": null,
       "_view_module": "@jupyter-widgets/base",
       "_view_module_version": "1.2.0",
       "_view_name": "LayoutView",
       "align_content": null,
       "align_items": null,
       "align_self": null,
       "border": null,
       "bottom": null,
       "display": null,
       "flex": null,
       "flex_flow": null,
       "grid_area": null,
       "grid_auto_columns": null,
       "grid_auto_flow": null,
       "grid_auto_rows": null,
       "grid_column": null,
       "grid_gap": null,
       "grid_row": null,
       "grid_template_areas": null,
       "grid_template_columns": null,
       "grid_template_rows": null,
       "height": null,
       "justify_content": null,
       "justify_items": null,
       "left": null,
       "margin": null,
       "max_height": null,
       "max_width": null,
       "min_height": null,
       "min_width": null,
       "object_fit": null,
       "object_position": null,
       "order": null,
       "overflow": null,
       "overflow_x": null,
       "overflow_y": null,
       "padding": null,
       "right": null,
       "top": null,
       "visibility": null,
       "width": null
      }
     },
     "ea468aba80a54789b908cdcfc57e0423": {
      "model_module": "@jupyter-widgets/base",
      "model_module_version": "1.2.0",
      "model_name": "LayoutModel",
      "state": {
       "_model_module": "@jupyter-widgets/base",
       "_model_module_version": "1.2.0",
       "_model_name": "LayoutModel",
       "_view_count": null,
       "_view_module": "@jupyter-widgets/base",
       "_view_module_version": "1.2.0",
       "_view_name": "LayoutView",
       "align_content": null,
       "align_items": null,
       "align_self": null,
       "border": null,
       "bottom": null,
       "display": null,
       "flex": null,
       "flex_flow": null,
       "grid_area": null,
       "grid_auto_columns": null,
       "grid_auto_flow": null,
       "grid_auto_rows": null,
       "grid_column": null,
       "grid_gap": null,
       "grid_row": null,
       "grid_template_areas": null,
       "grid_template_columns": null,
       "grid_template_rows": null,
       "height": null,
       "justify_content": null,
       "justify_items": null,
       "left": null,
       "margin": null,
       "max_height": null,
       "max_width": null,
       "min_height": null,
       "min_width": null,
       "object_fit": null,
       "object_position": null,
       "order": null,
       "overflow": null,
       "overflow_x": null,
       "overflow_y": null,
       "padding": null,
       "right": null,
       "top": null,
       "visibility": null,
       "width": null
      }
     },
     "eeeaa2bf340b412f998ef236be347723": {
      "model_module": "@jupyter-widgets/controls",
      "model_module_version": "1.5.0",
      "model_name": "HBoxModel",
      "state": {
       "_dom_classes": [],
       "_model_module": "@jupyter-widgets/controls",
       "_model_module_version": "1.5.0",
       "_model_name": "HBoxModel",
       "_view_count": null,
       "_view_module": "@jupyter-widgets/controls",
       "_view_module_version": "1.5.0",
       "_view_name": "HBoxView",
       "box_style": "",
       "children": [
        "IPY_MODEL_6e499ac425ef4fe981d3005e0dbc286d",
        "IPY_MODEL_94bb108e9d7c4746ac03745aede6df5e",
        "IPY_MODEL_f8702a15de3f401c8abec5a12cdda54d"
       ],
       "layout": "IPY_MODEL_68c2ea240b3346baa1b1fe1926672a30"
      }
     },
     "f27fd090972d48c7b186143eb6221152": {
      "model_module": "@jupyter-widgets/base",
      "model_module_version": "1.2.0",
      "model_name": "LayoutModel",
      "state": {
       "_model_module": "@jupyter-widgets/base",
       "_model_module_version": "1.2.0",
       "_model_name": "LayoutModel",
       "_view_count": null,
       "_view_module": "@jupyter-widgets/base",
       "_view_module_version": "1.2.0",
       "_view_name": "LayoutView",
       "align_content": null,
       "align_items": null,
       "align_self": null,
       "border": null,
       "bottom": null,
       "display": null,
       "flex": null,
       "flex_flow": null,
       "grid_area": null,
       "grid_auto_columns": null,
       "grid_auto_flow": null,
       "grid_auto_rows": null,
       "grid_column": null,
       "grid_gap": null,
       "grid_row": null,
       "grid_template_areas": null,
       "grid_template_columns": null,
       "grid_template_rows": null,
       "height": null,
       "justify_content": null,
       "justify_items": null,
       "left": null,
       "margin": null,
       "max_height": null,
       "max_width": null,
       "min_height": null,
       "min_width": null,
       "object_fit": null,
       "object_position": null,
       "order": null,
       "overflow": null,
       "overflow_x": null,
       "overflow_y": null,
       "padding": null,
       "right": null,
       "top": null,
       "visibility": null,
       "width": null
      }
     },
     "f5390ace1c7a4c90bafe6baaba0cb0b3": {
      "model_module": "@jupyter-widgets/controls",
      "model_module_version": "1.5.0",
      "model_name": "HTMLModel",
      "state": {
       "_dom_classes": [],
       "_model_module": "@jupyter-widgets/controls",
       "_model_module_version": "1.5.0",
       "_model_name": "HTMLModel",
       "_view_count": null,
       "_view_module": "@jupyter-widgets/controls",
       "_view_module_version": "1.5.0",
       "_view_name": "HTMLView",
       "description": "",
       "description_tooltip": null,
       "layout": "IPY_MODEL_678fa416bc4d4b0ab329749fdb83661d",
       "placeholder": "​",
       "style": "IPY_MODEL_db3a6024360d4d36b00832b8fdcb11e1",
       "value": " 7747/7747 [00:00&lt;00:00, 107864.35it/s]"
      }
     },
     "f61461dccaf4424093d620c98e718f7c": {
      "model_module": "@jupyter-widgets/base",
      "model_module_version": "1.2.0",
      "model_name": "LayoutModel",
      "state": {
       "_model_module": "@jupyter-widgets/base",
       "_model_module_version": "1.2.0",
       "_model_name": "LayoutModel",
       "_view_count": null,
       "_view_module": "@jupyter-widgets/base",
       "_view_module_version": "1.2.0",
       "_view_name": "LayoutView",
       "align_content": null,
       "align_items": null,
       "align_self": null,
       "border": null,
       "bottom": null,
       "display": null,
       "flex": null,
       "flex_flow": null,
       "grid_area": null,
       "grid_auto_columns": null,
       "grid_auto_flow": null,
       "grid_auto_rows": null,
       "grid_column": null,
       "grid_gap": null,
       "grid_row": null,
       "grid_template_areas": null,
       "grid_template_columns": null,
       "grid_template_rows": null,
       "height": null,
       "justify_content": null,
       "justify_items": null,
       "left": null,
       "margin": null,
       "max_height": null,
       "max_width": null,
       "min_height": null,
       "min_width": null,
       "object_fit": null,
       "object_position": null,
       "order": null,
       "overflow": null,
       "overflow_x": null,
       "overflow_y": null,
       "padding": null,
       "right": null,
       "top": null,
       "visibility": null,
       "width": null
      }
     },
     "f7a0b98bd1554496a25db285a7a798d5": {
      "model_module": "@jupyter-widgets/controls",
      "model_module_version": "1.5.0",
      "model_name": "DescriptionStyleModel",
      "state": {
       "_model_module": "@jupyter-widgets/controls",
       "_model_module_version": "1.5.0",
       "_model_name": "DescriptionStyleModel",
       "_view_count": null,
       "_view_module": "@jupyter-widgets/base",
       "_view_module_version": "1.2.0",
       "_view_name": "StyleView",
       "description_width": ""
      }
     },
     "f8702a15de3f401c8abec5a12cdda54d": {
      "model_module": "@jupyter-widgets/controls",
      "model_module_version": "1.5.0",
      "model_name": "HTMLModel",
      "state": {
       "_dom_classes": [],
       "_model_module": "@jupyter-widgets/controls",
       "_model_module_version": "1.5.0",
       "_model_name": "HTMLModel",
       "_view_count": null,
       "_view_module": "@jupyter-widgets/controls",
       "_view_module_version": "1.5.0",
       "_view_name": "HTMLView",
       "description": "",
       "description_tooltip": null,
       "layout": "IPY_MODEL_879c7727bd6e4850ac1e02d52b332feb",
       "placeholder": "​",
       "style": "IPY_MODEL_234b3f34a5064b958b664ffbca3df35a",
       "value": " 1.18G/1.18G [00:43&lt;00:00, 31.7MB/s]"
      }
     },
     "f977ebc942004423a4b26659c6dd0aec": {
      "model_module": "@jupyter-widgets/base",
      "model_module_version": "1.2.0",
      "model_name": "LayoutModel",
      "state": {
       "_model_module": "@jupyter-widgets/base",
       "_model_module_version": "1.2.0",
       "_model_name": "LayoutModel",
       "_view_count": null,
       "_view_module": "@jupyter-widgets/base",
       "_view_module_version": "1.2.0",
       "_view_name": "LayoutView",
       "align_content": null,
       "align_items": null,
       "align_self": null,
       "border": null,
       "bottom": null,
       "display": null,
       "flex": null,
       "flex_flow": null,
       "grid_area": null,
       "grid_auto_columns": null,
       "grid_auto_flow": null,
       "grid_auto_rows": null,
       "grid_column": null,
       "grid_gap": null,
       "grid_row": null,
       "grid_template_areas": null,
       "grid_template_columns": null,
       "grid_template_rows": null,
       "height": null,
       "justify_content": null,
       "justify_items": null,
       "left": null,
       "margin": null,
       "max_height": null,
       "max_width": null,
       "min_height": null,
       "min_width": null,
       "object_fit": null,
       "object_position": null,
       "order": null,
       "overflow": null,
       "overflow_x": null,
       "overflow_y": null,
       "padding": null,
       "right": null,
       "top": null,
       "visibility": null,
       "width": null
      }
     },
     "fa8df099874141ad971ae14b1b268db3": {
      "model_module": "@jupyter-widgets/base",
      "model_module_version": "1.2.0",
      "model_name": "LayoutModel",
      "state": {
       "_model_module": "@jupyter-widgets/base",
       "_model_module_version": "1.2.0",
       "_model_name": "LayoutModel",
       "_view_count": null,
       "_view_module": "@jupyter-widgets/base",
       "_view_module_version": "1.2.0",
       "_view_name": "LayoutView",
       "align_content": null,
       "align_items": null,
       "align_self": null,
       "border": null,
       "bottom": null,
       "display": null,
       "flex": null,
       "flex_flow": null,
       "grid_area": null,
       "grid_auto_columns": null,
       "grid_auto_flow": null,
       "grid_auto_rows": null,
       "grid_column": null,
       "grid_gap": null,
       "grid_row": null,
       "grid_template_areas": null,
       "grid_template_columns": null,
       "grid_template_rows": null,
       "height": null,
       "justify_content": null,
       "justify_items": null,
       "left": null,
       "margin": null,
       "max_height": null,
       "max_width": null,
       "min_height": null,
       "min_width": null,
       "object_fit": null,
       "object_position": null,
       "order": null,
       "overflow": null,
       "overflow_x": null,
       "overflow_y": null,
       "padding": null,
       "right": null,
       "top": null,
       "visibility": null,
       "width": null
      }
     },
     "fb5449a2cfc64fb0947e8f349f8cec91": {
      "model_module": "@jupyter-widgets/controls",
      "model_module_version": "1.5.0",
      "model_name": "HTMLModel",
      "state": {
       "_dom_classes": [],
       "_model_module": "@jupyter-widgets/controls",
       "_model_module_version": "1.5.0",
       "_model_name": "HTMLModel",
       "_view_count": null,
       "_view_module": "@jupyter-widgets/controls",
       "_view_module_version": "1.5.0",
       "_view_name": "HTMLView",
       "description": "",
       "description_tooltip": null,
       "layout": "IPY_MODEL_44ede156c7de42aabf585c4b4b52c533",
       "placeholder": "​",
       "style": "IPY_MODEL_c86f679648cf468ab3f035c7597d47ce",
       "value": " 57.2M/57.2M [00:02&lt;00:00, 21.2MB/s]"
      }
     }
    },
    "version_major": 2,
    "version_minor": 0
   }
  }
 },
 "nbformat": 4,
 "nbformat_minor": 5
}
